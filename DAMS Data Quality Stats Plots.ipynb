{
 "cells": [
  {
   "cell_type": "code",
   "execution_count": 54,
   "id": "df262da1",
   "metadata": {
    "tags": [
     "remove-cell"
    ]
   },
   "outputs": [],
   "source": [
    "import json, glob, csv\n",
    "import pprint\n",
    "import pandas as pd\n",
    "from pandas.io.json import json_normalize  \n",
    "from pathlib import Path\n",
    "from ast import literal_eval\n",
    "from IPython.display import display\n",
    "import matplotlib.pyplot as plt\n",
    "import seaborn as sn\n",
    "from collections import Counter\n",
    "import re"
   ]
  },
  {
   "cell_type": "code",
   "execution_count": 89,
   "id": "4db8ab24",
   "metadata": {
    "tags": [
     "hide-input"
    ]
   },
   "outputs": [],
   "source": [
    "from IPython.core.display import display, HTML\n",
    "\n",
    "def display_side_by_side(dfs:list, captions:list):\n",
    "    \"\"\"Display tables side by side to save vertical space\n",
    "    Input:\n",
    "        dfs: list of pandas.DataFrame\n",
    "        captions: list of table captions\n",
    "    \"\"\"\n",
    "    output = \"\"\n",
    "    combined = dict(zip(captions, dfs))\n",
    "    for caption, df in combined.items():\n",
    "        cm = sn.light_palette(\"red\", as_cmap=True)\n",
    "        output += df.style.format(precision=3).background_gradient(cmap=cm).set_table_attributes(\"style='display:inline'\").set_caption(caption)._repr_html_()\n",
    "        output += \"\\xa0\\xa0\\xa0\"\n",
    "    display(HTML(output))"
   ]
  },
  {
   "cell_type": "code",
   "execution_count": 90,
   "id": "bae9005b",
   "metadata": {
    "tags": [
     "hide-input"
    ]
   },
   "outputs": [
    {
     "data": {
      "text/html": [
       "<style type=\"text/css\">\n",
       "#T_d1410_row0_col1 {\n",
       "  background-color: #ff0000;\n",
       "  color: #f1f1f1;\n",
       "}\n",
       "#T_d1410_row1_col1 {\n",
       "  background-color: #f79897;\n",
       "  color: #000000;\n",
       "}\n",
       "#T_d1410_row2_col1 {\n",
       "  background-color: #f3e8e8;\n",
       "  color: #000000;\n",
       "}\n",
       "#T_d1410_row3_col1 {\n",
       "  background-color: #f3eeee;\n",
       "  color: #000000;\n",
       "}\n",
       "#T_d1410_row4_col1 {\n",
       "  background-color: #f3f0f0;\n",
       "  color: #000000;\n",
       "}\n",
       "</style>\n",
       "<table id=\"T_d1410_\" style='display:inline'>\n",
       "  <caption>image_creationtype</caption>\n",
       "  <thead>\n",
       "    <tr>\n",
       "      <th class=\"blank level0\" >&nbsp;</th>\n",
       "      <th class=\"col_heading level0 col0\" >Creation type</th>\n",
       "      <th class=\"col_heading level0 col1\" >count</th>\n",
       "    </tr>\n",
       "  </thead>\n",
       "  <tbody>\n",
       "    <tr>\n",
       "      <th id=\"T_d1410_level0_row0\" class=\"row_heading level0 row0\" >0</th>\n",
       "      <td id=\"T_d1410_row0_col0\" class=\"data row0 col0\" >Record photography</td>\n",
       "      <td id=\"T_d1410_row0_col1\" class=\"data row0 col1\" >146717</td>\n",
       "    </tr>\n",
       "    <tr>\n",
       "      <th id=\"T_d1410_level0_row1\" class=\"row_heading level0 row1\" >1</th>\n",
       "      <td id=\"T_d1410_row1_col0\" class=\"data row1 col0\" >Professional (internal)</td>\n",
       "      <td id=\"T_d1410_row1_col1\" class=\"data row1 col1\" >54678</td>\n",
       "    </tr>\n",
       "    <tr>\n",
       "      <th id=\"T_d1410_level0_row2\" class=\"row_heading level0 row2\" >2</th>\n",
       "      <td id=\"T_d1410_row2_col0\" class=\"data row2 col0\" >Scanned</td>\n",
       "      <td id=\"T_d1410_row2_col1\" class=\"data row2 col1\" >5483</td>\n",
       "    </tr>\n",
       "    <tr>\n",
       "      <th id=\"T_d1410_level0_row3\" class=\"row_heading level0 row3\" >3</th>\n",
       "      <td id=\"T_d1410_row3_col0\" class=\"data row3 col0\" >Record</td>\n",
       "      <td id=\"T_d1410_row3_col1\" class=\"data row3 col1\" >2067</td>\n",
       "    </tr>\n",
       "    <tr>\n",
       "      <th id=\"T_d1410_level0_row4\" class=\"row_heading level0 row4\" >4</th>\n",
       "      <td id=\"T_d1410_row4_col0\" class=\"data row4 col0\" >Original</td>\n",
       "      <td id=\"T_d1410_row4_col1\" class=\"data row4 col1\" >457</td>\n",
       "    </tr>\n",
       "  </tbody>\n",
       "</table>\n",
       "   <style type=\"text/css\">\n",
       "#T_7a4fe_row0_col1 {\n",
       "  background-color: #ff0000;\n",
       "  color: #f1f1f1;\n",
       "}\n",
       "#T_7a4fe_row1_col1 {\n",
       "  background-color: #f4e0e0;\n",
       "  color: #000000;\n",
       "}\n",
       "#T_7a4fe_row2_col1 {\n",
       "  background-color: #f3ebeb;\n",
       "  color: #000000;\n",
       "}\n",
       "#T_7a4fe_row3_col1, #T_7a4fe_row4_col1 {\n",
       "  background-color: #f3f0f0;\n",
       "  color: #000000;\n",
       "}\n",
       "</style>\n",
       "<table id=\"T_7a4fe_\" style='display:inline'>\n",
       "  <caption>image_ownership</caption>\n",
       "  <thead>\n",
       "    <tr>\n",
       "      <th class=\"blank level0\" >&nbsp;</th>\n",
       "      <th class=\"col_heading level0 col0\" >Asset Ownership Name</th>\n",
       "      <th class=\"col_heading level0 col1\" >count</th>\n",
       "    </tr>\n",
       "  </thead>\n",
       "  <tbody>\n",
       "    <tr>\n",
       "      <th id=\"T_7a4fe_level0_row0\" class=\"row_heading level0 row0\" >0</th>\n",
       "      <td id=\"T_7a4fe_row0_col0\" class=\"data row0 col0\" >Photographic Studio</td>\n",
       "      <td id=\"T_7a4fe_row0_col1\" class=\"data row0 col1\" >925623</td>\n",
       "    </tr>\n",
       "    <tr>\n",
       "      <th id=\"T_7a4fe_level0_row1\" class=\"row_heading level0 row1\" >1</th>\n",
       "      <td id=\"T_7a4fe_row1_col0\" class=\"data row1 col0\" >Multimedia & Social Documentary</td>\n",
       "      <td id=\"T_7a4fe_row1_col1\" class=\"data row1 col1\" >128124</td>\n",
       "    </tr>\n",
       "    <tr>\n",
       "      <th id=\"T_7a4fe_level0_row2\" class=\"row_heading level0 row2\" >2</th>\n",
       "      <td id=\"T_7a4fe_row2_col0\" class=\"data row2 col0\" >Textiles & Fashion</td>\n",
       "      <td id=\"T_7a4fe_row2_col1\" class=\"data row2 col1\" >85379</td>\n",
       "    </tr>\n",
       "    <tr>\n",
       "      <th id=\"T_7a4fe_level0_row3\" class=\"row_heading level0 row3\" >3</th>\n",
       "      <td id=\"T_7a4fe_row3_col0\" class=\"data row3 col0\" >Multimedia & Social Documentary</td>\n",
       "      <td id=\"T_7a4fe_row3_col1\" class=\"data row3 col1\" >69390</td>\n",
       "    </tr>\n",
       "    <tr>\n",
       "      <th id=\"T_7a4fe_level0_row4\" class=\"row_heading level0 row4\" >4</th>\n",
       "      <td id=\"T_7a4fe_row4_col0\" class=\"data row4 col0\" >Conservation</td>\n",
       "      <td id=\"T_7a4fe_row4_col1\" class=\"data row4 col1\" >68408</td>\n",
       "    </tr>\n",
       "  </tbody>\n",
       "</table>\n",
       "   <style type=\"text/css\">\n",
       "#T_54308_row0_col1 {\n",
       "  background-color: #ff0000;\n",
       "  color: #f1f1f1;\n",
       "}\n",
       "#T_54308_row1_col1, #T_54308_row2_col1, #T_54308_row3_col1, #T_54308_row4_col1 {\n",
       "  background-color: #f3f0f0;\n",
       "  color: #000000;\n",
       "}\n",
       "</style>\n",
       "<table id=\"T_54308_\" style='display:inline'>\n",
       "  <caption>image_assettype</caption>\n",
       "  <thead>\n",
       "    <tr>\n",
       "      <th class=\"blank level0\" >&nbsp;</th>\n",
       "      <th class=\"col_heading level0 col0\" >Asset Type</th>\n",
       "      <th class=\"col_heading level0 col1\" >count</th>\n",
       "    </tr>\n",
       "  </thead>\n",
       "  <tbody>\n",
       "    <tr>\n",
       "      <th id=\"T_54308_level0_row0\" class=\"row_heading level0 row0\" >0</th>\n",
       "      <td id=\"T_54308_row0_col0\" class=\"data row0 col0\" >Image</td>\n",
       "      <td id=\"T_54308_row0_col1\" class=\"data row0 col1\" >1740752</td>\n",
       "    </tr>\n",
       "    <tr>\n",
       "      <th id=\"T_54308_level0_row1\" class=\"row_heading level0 row1\" >1</th>\n",
       "      <td id=\"T_54308_row1_col0\" class=\"data row1 col0\" >Document</td>\n",
       "      <td id=\"T_54308_row1_col1\" class=\"data row1 col1\" >393</td>\n",
       "    </tr>\n",
       "    <tr>\n",
       "      <th id=\"T_54308_level0_row2\" class=\"row_heading level0 row2\" >2</th>\n",
       "      <td id=\"T_54308_row2_col0\" class=\"data row2 col0\" >Video</td>\n",
       "      <td id=\"T_54308_row2_col1\" class=\"data row2 col1\" >203</td>\n",
       "    </tr>\n",
       "    <tr>\n",
       "      <th id=\"T_54308_level0_row3\" class=\"row_heading level0 row3\" >3</th>\n",
       "      <td id=\"T_54308_row3_col0\" class=\"data row3 col0\" >Audio</td>\n",
       "      <td id=\"T_54308_row3_col1\" class=\"data row3 col1\" >161</td>\n",
       "    </tr>\n",
       "    <tr>\n",
       "      <th id=\"T_54308_level0_row4\" class=\"row_heading level0 row4\" >4</th>\n",
       "      <td id=\"T_54308_row4_col0\" class=\"data row4 col0\" >X-Ray</td>\n",
       "      <td id=\"T_54308_row4_col1\" class=\"data row4 col1\" >47</td>\n",
       "    </tr>\n",
       "  </tbody>\n",
       "</table>\n",
       "   <style type=\"text/css\">\n",
       "#T_68bf4_row0_col1 {\n",
       "  background-color: #ff0000;\n",
       "  color: #f1f1f1;\n",
       "}\n",
       "#T_68bf4_row1_col1 {\n",
       "  background-color: #f3ecec;\n",
       "  color: #000000;\n",
       "}\n",
       "#T_68bf4_row2_col1, #T_68bf4_row3_col1 {\n",
       "  background-color: #f3eeee;\n",
       "  color: #000000;\n",
       "}\n",
       "#T_68bf4_row4_col1 {\n",
       "  background-color: #f3f0f0;\n",
       "  color: #000000;\n",
       "}\n",
       "</style>\n",
       "<table id=\"T_68bf4_\" style='display:inline'>\n",
       "  <caption>image_restriction</caption>\n",
       "  <thead>\n",
       "    <tr>\n",
       "      <th class=\"blank level0\" >&nbsp;</th>\n",
       "      <th class=\"col_heading level0 col0\" >Asset Restriction</th>\n",
       "      <th class=\"col_heading level0 col1\" >count</th>\n",
       "    </tr>\n",
       "  </thead>\n",
       "  <tbody>\n",
       "    <tr>\n",
       "      <th id=\"T_68bf4_level0_row0\" class=\"row_heading level0 row0\" >0</th>\n",
       "      <td id=\"T_68bf4_row0_col0\" class=\"data row0 col0\" >Staff record shot</td>\n",
       "      <td id=\"T_68bf4_row0_col1\" class=\"data row0 col1\" >145648</td>\n",
       "    </tr>\n",
       "    <tr>\n",
       "      <th id=\"T_68bf4_level0_row1\" class=\"row_heading level0 row1\" >1</th>\n",
       "      <td id=\"T_68bf4_row1_col0\" class=\"data row1 col0\" >VAE (full restriction)</td>\n",
       "      <td id=\"T_68bf4_row1_col1\" class=\"data row1 col1\" >2877</td>\n",
       "    </tr>\n",
       "    <tr>\n",
       "      <th id=\"T_68bf4_level0_row2\" class=\"row_heading level0 row2\" >2</th>\n",
       "      <td id=\"T_68bf4_row2_col0\" class=\"data row2 col0\" >VAE</td>\n",
       "      <td id=\"T_68bf4_row2_col1\" class=\"data row2 col1\" >2150</td>\n",
       "    </tr>\n",
       "    <tr>\n",
       "      <th id=\"T_68bf4_level0_row3\" class=\"row_heading level0 row3\" >3</th>\n",
       "      <td id=\"T_68bf4_row3_col0\" class=\"data row3 col0\" >Internal Dept only</td>\n",
       "      <td id=\"T_68bf4_row3_col1\" class=\"data row3 col1\" >2061</td>\n",
       "    </tr>\n",
       "    <tr>\n",
       "      <th id=\"T_68bf4_level0_row4\" class=\"row_heading level0 row4\" >4</th>\n",
       "      <td id=\"T_68bf4_row4_col0\" class=\"data row4 col0\" >None</td>\n",
       "      <td id=\"T_68bf4_row4_col1\" class=\"data row4 col1\" >578</td>\n",
       "    </tr>\n",
       "  </tbody>\n",
       "</table>\n",
       "   <style type=\"text/css\">\n",
       "#T_ae0f8_row0_col1 {\n",
       "  background-color: #ff0000;\n",
       "  color: #f1f1f1;\n",
       "}\n",
       "#T_ae0f8_row1_col1 {\n",
       "  background-color: #f4dfdf;\n",
       "  color: #000000;\n",
       "}\n",
       "#T_ae0f8_row2_col1 {\n",
       "  background-color: #f3e4e4;\n",
       "  color: #000000;\n",
       "}\n",
       "#T_ae0f8_row3_col1 {\n",
       "  background-color: #f3e8e8;\n",
       "  color: #000000;\n",
       "}\n",
       "#T_ae0f8_row4_col1 {\n",
       "  background-color: #f3f0f0;\n",
       "  color: #000000;\n",
       "}\n",
       "</style>\n",
       "<table id=\"T_ae0f8_\" style='display:inline'>\n",
       "  <caption>image_status</caption>\n",
       "  <thead>\n",
       "    <tr>\n",
       "      <th class=\"blank level0\" >&nbsp;</th>\n",
       "      <th class=\"col_heading level0 col0\" >Status</th>\n",
       "      <th class=\"col_heading level0 col1\" >count</th>\n",
       "    </tr>\n",
       "  </thead>\n",
       "  <tbody>\n",
       "    <tr>\n",
       "      <th id=\"T_ae0f8_level0_row0\" class=\"row_heading level0 row0\" >0</th>\n",
       "      <td id=\"T_ae0f8_row0_col0\" class=\"data row0 col0\" >V&A Collection</td>\n",
       "      <td id=\"T_ae0f8_row0_col1\" class=\"data row0 col1\" >230792</td>\n",
       "    </tr>\n",
       "    <tr>\n",
       "      <th id=\"T_ae0f8_level0_row1\" class=\"row_heading level0 row1\" >1</th>\n",
       "      <td id=\"T_ae0f8_row1_col0\" class=\"data row1 col0\" >Digital Asset</td>\n",
       "      <td id=\"T_ae0f8_row1_col1\" class=\"data row1 col1\" >17827</td>\n",
       "    </tr>\n",
       "    <tr>\n",
       "      <th id=\"T_ae0f8_level0_row2\" class=\"row_heading level0 row2\" >2</th>\n",
       "      <td id=\"T_ae0f8_row2_col0\" class=\"data row2 col0\" >National Art Library Collection</td>\n",
       "      <td id=\"T_ae0f8_row2_col1\" class=\"data row2 col1\" >13003</td>\n",
       "    </tr>\n",
       "    <tr>\n",
       "      <th id=\"T_ae0f8_level0_row3\" class=\"row_heading level0 row3\" >3</th>\n",
       "      <td id=\"T_ae0f8_row3_col0\" class=\"data row3 col0\" >V&A Archive</td>\n",
       "      <td id=\"T_ae0f8_row3_col1\" class=\"data row3 col1\" >8458</td>\n",
       "    </tr>\n",
       "    <tr>\n",
       "      <th id=\"T_ae0f8_level0_row4\" class=\"row_heading level0 row4\" >4</th>\n",
       "      <td id=\"T_ae0f8_row4_col0\" class=\"data row4 col0\" >Non Collection</td>\n",
       "      <td id=\"T_ae0f8_row4_col1\" class=\"data row4 col1\" >969</td>\n",
       "    </tr>\n",
       "  </tbody>\n",
       "</table>\n",
       "   "
      ],
      "text/plain": [
       "<IPython.core.display.HTML object>"
      ]
     },
     "metadata": {},
     "output_type": "display_data"
    }
   ],
   "source": [
    "directory_in_str = '/Users/sbano/Documents/dams-data/output'\n",
    "pathlist = Path(directory_in_str).glob('*.csv')\n",
    "df_list = []\n",
    "df_caption = []\n",
    "for index, path in enumerate(pathlist):\n",
    "    df = pd.read_csv(path)\n",
    "    del df[df.columns.tolist()[0]]\n",
    "    del df[df.columns.tolist()[1]]\n",
    "    df.dropna(inplace=True)\n",
    "    df_list.append(df)\n",
    "    df_caption.append(str(path).split('/')[len(str(path).split('/'))-1].split('.')[0])\n",
    "display_side_by_side([df.head(5) for df in df_list], [csv for csv in df_caption])\n"
   ]
  },
  {
   "cell_type": "code",
   "execution_count": 95,
   "id": "842bd84d",
   "metadata": {
    "tags": [
     "hide-input"
    ]
   },
   "outputs": [
    {
     "data": {
      "application/vnd.plotly.v1+json": {
       "config": {
        "plotlyServerURL": "https://plot.ly"
       },
       "data": [
        {
         "alignmentgroup": "True",
         "hovertemplate": "Creation type=%{x}<br>count=%{text}<extra></extra>",
         "legendgroup": "Record photography",
         "marker": {
          "color": "#636efa"
         },
         "name": "Record photography",
         "offsetgroup": "Record photography",
         "orientation": "v",
         "showlegend": true,
         "text": [
          146717
         ],
         "textposition": "auto",
         "type": "bar",
         "x": [
          "Record photography"
         ],
         "xaxis": "x",
         "y": [
          146717
         ],
         "yaxis": "y"
        },
        {
         "alignmentgroup": "True",
         "hovertemplate": "Creation type=%{x}<br>count=%{text}<extra></extra>",
         "legendgroup": "Professional (internal)",
         "marker": {
          "color": "#EF553B"
         },
         "name": "Professional (internal)",
         "offsetgroup": "Professional (internal)",
         "orientation": "v",
         "showlegend": true,
         "text": [
          54678
         ],
         "textposition": "auto",
         "type": "bar",
         "x": [
          "Professional (internal)"
         ],
         "xaxis": "x",
         "y": [
          54678
         ],
         "yaxis": "y"
        },
        {
         "alignmentgroup": "True",
         "hovertemplate": "Creation type=%{x}<br>count=%{text}<extra></extra>",
         "legendgroup": "Scanned",
         "marker": {
          "color": "#00cc96"
         },
         "name": "Scanned",
         "offsetgroup": "Scanned",
         "orientation": "v",
         "showlegend": true,
         "text": [
          5483
         ],
         "textposition": "auto",
         "type": "bar",
         "x": [
          "Scanned"
         ],
         "xaxis": "x",
         "y": [
          5483
         ],
         "yaxis": "y"
        },
        {
         "alignmentgroup": "True",
         "hovertemplate": "Creation type=%{x}<br>count=%{text}<extra></extra>",
         "legendgroup": "Record",
         "marker": {
          "color": "#ab63fa"
         },
         "name": "Record",
         "offsetgroup": "Record",
         "orientation": "v",
         "showlegend": true,
         "text": [
          2067
         ],
         "textposition": "auto",
         "type": "bar",
         "x": [
          "Record"
         ],
         "xaxis": "x",
         "y": [
          2067
         ],
         "yaxis": "y"
        },
        {
         "alignmentgroup": "True",
         "hovertemplate": "Creation type=%{x}<br>count=%{text}<extra></extra>",
         "legendgroup": "Original",
         "marker": {
          "color": "#FFA15A"
         },
         "name": "Original",
         "offsetgroup": "Original",
         "orientation": "v",
         "showlegend": true,
         "text": [
          457
         ],
         "textposition": "auto",
         "type": "bar",
         "x": [
          "Original"
         ],
         "xaxis": "x",
         "y": [
          457
         ],
         "yaxis": "y"
        },
        {
         "alignmentgroup": "True",
         "hovertemplate": "Creation type=%{x}<br>count=%{text}<extra></extra>",
         "legendgroup": "None",
         "marker": {
          "color": "#19d3f3"
         },
         "name": "None",
         "offsetgroup": "None",
         "orientation": "v",
         "showlegend": true,
         "text": [
          152
         ],
         "textposition": "auto",
         "type": "bar",
         "x": [
          "None"
         ],
         "xaxis": "x",
         "y": [
          152
         ],
         "yaxis": "y"
        },
        {
         "alignmentgroup": "True",
         "hovertemplate": "Creation type=%{x}<br>count=%{text}<extra></extra>",
         "legendgroup": "Outsourced",
         "marker": {
          "color": "#FF6692"
         },
         "name": "Outsourced",
         "offsetgroup": "Outsourced",
         "orientation": "v",
         "showlegend": true,
         "text": [
          95
         ],
         "textposition": "auto",
         "type": "bar",
         "x": [
          "Outsourced"
         ],
         "xaxis": "x",
         "y": [
          95
         ],
         "yaxis": "y"
        }
       ],
       "layout": {
        "barmode": "relative",
        "legend": {
         "title": {
          "text": "Creation type"
         },
         "tracegroupgap": 0
        },
        "template": {
         "data": {
          "bar": [
           {
            "error_x": {
             "color": "#2a3f5f"
            },
            "error_y": {
             "color": "#2a3f5f"
            },
            "marker": {
             "line": {
              "color": "#E5ECF6",
              "width": 0.5
             }
            },
            "type": "bar"
           }
          ],
          "barpolar": [
           {
            "marker": {
             "line": {
              "color": "#E5ECF6",
              "width": 0.5
             }
            },
            "type": "barpolar"
           }
          ],
          "carpet": [
           {
            "aaxis": {
             "endlinecolor": "#2a3f5f",
             "gridcolor": "white",
             "linecolor": "white",
             "minorgridcolor": "white",
             "startlinecolor": "#2a3f5f"
            },
            "baxis": {
             "endlinecolor": "#2a3f5f",
             "gridcolor": "white",
             "linecolor": "white",
             "minorgridcolor": "white",
             "startlinecolor": "#2a3f5f"
            },
            "type": "carpet"
           }
          ],
          "choropleth": [
           {
            "colorbar": {
             "outlinewidth": 0,
             "ticks": ""
            },
            "type": "choropleth"
           }
          ],
          "contour": [
           {
            "colorbar": {
             "outlinewidth": 0,
             "ticks": ""
            },
            "colorscale": [
             [
              0,
              "#0d0887"
             ],
             [
              0.1111111111111111,
              "#46039f"
             ],
             [
              0.2222222222222222,
              "#7201a8"
             ],
             [
              0.3333333333333333,
              "#9c179e"
             ],
             [
              0.4444444444444444,
              "#bd3786"
             ],
             [
              0.5555555555555556,
              "#d8576b"
             ],
             [
              0.6666666666666666,
              "#ed7953"
             ],
             [
              0.7777777777777778,
              "#fb9f3a"
             ],
             [
              0.8888888888888888,
              "#fdca26"
             ],
             [
              1,
              "#f0f921"
             ]
            ],
            "type": "contour"
           }
          ],
          "contourcarpet": [
           {
            "colorbar": {
             "outlinewidth": 0,
             "ticks": ""
            },
            "type": "contourcarpet"
           }
          ],
          "heatmap": [
           {
            "colorbar": {
             "outlinewidth": 0,
             "ticks": ""
            },
            "colorscale": [
             [
              0,
              "#0d0887"
             ],
             [
              0.1111111111111111,
              "#46039f"
             ],
             [
              0.2222222222222222,
              "#7201a8"
             ],
             [
              0.3333333333333333,
              "#9c179e"
             ],
             [
              0.4444444444444444,
              "#bd3786"
             ],
             [
              0.5555555555555556,
              "#d8576b"
             ],
             [
              0.6666666666666666,
              "#ed7953"
             ],
             [
              0.7777777777777778,
              "#fb9f3a"
             ],
             [
              0.8888888888888888,
              "#fdca26"
             ],
             [
              1,
              "#f0f921"
             ]
            ],
            "type": "heatmap"
           }
          ],
          "heatmapgl": [
           {
            "colorbar": {
             "outlinewidth": 0,
             "ticks": ""
            },
            "colorscale": [
             [
              0,
              "#0d0887"
             ],
             [
              0.1111111111111111,
              "#46039f"
             ],
             [
              0.2222222222222222,
              "#7201a8"
             ],
             [
              0.3333333333333333,
              "#9c179e"
             ],
             [
              0.4444444444444444,
              "#bd3786"
             ],
             [
              0.5555555555555556,
              "#d8576b"
             ],
             [
              0.6666666666666666,
              "#ed7953"
             ],
             [
              0.7777777777777778,
              "#fb9f3a"
             ],
             [
              0.8888888888888888,
              "#fdca26"
             ],
             [
              1,
              "#f0f921"
             ]
            ],
            "type": "heatmapgl"
           }
          ],
          "histogram": [
           {
            "marker": {
             "colorbar": {
              "outlinewidth": 0,
              "ticks": ""
             }
            },
            "type": "histogram"
           }
          ],
          "histogram2d": [
           {
            "colorbar": {
             "outlinewidth": 0,
             "ticks": ""
            },
            "colorscale": [
             [
              0,
              "#0d0887"
             ],
             [
              0.1111111111111111,
              "#46039f"
             ],
             [
              0.2222222222222222,
              "#7201a8"
             ],
             [
              0.3333333333333333,
              "#9c179e"
             ],
             [
              0.4444444444444444,
              "#bd3786"
             ],
             [
              0.5555555555555556,
              "#d8576b"
             ],
             [
              0.6666666666666666,
              "#ed7953"
             ],
             [
              0.7777777777777778,
              "#fb9f3a"
             ],
             [
              0.8888888888888888,
              "#fdca26"
             ],
             [
              1,
              "#f0f921"
             ]
            ],
            "type": "histogram2d"
           }
          ],
          "histogram2dcontour": [
           {
            "colorbar": {
             "outlinewidth": 0,
             "ticks": ""
            },
            "colorscale": [
             [
              0,
              "#0d0887"
             ],
             [
              0.1111111111111111,
              "#46039f"
             ],
             [
              0.2222222222222222,
              "#7201a8"
             ],
             [
              0.3333333333333333,
              "#9c179e"
             ],
             [
              0.4444444444444444,
              "#bd3786"
             ],
             [
              0.5555555555555556,
              "#d8576b"
             ],
             [
              0.6666666666666666,
              "#ed7953"
             ],
             [
              0.7777777777777778,
              "#fb9f3a"
             ],
             [
              0.8888888888888888,
              "#fdca26"
             ],
             [
              1,
              "#f0f921"
             ]
            ],
            "type": "histogram2dcontour"
           }
          ],
          "mesh3d": [
           {
            "colorbar": {
             "outlinewidth": 0,
             "ticks": ""
            },
            "type": "mesh3d"
           }
          ],
          "parcoords": [
           {
            "line": {
             "colorbar": {
              "outlinewidth": 0,
              "ticks": ""
             }
            },
            "type": "parcoords"
           }
          ],
          "pie": [
           {
            "automargin": true,
            "type": "pie"
           }
          ],
          "scatter": [
           {
            "marker": {
             "colorbar": {
              "outlinewidth": 0,
              "ticks": ""
             }
            },
            "type": "scatter"
           }
          ],
          "scatter3d": [
           {
            "line": {
             "colorbar": {
              "outlinewidth": 0,
              "ticks": ""
             }
            },
            "marker": {
             "colorbar": {
              "outlinewidth": 0,
              "ticks": ""
             }
            },
            "type": "scatter3d"
           }
          ],
          "scattercarpet": [
           {
            "marker": {
             "colorbar": {
              "outlinewidth": 0,
              "ticks": ""
             }
            },
            "type": "scattercarpet"
           }
          ],
          "scattergeo": [
           {
            "marker": {
             "colorbar": {
              "outlinewidth": 0,
              "ticks": ""
             }
            },
            "type": "scattergeo"
           }
          ],
          "scattergl": [
           {
            "marker": {
             "colorbar": {
              "outlinewidth": 0,
              "ticks": ""
             }
            },
            "type": "scattergl"
           }
          ],
          "scattermapbox": [
           {
            "marker": {
             "colorbar": {
              "outlinewidth": 0,
              "ticks": ""
             }
            },
            "type": "scattermapbox"
           }
          ],
          "scatterpolar": [
           {
            "marker": {
             "colorbar": {
              "outlinewidth": 0,
              "ticks": ""
             }
            },
            "type": "scatterpolar"
           }
          ],
          "scatterpolargl": [
           {
            "marker": {
             "colorbar": {
              "outlinewidth": 0,
              "ticks": ""
             }
            },
            "type": "scatterpolargl"
           }
          ],
          "scatterternary": [
           {
            "marker": {
             "colorbar": {
              "outlinewidth": 0,
              "ticks": ""
             }
            },
            "type": "scatterternary"
           }
          ],
          "surface": [
           {
            "colorbar": {
             "outlinewidth": 0,
             "ticks": ""
            },
            "colorscale": [
             [
              0,
              "#0d0887"
             ],
             [
              0.1111111111111111,
              "#46039f"
             ],
             [
              0.2222222222222222,
              "#7201a8"
             ],
             [
              0.3333333333333333,
              "#9c179e"
             ],
             [
              0.4444444444444444,
              "#bd3786"
             ],
             [
              0.5555555555555556,
              "#d8576b"
             ],
             [
              0.6666666666666666,
              "#ed7953"
             ],
             [
              0.7777777777777778,
              "#fb9f3a"
             ],
             [
              0.8888888888888888,
              "#fdca26"
             ],
             [
              1,
              "#f0f921"
             ]
            ],
            "type": "surface"
           }
          ],
          "table": [
           {
            "cells": {
             "fill": {
              "color": "#EBF0F8"
             },
             "line": {
              "color": "white"
             }
            },
            "header": {
             "fill": {
              "color": "#C8D4E3"
             },
             "line": {
              "color": "white"
             }
            },
            "type": "table"
           }
          ]
         },
         "layout": {
          "annotationdefaults": {
           "arrowcolor": "#2a3f5f",
           "arrowhead": 0,
           "arrowwidth": 1
          },
          "autotypenumbers": "strict",
          "coloraxis": {
           "colorbar": {
            "outlinewidth": 0,
            "ticks": ""
           }
          },
          "colorscale": {
           "diverging": [
            [
             0,
             "#8e0152"
            ],
            [
             0.1,
             "#c51b7d"
            ],
            [
             0.2,
             "#de77ae"
            ],
            [
             0.3,
             "#f1b6da"
            ],
            [
             0.4,
             "#fde0ef"
            ],
            [
             0.5,
             "#f7f7f7"
            ],
            [
             0.6,
             "#e6f5d0"
            ],
            [
             0.7,
             "#b8e186"
            ],
            [
             0.8,
             "#7fbc41"
            ],
            [
             0.9,
             "#4d9221"
            ],
            [
             1,
             "#276419"
            ]
           ],
           "sequential": [
            [
             0,
             "#0d0887"
            ],
            [
             0.1111111111111111,
             "#46039f"
            ],
            [
             0.2222222222222222,
             "#7201a8"
            ],
            [
             0.3333333333333333,
             "#9c179e"
            ],
            [
             0.4444444444444444,
             "#bd3786"
            ],
            [
             0.5555555555555556,
             "#d8576b"
            ],
            [
             0.6666666666666666,
             "#ed7953"
            ],
            [
             0.7777777777777778,
             "#fb9f3a"
            ],
            [
             0.8888888888888888,
             "#fdca26"
            ],
            [
             1,
             "#f0f921"
            ]
           ],
           "sequentialminus": [
            [
             0,
             "#0d0887"
            ],
            [
             0.1111111111111111,
             "#46039f"
            ],
            [
             0.2222222222222222,
             "#7201a8"
            ],
            [
             0.3333333333333333,
             "#9c179e"
            ],
            [
             0.4444444444444444,
             "#bd3786"
            ],
            [
             0.5555555555555556,
             "#d8576b"
            ],
            [
             0.6666666666666666,
             "#ed7953"
            ],
            [
             0.7777777777777778,
             "#fb9f3a"
            ],
            [
             0.8888888888888888,
             "#fdca26"
            ],
            [
             1,
             "#f0f921"
            ]
           ]
          },
          "colorway": [
           "#636efa",
           "#EF553B",
           "#00cc96",
           "#ab63fa",
           "#FFA15A",
           "#19d3f3",
           "#FF6692",
           "#B6E880",
           "#FF97FF",
           "#FECB52"
          ],
          "font": {
           "color": "#2a3f5f"
          },
          "geo": {
           "bgcolor": "white",
           "lakecolor": "white",
           "landcolor": "#E5ECF6",
           "showlakes": true,
           "showland": true,
           "subunitcolor": "white"
          },
          "hoverlabel": {
           "align": "left"
          },
          "hovermode": "closest",
          "mapbox": {
           "style": "light"
          },
          "paper_bgcolor": "white",
          "plot_bgcolor": "#E5ECF6",
          "polar": {
           "angularaxis": {
            "gridcolor": "white",
            "linecolor": "white",
            "ticks": ""
           },
           "bgcolor": "#E5ECF6",
           "radialaxis": {
            "gridcolor": "white",
            "linecolor": "white",
            "ticks": ""
           }
          },
          "scene": {
           "xaxis": {
            "backgroundcolor": "#E5ECF6",
            "gridcolor": "white",
            "gridwidth": 2,
            "linecolor": "white",
            "showbackground": true,
            "ticks": "",
            "zerolinecolor": "white"
           },
           "yaxis": {
            "backgroundcolor": "#E5ECF6",
            "gridcolor": "white",
            "gridwidth": 2,
            "linecolor": "white",
            "showbackground": true,
            "ticks": "",
            "zerolinecolor": "white"
           },
           "zaxis": {
            "backgroundcolor": "#E5ECF6",
            "gridcolor": "white",
            "gridwidth": 2,
            "linecolor": "white",
            "showbackground": true,
            "ticks": "",
            "zerolinecolor": "white"
           }
          },
          "shapedefaults": {
           "line": {
            "color": "#2a3f5f"
           }
          },
          "ternary": {
           "aaxis": {
            "gridcolor": "white",
            "linecolor": "white",
            "ticks": ""
           },
           "baxis": {
            "gridcolor": "white",
            "linecolor": "white",
            "ticks": ""
           },
           "bgcolor": "#E5ECF6",
           "caxis": {
            "gridcolor": "white",
            "linecolor": "white",
            "ticks": ""
           }
          },
          "title": {
           "x": 0.05
          },
          "xaxis": {
           "automargin": true,
           "gridcolor": "white",
           "linecolor": "white",
           "ticks": "",
           "title": {
            "standoff": 15
           },
           "zerolinecolor": "white",
           "zerolinewidth": 2
          },
          "yaxis": {
           "automargin": true,
           "gridcolor": "white",
           "linecolor": "white",
           "ticks": "",
           "title": {
            "standoff": 15
           },
           "zerolinecolor": "white",
           "zerolinewidth": 2
          }
         }
        },
        "title": {
         "text": "Creation type"
        },
        "xaxis": {
         "anchor": "y",
         "categoryarray": [
          "Record photography",
          "Professional (internal)",
          "Scanned",
          "Record",
          "Original",
          "None",
          "Outsourced"
         ],
         "categoryorder": "array",
         "domain": [
          0,
          1
         ],
         "title": {
          "text": "Creation type"
         }
        },
        "yaxis": {
         "anchor": "x",
         "domain": [
          0,
          1
         ],
         "title": {
          "text": "count"
         }
        }
       }
      },
      "text/html": [
       "<div>                            <div id=\"ae24ef8c-b1d7-4dd1-a9ab-16104f47144d\" class=\"plotly-graph-div\" style=\"height:525px; width:100%;\"></div>            <script type=\"text/javascript\">                require([\"plotly\"], function(Plotly) {                    window.PLOTLYENV=window.PLOTLYENV || {};                                    if (document.getElementById(\"ae24ef8c-b1d7-4dd1-a9ab-16104f47144d\")) {                    Plotly.newPlot(                        \"ae24ef8c-b1d7-4dd1-a9ab-16104f47144d\",                        [{\"alignmentgroup\": \"True\", \"hovertemplate\": \"Creation type=%{x}<br>count=%{text}<extra></extra>\", \"legendgroup\": \"Record photography\", \"marker\": {\"color\": \"#636efa\"}, \"name\": \"Record photography\", \"offsetgroup\": \"Record photography\", \"orientation\": \"v\", \"showlegend\": true, \"text\": [146717.0], \"textposition\": \"auto\", \"type\": \"bar\", \"x\": [\"Record photography\"], \"xaxis\": \"x\", \"y\": [146717], \"yaxis\": \"y\"}, {\"alignmentgroup\": \"True\", \"hovertemplate\": \"Creation type=%{x}<br>count=%{text}<extra></extra>\", \"legendgroup\": \"Professional (internal)\", \"marker\": {\"color\": \"#EF553B\"}, \"name\": \"Professional (internal)\", \"offsetgroup\": \"Professional (internal)\", \"orientation\": \"v\", \"showlegend\": true, \"text\": [54678.0], \"textposition\": \"auto\", \"type\": \"bar\", \"x\": [\"Professional (internal)\"], \"xaxis\": \"x\", \"y\": [54678], \"yaxis\": \"y\"}, {\"alignmentgroup\": \"True\", \"hovertemplate\": \"Creation type=%{x}<br>count=%{text}<extra></extra>\", \"legendgroup\": \"Scanned\", \"marker\": {\"color\": \"#00cc96\"}, \"name\": \"Scanned\", \"offsetgroup\": \"Scanned\", \"orientation\": \"v\", \"showlegend\": true, \"text\": [5483.0], \"textposition\": \"auto\", \"type\": \"bar\", \"x\": [\"Scanned\"], \"xaxis\": \"x\", \"y\": [5483], \"yaxis\": \"y\"}, {\"alignmentgroup\": \"True\", \"hovertemplate\": \"Creation type=%{x}<br>count=%{text}<extra></extra>\", \"legendgroup\": \"Record\", \"marker\": {\"color\": \"#ab63fa\"}, \"name\": \"Record\", \"offsetgroup\": \"Record\", \"orientation\": \"v\", \"showlegend\": true, \"text\": [2067.0], \"textposition\": \"auto\", \"type\": \"bar\", \"x\": [\"Record\"], \"xaxis\": \"x\", \"y\": [2067], \"yaxis\": \"y\"}, {\"alignmentgroup\": \"True\", \"hovertemplate\": \"Creation type=%{x}<br>count=%{text}<extra></extra>\", \"legendgroup\": \"Original\", \"marker\": {\"color\": \"#FFA15A\"}, \"name\": \"Original\", \"offsetgroup\": \"Original\", \"orientation\": \"v\", \"showlegend\": true, \"text\": [457.0], \"textposition\": \"auto\", \"type\": \"bar\", \"x\": [\"Original\"], \"xaxis\": \"x\", \"y\": [457], \"yaxis\": \"y\"}, {\"alignmentgroup\": \"True\", \"hovertemplate\": \"Creation type=%{x}<br>count=%{text}<extra></extra>\", \"legendgroup\": \"None\", \"marker\": {\"color\": \"#19d3f3\"}, \"name\": \"None\", \"offsetgroup\": \"None\", \"orientation\": \"v\", \"showlegend\": true, \"text\": [152.0], \"textposition\": \"auto\", \"type\": \"bar\", \"x\": [\"None\"], \"xaxis\": \"x\", \"y\": [152], \"yaxis\": \"y\"}, {\"alignmentgroup\": \"True\", \"hovertemplate\": \"Creation type=%{x}<br>count=%{text}<extra></extra>\", \"legendgroup\": \"Outsourced\", \"marker\": {\"color\": \"#FF6692\"}, \"name\": \"Outsourced\", \"offsetgroup\": \"Outsourced\", \"orientation\": \"v\", \"showlegend\": true, \"text\": [95.0], \"textposition\": \"auto\", \"type\": \"bar\", \"x\": [\"Outsourced\"], \"xaxis\": \"x\", \"y\": [95], \"yaxis\": \"y\"}],                        {\"barmode\": \"relative\", \"legend\": {\"title\": {\"text\": \"Creation type\"}, \"tracegroupgap\": 0}, \"template\": {\"data\": {\"bar\": [{\"error_x\": {\"color\": \"#2a3f5f\"}, \"error_y\": {\"color\": \"#2a3f5f\"}, \"marker\": {\"line\": {\"color\": \"#E5ECF6\", \"width\": 0.5}}, \"type\": \"bar\"}], \"barpolar\": [{\"marker\": {\"line\": {\"color\": \"#E5ECF6\", \"width\": 0.5}}, \"type\": \"barpolar\"}], \"carpet\": [{\"aaxis\": {\"endlinecolor\": \"#2a3f5f\", \"gridcolor\": \"white\", \"linecolor\": \"white\", \"minorgridcolor\": \"white\", \"startlinecolor\": \"#2a3f5f\"}, \"baxis\": {\"endlinecolor\": \"#2a3f5f\", \"gridcolor\": \"white\", \"linecolor\": \"white\", \"minorgridcolor\": \"white\", \"startlinecolor\": \"#2a3f5f\"}, \"type\": \"carpet\"}], \"choropleth\": [{\"colorbar\": {\"outlinewidth\": 0, \"ticks\": \"\"}, \"type\": \"choropleth\"}], \"contour\": [{\"colorbar\": {\"outlinewidth\": 0, \"ticks\": \"\"}, \"colorscale\": [[0.0, \"#0d0887\"], [0.1111111111111111, \"#46039f\"], [0.2222222222222222, \"#7201a8\"], [0.3333333333333333, \"#9c179e\"], [0.4444444444444444, \"#bd3786\"], [0.5555555555555556, \"#d8576b\"], [0.6666666666666666, \"#ed7953\"], [0.7777777777777778, \"#fb9f3a\"], [0.8888888888888888, \"#fdca26\"], [1.0, \"#f0f921\"]], \"type\": \"contour\"}], \"contourcarpet\": [{\"colorbar\": {\"outlinewidth\": 0, \"ticks\": \"\"}, \"type\": \"contourcarpet\"}], \"heatmap\": [{\"colorbar\": {\"outlinewidth\": 0, \"ticks\": \"\"}, \"colorscale\": [[0.0, \"#0d0887\"], [0.1111111111111111, \"#46039f\"], [0.2222222222222222, \"#7201a8\"], [0.3333333333333333, \"#9c179e\"], [0.4444444444444444, \"#bd3786\"], [0.5555555555555556, \"#d8576b\"], [0.6666666666666666, \"#ed7953\"], [0.7777777777777778, \"#fb9f3a\"], [0.8888888888888888, \"#fdca26\"], [1.0, \"#f0f921\"]], \"type\": \"heatmap\"}], \"heatmapgl\": [{\"colorbar\": {\"outlinewidth\": 0, \"ticks\": \"\"}, \"colorscale\": [[0.0, \"#0d0887\"], [0.1111111111111111, \"#46039f\"], [0.2222222222222222, \"#7201a8\"], [0.3333333333333333, \"#9c179e\"], [0.4444444444444444, \"#bd3786\"], [0.5555555555555556, \"#d8576b\"], [0.6666666666666666, \"#ed7953\"], [0.7777777777777778, \"#fb9f3a\"], [0.8888888888888888, \"#fdca26\"], [1.0, \"#f0f921\"]], \"type\": \"heatmapgl\"}], \"histogram\": [{\"marker\": {\"colorbar\": {\"outlinewidth\": 0, \"ticks\": \"\"}}, \"type\": \"histogram\"}], \"histogram2d\": [{\"colorbar\": {\"outlinewidth\": 0, \"ticks\": \"\"}, \"colorscale\": [[0.0, \"#0d0887\"], [0.1111111111111111, \"#46039f\"], [0.2222222222222222, \"#7201a8\"], [0.3333333333333333, \"#9c179e\"], [0.4444444444444444, \"#bd3786\"], [0.5555555555555556, \"#d8576b\"], [0.6666666666666666, \"#ed7953\"], [0.7777777777777778, \"#fb9f3a\"], [0.8888888888888888, \"#fdca26\"], [1.0, \"#f0f921\"]], \"type\": \"histogram2d\"}], \"histogram2dcontour\": [{\"colorbar\": {\"outlinewidth\": 0, \"ticks\": \"\"}, \"colorscale\": [[0.0, \"#0d0887\"], [0.1111111111111111, \"#46039f\"], [0.2222222222222222, \"#7201a8\"], [0.3333333333333333, \"#9c179e\"], [0.4444444444444444, \"#bd3786\"], [0.5555555555555556, \"#d8576b\"], [0.6666666666666666, \"#ed7953\"], [0.7777777777777778, \"#fb9f3a\"], [0.8888888888888888, \"#fdca26\"], [1.0, \"#f0f921\"]], \"type\": \"histogram2dcontour\"}], \"mesh3d\": [{\"colorbar\": {\"outlinewidth\": 0, \"ticks\": \"\"}, \"type\": \"mesh3d\"}], \"parcoords\": [{\"line\": {\"colorbar\": {\"outlinewidth\": 0, \"ticks\": \"\"}}, \"type\": \"parcoords\"}], \"pie\": [{\"automargin\": true, \"type\": \"pie\"}], \"scatter\": [{\"marker\": {\"colorbar\": {\"outlinewidth\": 0, \"ticks\": \"\"}}, \"type\": \"scatter\"}], \"scatter3d\": [{\"line\": {\"colorbar\": {\"outlinewidth\": 0, \"ticks\": \"\"}}, \"marker\": {\"colorbar\": {\"outlinewidth\": 0, \"ticks\": \"\"}}, \"type\": \"scatter3d\"}], \"scattercarpet\": [{\"marker\": {\"colorbar\": {\"outlinewidth\": 0, \"ticks\": \"\"}}, \"type\": \"scattercarpet\"}], \"scattergeo\": [{\"marker\": {\"colorbar\": {\"outlinewidth\": 0, \"ticks\": \"\"}}, \"type\": \"scattergeo\"}], \"scattergl\": [{\"marker\": {\"colorbar\": {\"outlinewidth\": 0, \"ticks\": \"\"}}, \"type\": \"scattergl\"}], \"scattermapbox\": [{\"marker\": {\"colorbar\": {\"outlinewidth\": 0, \"ticks\": \"\"}}, \"type\": \"scattermapbox\"}], \"scatterpolar\": [{\"marker\": {\"colorbar\": {\"outlinewidth\": 0, \"ticks\": \"\"}}, \"type\": \"scatterpolar\"}], \"scatterpolargl\": [{\"marker\": {\"colorbar\": {\"outlinewidth\": 0, \"ticks\": \"\"}}, \"type\": \"scatterpolargl\"}], \"scatterternary\": [{\"marker\": {\"colorbar\": {\"outlinewidth\": 0, \"ticks\": \"\"}}, \"type\": \"scatterternary\"}], \"surface\": [{\"colorbar\": {\"outlinewidth\": 0, \"ticks\": \"\"}, \"colorscale\": [[0.0, \"#0d0887\"], [0.1111111111111111, \"#46039f\"], [0.2222222222222222, \"#7201a8\"], [0.3333333333333333, \"#9c179e\"], [0.4444444444444444, \"#bd3786\"], [0.5555555555555556, \"#d8576b\"], [0.6666666666666666, \"#ed7953\"], [0.7777777777777778, \"#fb9f3a\"], [0.8888888888888888, \"#fdca26\"], [1.0, \"#f0f921\"]], \"type\": \"surface\"}], \"table\": [{\"cells\": {\"fill\": {\"color\": \"#EBF0F8\"}, \"line\": {\"color\": \"white\"}}, \"header\": {\"fill\": {\"color\": \"#C8D4E3\"}, \"line\": {\"color\": \"white\"}}, \"type\": \"table\"}]}, \"layout\": {\"annotationdefaults\": {\"arrowcolor\": \"#2a3f5f\", \"arrowhead\": 0, \"arrowwidth\": 1}, \"autotypenumbers\": \"strict\", \"coloraxis\": {\"colorbar\": {\"outlinewidth\": 0, \"ticks\": \"\"}}, \"colorscale\": {\"diverging\": [[0, \"#8e0152\"], [0.1, \"#c51b7d\"], [0.2, \"#de77ae\"], [0.3, \"#f1b6da\"], [0.4, \"#fde0ef\"], [0.5, \"#f7f7f7\"], [0.6, \"#e6f5d0\"], [0.7, \"#b8e186\"], [0.8, \"#7fbc41\"], [0.9, \"#4d9221\"], [1, \"#276419\"]], \"sequential\": [[0.0, \"#0d0887\"], [0.1111111111111111, \"#46039f\"], [0.2222222222222222, \"#7201a8\"], [0.3333333333333333, \"#9c179e\"], [0.4444444444444444, \"#bd3786\"], [0.5555555555555556, \"#d8576b\"], [0.6666666666666666, \"#ed7953\"], [0.7777777777777778, \"#fb9f3a\"], [0.8888888888888888, \"#fdca26\"], [1.0, \"#f0f921\"]], \"sequentialminus\": [[0.0, \"#0d0887\"], [0.1111111111111111, \"#46039f\"], [0.2222222222222222, \"#7201a8\"], [0.3333333333333333, \"#9c179e\"], [0.4444444444444444, \"#bd3786\"], [0.5555555555555556, \"#d8576b\"], [0.6666666666666666, \"#ed7953\"], [0.7777777777777778, \"#fb9f3a\"], [0.8888888888888888, \"#fdca26\"], [1.0, \"#f0f921\"]]}, \"colorway\": [\"#636efa\", \"#EF553B\", \"#00cc96\", \"#ab63fa\", \"#FFA15A\", \"#19d3f3\", \"#FF6692\", \"#B6E880\", \"#FF97FF\", \"#FECB52\"], \"font\": {\"color\": \"#2a3f5f\"}, \"geo\": {\"bgcolor\": \"white\", \"lakecolor\": \"white\", \"landcolor\": \"#E5ECF6\", \"showlakes\": true, \"showland\": true, \"subunitcolor\": \"white\"}, \"hoverlabel\": {\"align\": \"left\"}, \"hovermode\": \"closest\", \"mapbox\": {\"style\": \"light\"}, \"paper_bgcolor\": \"white\", \"plot_bgcolor\": \"#E5ECF6\", \"polar\": {\"angularaxis\": {\"gridcolor\": \"white\", \"linecolor\": \"white\", \"ticks\": \"\"}, \"bgcolor\": \"#E5ECF6\", \"radialaxis\": {\"gridcolor\": \"white\", \"linecolor\": \"white\", \"ticks\": \"\"}}, \"scene\": {\"xaxis\": {\"backgroundcolor\": \"#E5ECF6\", \"gridcolor\": \"white\", \"gridwidth\": 2, \"linecolor\": \"white\", \"showbackground\": true, \"ticks\": \"\", \"zerolinecolor\": \"white\"}, \"yaxis\": {\"backgroundcolor\": \"#E5ECF6\", \"gridcolor\": \"white\", \"gridwidth\": 2, \"linecolor\": \"white\", \"showbackground\": true, \"ticks\": \"\", \"zerolinecolor\": \"white\"}, \"zaxis\": {\"backgroundcolor\": \"#E5ECF6\", \"gridcolor\": \"white\", \"gridwidth\": 2, \"linecolor\": \"white\", \"showbackground\": true, \"ticks\": \"\", \"zerolinecolor\": \"white\"}}, \"shapedefaults\": {\"line\": {\"color\": \"#2a3f5f\"}}, \"ternary\": {\"aaxis\": {\"gridcolor\": \"white\", \"linecolor\": \"white\", \"ticks\": \"\"}, \"baxis\": {\"gridcolor\": \"white\", \"linecolor\": \"white\", \"ticks\": \"\"}, \"bgcolor\": \"#E5ECF6\", \"caxis\": {\"gridcolor\": \"white\", \"linecolor\": \"white\", \"ticks\": \"\"}}, \"title\": {\"x\": 0.05}, \"xaxis\": {\"automargin\": true, \"gridcolor\": \"white\", \"linecolor\": \"white\", \"ticks\": \"\", \"title\": {\"standoff\": 15}, \"zerolinecolor\": \"white\", \"zerolinewidth\": 2}, \"yaxis\": {\"automargin\": true, \"gridcolor\": \"white\", \"linecolor\": \"white\", \"ticks\": \"\", \"title\": {\"standoff\": 15}, \"zerolinecolor\": \"white\", \"zerolinewidth\": 2}}}, \"title\": {\"text\": \"Creation type\"}, \"xaxis\": {\"anchor\": \"y\", \"categoryarray\": [\"Record photography\", \"Professional (internal)\", \"Scanned\", \"Record\", \"Original\", \"None\", \"Outsourced\"], \"categoryorder\": \"array\", \"domain\": [0.0, 1.0], \"title\": {\"text\": \"Creation type\"}}, \"yaxis\": {\"anchor\": \"x\", \"domain\": [0.0, 1.0], \"title\": {\"text\": \"count\"}}},                        {\"responsive\": true}                    ).then(function(){\n",
       "                            \n",
       "var gd = document.getElementById('ae24ef8c-b1d7-4dd1-a9ab-16104f47144d');\n",
       "var x = new MutationObserver(function (mutations, observer) {{\n",
       "        var display = window.getComputedStyle(gd).display;\n",
       "        if (!display || display === 'none') {{\n",
       "            console.log([gd, 'removed!']);\n",
       "            Plotly.purge(gd);\n",
       "            observer.disconnect();\n",
       "        }}\n",
       "}});\n",
       "\n",
       "// Listen for the removal of the full notebook cells\n",
       "var notebookContainer = gd.closest('#notebook-container');\n",
       "if (notebookContainer) {{\n",
       "    x.observe(notebookContainer, {childList: true});\n",
       "}}\n",
       "\n",
       "// Listen for the clearing of the current output cell\n",
       "var outputEl = gd.closest('.output');\n",
       "if (outputEl) {{\n",
       "    x.observe(outputEl, {childList: true});\n",
       "}}\n",
       "\n",
       "                        })                };                });            </script>        </div>"
      ]
     },
     "metadata": {},
     "output_type": "display_data"
    }
   ],
   "source": [
    "import plotly.express as px\n",
    "figs = []\n",
    "for df in df_list:\n",
    "    columns = df.columns.tolist()\n",
    "    # data_canada = px.data.gapminder().query(\"country == 'Canada'\")\n",
    "    fig = px.bar(df, x=columns[0], y=columns[1], title=columns[0], color=columns[0], text=columns[1])\n",
    "    figs.append(fig)\n",
    "figs[0].show()"
   ]
  },
  {
   "cell_type": "code",
   "execution_count": 101,
   "id": "687a789e",
   "metadata": {
    "tags": [
     "hide-input"
    ]
   },
   "outputs": [
    {
     "data": {
      "application/vnd.plotly.v1+json": {
       "config": {
        "plotlyServerURL": "https://plot.ly"
       },
       "data": [
        {
         "alignmentgroup": "True",
         "hovertemplate": "Asset Ownership Name=%{x}<br>count=%{text}<extra></extra>",
         "legendgroup": "Photographic Studio",
         "marker": {
          "color": "#636efa"
         },
         "name": "Photographic Studio",
         "offsetgroup": "Photographic Studio",
         "orientation": "v",
         "showlegend": true,
         "text": [
          925623
         ],
         "textposition": "auto",
         "type": "bar",
         "x": [
          "Photographic Studio"
         ],
         "xaxis": "x",
         "y": [
          925623
         ],
         "yaxis": "y"
        },
        {
         "alignmentgroup": "True",
         "hovertemplate": "Asset Ownership Name=%{x}<br>count=%{text}<extra></extra>",
         "legendgroup": "Multimedia & Social Documentary",
         "marker": {
          "color": "#EF553B"
         },
         "name": "Multimedia & Social Documentary",
         "offsetgroup": "Multimedia & Social Documentary",
         "orientation": "v",
         "showlegend": true,
         "text": [
          128124,
          69390
         ],
         "textposition": "auto",
         "type": "bar",
         "x": [
          "Multimedia & Social Documentary",
          "Multimedia & Social Documentary"
         ],
         "xaxis": "x",
         "y": [
          128124,
          69390
         ],
         "yaxis": "y"
        },
        {
         "alignmentgroup": "True",
         "hovertemplate": "Asset Ownership Name=%{x}<br>count=%{text}<extra></extra>",
         "legendgroup": "Textiles & Fashion",
         "marker": {
          "color": "#00cc96"
         },
         "name": "Textiles & Fashion",
         "offsetgroup": "Textiles & Fashion",
         "orientation": "v",
         "showlegend": true,
         "text": [
          85379
         ],
         "textposition": "auto",
         "type": "bar",
         "x": [
          "Textiles & Fashion"
         ],
         "xaxis": "x",
         "y": [
          85379
         ],
         "yaxis": "y"
        },
        {
         "alignmentgroup": "True",
         "hovertemplate": "Asset Ownership Name=%{x}<br>count=%{text}<extra></extra>",
         "legendgroup": "Conservation",
         "marker": {
          "color": "#ab63fa"
         },
         "name": "Conservation",
         "offsetgroup": "Conservation",
         "orientation": "v",
         "showlegend": true,
         "text": [
          68408
         ],
         "textposition": "auto",
         "type": "bar",
         "x": [
          "Conservation"
         ],
         "xaxis": "x",
         "y": [
          68408
         ],
         "yaxis": "y"
        },
        {
         "alignmentgroup": "True",
         "hovertemplate": "Asset Ownership Name=%{x}<br>count=%{text}<extra></extra>",
         "legendgroup": "Asian Department",
         "marker": {
          "color": "#FFA15A"
         },
         "name": "Asian Department",
         "offsetgroup": "Asian Department",
         "orientation": "v",
         "showlegend": true,
         "text": [
          62525
         ],
         "textposition": "auto",
         "type": "bar",
         "x": [
          "Asian Department"
         ],
         "xaxis": "x",
         "y": [
          62525
         ],
         "yaxis": "y"
        },
        {
         "alignmentgroup": "True",
         "hovertemplate": "Asset Ownership Name=%{x}<br>count=%{text}<extra></extra>",
         "legendgroup": "Theatre & Performance",
         "marker": {
          "color": "#19d3f3"
         },
         "name": "Theatre & Performance",
         "offsetgroup": "Theatre & Performance",
         "orientation": "v",
         "showlegend": true,
         "text": [
          51155
         ],
         "textposition": "auto",
         "type": "bar",
         "x": [
          "Theatre & Performance"
         ],
         "xaxis": "x",
         "y": [
          51155
         ],
         "yaxis": "y"
        },
        {
         "alignmentgroup": "True",
         "hovertemplate": "Asset Ownership Name=%{x}<br>count=%{text}<extra></extra>",
         "legendgroup": "Collections Management Department",
         "marker": {
          "color": "#FF6692"
         },
         "name": "Collections Management Department",
         "offsetgroup": "Collections Management Department",
         "orientation": "v",
         "showlegend": true,
         "text": [
          44131
         ],
         "textposition": "auto",
         "type": "bar",
         "x": [
          "Collections Management Department"
         ],
         "xaxis": "x",
         "y": [
          44131
         ],
         "yaxis": "y"
        },
        {
         "alignmentgroup": "True",
         "hovertemplate": "Asset Ownership Name=%{x}<br>count=%{text}<extra></extra>",
         "legendgroup": "South and South East Asia",
         "marker": {
          "color": "#B6E880"
         },
         "name": "South and South East Asia",
         "offsetgroup": "South and South East Asia",
         "orientation": "v",
         "showlegend": true,
         "text": [
          38039
         ],
         "textposition": "auto",
         "type": "bar",
         "x": [
          "South and South East Asia"
         ],
         "xaxis": "x",
         "y": [
          38039
         ],
         "yaxis": "y"
        },
        {
         "alignmentgroup": "True",
         "hovertemplate": "Asset Ownership Name=%{x}<br>count=%{text}<extra></extra>",
         "legendgroup": "Computer Art",
         "marker": {
          "color": "#FF97FF"
         },
         "name": "Computer Art",
         "offsetgroup": "Computer Art",
         "orientation": "v",
         "showlegend": true,
         "text": [
          36578
         ],
         "textposition": "auto",
         "type": "bar",
         "x": [
          "Computer Art"
         ],
         "xaxis": "x",
         "y": [
          36578
         ],
         "yaxis": "y"
        },
        {
         "alignmentgroup": "True",
         "hovertemplate": "Asset Ownership Name=%{x}<br>count=%{text}<extra></extra>",
         "legendgroup": "East Asia",
         "marker": {
          "color": "#FECB52"
         },
         "name": "East Asia",
         "offsetgroup": "East Asia",
         "orientation": "v",
         "showlegend": true,
         "text": [
          32257
         ],
         "textposition": "auto",
         "type": "bar",
         "x": [
          "East Asia"
         ],
         "xaxis": "x",
         "y": [
          32257
         ],
         "yaxis": "y"
        },
        {
         "alignmentgroup": "True",
         "hovertemplate": "Asset Ownership Name=%{x}<br>count=%{text}<extra></extra>",
         "legendgroup": "Metalwork",
         "marker": {
          "color": "#636efa"
         },
         "name": "Metalwork",
         "offsetgroup": "Metalwork",
         "orientation": "v",
         "showlegend": true,
         "text": [
          24846
         ],
         "textposition": "auto",
         "type": "bar",
         "x": [
          "Metalwork"
         ],
         "xaxis": "x",
         "y": [
          24846
         ],
         "yaxis": "y"
        },
        {
         "alignmentgroup": "True",
         "hovertemplate": "Asset Ownership Name=%{x}<br>count=%{text}<extra></extra>",
         "legendgroup": "Ceramics & Glass",
         "marker": {
          "color": "#EF553B"
         },
         "name": "Ceramics & Glass",
         "offsetgroup": "Ceramics & Glass",
         "orientation": "v",
         "showlegend": true,
         "text": [
          24705
         ],
         "textposition": "auto",
         "type": "bar",
         "x": [
          "Ceramics & Glass"
         ],
         "xaxis": "x",
         "y": [
          24705
         ],
         "yaxis": "y"
        },
        {
         "alignmentgroup": "True",
         "hovertemplate": "Asset Ownership Name=%{x}<br>count=%{text}<extra></extra>",
         "legendgroup": "Museum of Childhood",
         "marker": {
          "color": "#00cc96"
         },
         "name": "Museum of Childhood",
         "offsetgroup": "Museum of Childhood",
         "orientation": "v",
         "showlegend": true,
         "text": [
          24279
         ],
         "textposition": "auto",
         "type": "bar",
         "x": [
          "Museum of Childhood"
         ],
         "xaxis": "x",
         "y": [
          24279
         ],
         "yaxis": "y"
        },
        {
         "alignmentgroup": "True",
         "hovertemplate": "Asset Ownership Name=%{x}<br>count=%{text}<extra></extra>",
         "legendgroup": "Furniture, Textiles & Fashion",
         "marker": {
          "color": "#ab63fa"
         },
         "name": "Furniture, Textiles & Fashion",
         "offsetgroup": "Furniture, Textiles & Fashion",
         "orientation": "v",
         "showlegend": true,
         "text": [
          21673
         ],
         "textposition": "auto",
         "type": "bar",
         "x": [
          "Furniture, Textiles & Fashion"
         ],
         "xaxis": "x",
         "y": [
          21673
         ],
         "yaxis": "y"
        },
        {
         "alignmentgroup": "True",
         "hovertemplate": "Asset Ownership Name=%{x}<br>count=%{text}<extra></extra>",
         "legendgroup": "Word & Image",
         "marker": {
          "color": "#FFA15A"
         },
         "name": "Word & Image",
         "offsetgroup": "Word & Image",
         "orientation": "v",
         "showlegend": true,
         "text": [
          17995
         ],
         "textposition": "auto",
         "type": "bar",
         "x": [
          "Word & Image"
         ],
         "xaxis": "x",
         "y": [
          17995
         ],
         "yaxis": "y"
        },
        {
         "alignmentgroup": "True",
         "hovertemplate": "Asset Ownership Name=%{x}<br>count=%{text}<extra></extra>",
         "legendgroup": "Furniture & Woodwork",
         "marker": {
          "color": "#19d3f3"
         },
         "name": "Furniture & Woodwork",
         "offsetgroup": "Furniture & Woodwork",
         "orientation": "v",
         "showlegend": true,
         "text": [
          17438
         ],
         "textposition": "auto",
         "type": "bar",
         "x": [
          "Furniture & Woodwork"
         ],
         "xaxis": "x",
         "y": [
          17438
         ],
         "yaxis": "y"
        },
        {
         "alignmentgroup": "True",
         "hovertemplate": "Asset Ownership Name=%{x}<br>count=%{text}<extra></extra>",
         "legendgroup": "Sculpture, Metalwork, Ceramics & Glass",
         "marker": {
          "color": "#FF6692"
         },
         "name": "Sculpture, Metalwork, Ceramics & Glass",
         "offsetgroup": "Sculpture, Metalwork, Ceramics & Glass",
         "orientation": "v",
         "showlegend": true,
         "text": [
          17281
         ],
         "textposition": "auto",
         "type": "bar",
         "x": [
          "Sculpture, Metalwork, Ceramics & Glass"
         ],
         "xaxis": "x",
         "y": [
          17281
         ],
         "yaxis": "y"
        },
        {
         "alignmentgroup": "True",
         "hovertemplate": "Asset Ownership Name=%{x}<br>count=%{text}<extra></extra>",
         "legendgroup": "Middle East",
         "marker": {
          "color": "#B6E880"
         },
         "name": "Middle East",
         "offsetgroup": "Middle East",
         "orientation": "v",
         "showlegend": true,
         "text": [
          14564
         ],
         "textposition": "auto",
         "type": "bar",
         "x": [
          "Middle East"
         ],
         "xaxis": "x",
         "y": [
          14564
         ],
         "yaxis": "y"
        },
        {
         "alignmentgroup": "True",
         "hovertemplate": "Asset Ownership Name=%{x}<br>count=%{text}<extra></extra>",
         "legendgroup": "Object Photography",
         "marker": {
          "color": "#FF97FF"
         },
         "name": "Object Photography",
         "offsetgroup": "Object Photography",
         "orientation": "v",
         "showlegend": true,
         "text": [
          11256
         ],
         "textposition": "auto",
         "type": "bar",
         "x": [
          "Object Photography"
         ],
         "xaxis": "x",
         "y": [
          11256
         ],
         "yaxis": "y"
        },
        {
         "alignmentgroup": "True",
         "hovertemplate": "Asset Ownership Name=%{x}<br>count=%{text}<extra></extra>",
         "legendgroup": "Conservation - Textiles",
         "marker": {
          "color": "#FECB52"
         },
         "name": "Conservation - Textiles",
         "offsetgroup": "Conservation - Textiles",
         "orientation": "v",
         "showlegend": true,
         "text": [
          9786
         ],
         "textposition": "auto",
         "type": "bar",
         "x": [
          "Conservation - Textiles"
         ],
         "xaxis": "x",
         "y": [
          9786
         ],
         "yaxis": "y"
        },
        {
         "alignmentgroup": "True",
         "hovertemplate": "Asset Ownership Name=%{x}<br>count=%{text}<extra></extra>",
         "legendgroup": "Wedgwood",
         "marker": {
          "color": "#636efa"
         },
         "name": "Wedgwood",
         "offsetgroup": "Wedgwood",
         "orientation": "v",
         "showlegend": true,
         "text": [
          8799
         ],
         "textposition": "auto",
         "type": "bar",
         "x": [
          "Wedgwood"
         ],
         "xaxis": "x",
         "y": [
          8799
         ],
         "yaxis": "y"
        },
        {
         "alignmentgroup": "True",
         "hovertemplate": "Asset Ownership Name=%{x}<br>count=%{text}<extra></extra>",
         "legendgroup": "Conservation - Metals",
         "marker": {
          "color": "#EF553B"
         },
         "name": "Conservation - Metals",
         "offsetgroup": "Conservation - Metals",
         "orientation": "v",
         "showlegend": true,
         "text": [
          8199
         ],
         "textposition": "auto",
         "type": "bar",
         "x": [
          "Conservation - Metals"
         ],
         "xaxis": "x",
         "y": [
          8199
         ],
         "yaxis": "y"
        },
        {
         "alignmentgroup": "True",
         "hovertemplate": "Asset Ownership Name=%{x}<br>count=%{text}<extra></extra>",
         "legendgroup": "Department of Photography",
         "marker": {
          "color": "#00cc96"
         },
         "name": "Department of Photography",
         "offsetgroup": "Department of Photography",
         "orientation": "v",
         "showlegend": true,
         "text": [
          7635
         ],
         "textposition": "auto",
         "type": "bar",
         "x": [
          "Department of Photography"
         ],
         "xaxis": "x",
         "y": [
          7635
         ],
         "yaxis": "y"
        },
        {
         "alignmentgroup": "True",
         "hovertemplate": "Asset Ownership Name=%{x}<br>count=%{text}<extra></extra>",
         "legendgroup": "Conservation - Sculpture",
         "marker": {
          "color": "#ab63fa"
         },
         "name": "Conservation - Sculpture",
         "offsetgroup": "Conservation - Sculpture",
         "orientation": "v",
         "showlegend": true,
         "text": [
          6270
         ],
         "textposition": "auto",
         "type": "bar",
         "x": [
          "Conservation - Sculpture"
         ],
         "xaxis": "x",
         "y": [
          6270
         ],
         "yaxis": "y"
        },
        {
         "alignmentgroup": "True",
         "hovertemplate": "Asset Ownership Name=%{x}<br>count=%{text}<extra></extra>",
         "legendgroup": "V&A National Purchase Grant Fund",
         "marker": {
          "color": "#FFA15A"
         },
         "name": "V&A National Purchase Grant Fund",
         "offsetgroup": "V&A National Purchase Grant Fund",
         "orientation": "v",
         "showlegend": true,
         "text": [
          6080
         ],
         "textposition": "auto",
         "type": "bar",
         "x": [
          "V&A National Purchase Grant Fund"
         ],
         "xaxis": "x",
         "y": [
          6080
         ],
         "yaxis": "y"
        },
        {
         "alignmentgroup": "True",
         "hovertemplate": "Asset Ownership Name=%{x}<br>count=%{text}<extra></extra>",
         "legendgroup": "Design, Architecture and Digital Department",
         "marker": {
          "color": "#19d3f3"
         },
         "name": "Design, Architecture and Digital Department",
         "offsetgroup": "Design, Architecture and Digital Department",
         "orientation": "v",
         "showlegend": true,
         "text": [
          6033
         ],
         "textposition": "auto",
         "type": "bar",
         "x": [
          "Design, Architecture and Digital Department"
         ],
         "xaxis": "x",
         "y": [
          6033
         ],
         "yaxis": "y"
        },
        {
         "alignmentgroup": "True",
         "hovertemplate": "Asset Ownership Name=%{x}<br>count=%{text}<extra></extra>",
         "legendgroup": "Conservation - Furniture",
         "marker": {
          "color": "#FF6692"
         },
         "name": "Conservation - Furniture",
         "offsetgroup": "Conservation - Furniture",
         "orientation": "v",
         "showlegend": true,
         "text": [
          5991
         ],
         "textposition": "auto",
         "type": "bar",
         "x": [
          "Conservation - Furniture"
         ],
         "xaxis": "x",
         "y": [
          5991
         ],
         "yaxis": "y"
        },
        {
         "alignmentgroup": "True",
         "hovertemplate": "Asset Ownership Name=%{x}<br>count=%{text}<extra></extra>",
         "legendgroup": "Conservation - Stained Glass",
         "marker": {
          "color": "#B6E880"
         },
         "name": "Conservation - Stained Glass",
         "offsetgroup": "Conservation - Stained Glass",
         "orientation": "v",
         "showlegend": true,
         "text": [
          4893
         ],
         "textposition": "auto",
         "type": "bar",
         "x": [
          "Conservation - Stained Glass"
         ],
         "xaxis": "x",
         "y": [
          4893
         ],
         "yaxis": "y"
        },
        {
         "alignmentgroup": "True",
         "hovertemplate": "Asset Ownership Name=%{x}<br>count=%{text}<extra></extra>",
         "legendgroup": "Conservation - Paintings",
         "marker": {
          "color": "#FF97FF"
         },
         "name": "Conservation - Paintings",
         "offsetgroup": "Conservation - Paintings",
         "orientation": "v",
         "showlegend": true,
         "text": [
          4807
         ],
         "textposition": "auto",
         "type": "bar",
         "x": [
          "Conservation - Paintings"
         ],
         "xaxis": "x",
         "y": [
          4807
         ],
         "yaxis": "y"
        },
        {
         "alignmentgroup": "True",
         "hovertemplate": "Asset Ownership Name=%{x}<br>count=%{text}<extra></extra>",
         "legendgroup": "Exhibitions",
         "marker": {
          "color": "#FECB52"
         },
         "name": "Exhibitions",
         "offsetgroup": "Exhibitions",
         "orientation": "v",
         "showlegend": true,
         "text": [
          3965
         ],
         "textposition": "auto",
         "type": "bar",
         "x": [
          "Exhibitions"
         ],
         "xaxis": "x",
         "y": [
          3965
         ],
         "yaxis": "y"
        },
        {
         "alignmentgroup": "True",
         "hovertemplate": "Asset Ownership Name=%{x}<br>count=%{text}<extra></extra>",
         "legendgroup": "Resource Planning",
         "marker": {
          "color": "#636efa"
         },
         "name": "Resource Planning",
         "offsetgroup": "Resource Planning",
         "orientation": "v",
         "showlegend": true,
         "text": [
          2838
         ],
         "textposition": "auto",
         "type": "bar",
         "x": [
          "Resource Planning"
         ],
         "xaxis": "x",
         "y": [
          2838
         ],
         "yaxis": "y"
        },
        {
         "alignmentgroup": "True",
         "hovertemplate": "Asset Ownership Name=%{x}<br>count=%{text}<extra></extra>",
         "legendgroup": "National Art Library",
         "marker": {
          "color": "#EF553B"
         },
         "name": "National Art Library",
         "offsetgroup": "National Art Library",
         "orientation": "v",
         "showlegend": true,
         "text": [
          2438
         ],
         "textposition": "auto",
         "type": "bar",
         "x": [
          "National Art Library"
         ],
         "xaxis": "x",
         "y": [
          2438
         ],
         "yaxis": "y"
        },
        {
         "alignmentgroup": "True",
         "hovertemplate": "Asset Ownership Name=%{x}<br>count=%{text}<extra></extra>",
         "legendgroup": "Sculpture",
         "marker": {
          "color": "#00cc96"
         },
         "name": "Sculpture",
         "offsetgroup": "Sculpture",
         "orientation": "v",
         "showlegend": true,
         "text": [
          2285
         ],
         "textposition": "auto",
         "type": "bar",
         "x": [
          "Sculpture"
         ],
         "xaxis": "x",
         "y": [
          2285
         ],
         "yaxis": "y"
        },
        {
         "alignmentgroup": "True",
         "hovertemplate": "Asset Ownership Name=%{x}<br>count=%{text}<extra></extra>",
         "legendgroup": "Exhibitions & Loans",
         "marker": {
          "color": "#ab63fa"
         },
         "name": "Exhibitions & Loans",
         "offsetgroup": "Exhibitions & Loans",
         "orientation": "v",
         "showlegend": true,
         "text": [
          2277
         ],
         "textposition": "auto",
         "type": "bar",
         "x": [
          "Exhibitions & Loans"
         ],
         "xaxis": "x",
         "y": [
          2277
         ],
         "yaxis": "y"
        },
        {
         "alignmentgroup": "True",
         "hovertemplate": "Asset Ownership Name=%{x}<br>count=%{text}<extra></extra>",
         "legendgroup": "V&A Enterprises",
         "marker": {
          "color": "#FFA15A"
         },
         "name": "V&A Enterprises",
         "offsetgroup": "V&A Enterprises",
         "orientation": "v",
         "showlegend": true,
         "text": [
          2200
         ],
         "textposition": "auto",
         "type": "bar",
         "x": [
          "V&A Enterprises"
         ],
         "xaxis": "x",
         "y": [
          2200
         ],
         "yaxis": "y"
        },
        {
         "alignmentgroup": "True",
         "hovertemplate": "Asset Ownership Name=%{x}<br>count=%{text}<extra></extra>",
         "legendgroup": "Conservation - Ceramics and Glass",
         "marker": {
          "color": "#19d3f3"
         },
         "name": "Conservation - Ceramics and Glass",
         "offsetgroup": "Conservation - Ceramics and Glass",
         "orientation": "v",
         "showlegend": true,
         "text": [
          1938
         ],
         "textposition": "auto",
         "type": "bar",
         "x": [
          "Conservation - Ceramics and Glass"
         ],
         "xaxis": "x",
         "y": [
          1938
         ],
         "yaxis": "y"
        },
        {
         "alignmentgroup": "True",
         "hovertemplate": "Asset Ownership Name=%{x}<br>count=%{text}<extra></extra>",
         "legendgroup": "Prints, Drawings & Paintings",
         "marker": {
          "color": "#FF6692"
         },
         "name": "Prints, Drawings & Paintings",
         "offsetgroup": "Prints, Drawings & Paintings",
         "orientation": "v",
         "showlegend": true,
         "text": [
          1737
         ],
         "textposition": "auto",
         "type": "bar",
         "x": [
          "Prints, Drawings & Paintings"
         ],
         "xaxis": "x",
         "y": [
          1737
         ],
         "yaxis": "y"
        },
        {
         "alignmentgroup": "True",
         "hovertemplate": "Asset Ownership Name=%{x}<br>count=%{text}<extra></extra>",
         "legendgroup": "Beatrix Potter Collection",
         "marker": {
          "color": "#B6E880"
         },
         "name": "Beatrix Potter Collection",
         "offsetgroup": "Beatrix Potter Collection",
         "orientation": "v",
         "showlegend": true,
         "text": [
          1533
         ],
         "textposition": "auto",
         "type": "bar",
         "x": [
          "Beatrix Potter Collection"
         ],
         "xaxis": "x",
         "y": [
          1533
         ],
         "yaxis": "y"
        },
        {
         "alignmentgroup": "True",
         "hovertemplate": "Asset Ownership Name=%{x}<br>count=%{text}<extra></extra>",
         "legendgroup": "Archive of Art and Design",
         "marker": {
          "color": "#FF97FF"
         },
         "name": "Archive of Art and Design",
         "offsetgroup": "Archive of Art and Design",
         "orientation": "v",
         "showlegend": true,
         "text": [
          1356
         ],
         "textposition": "auto",
         "type": "bar",
         "x": [
          "Archive of Art and Design"
         ],
         "xaxis": "x",
         "y": [
          1356
         ],
         "yaxis": "y"
        },
        {
         "alignmentgroup": "True",
         "hovertemplate": "Asset Ownership Name=%{x}<br>count=%{text}<extra></extra>",
         "legendgroup": "V&A Archives",
         "marker": {
          "color": "#FECB52"
         },
         "name": "V&A Archives",
         "offsetgroup": "V&A Archives",
         "orientation": "v",
         "showlegend": true,
         "text": [
          1342
         ],
         "textposition": "auto",
         "type": "bar",
         "x": [
          "V&A Archives"
         ],
         "xaxis": "x",
         "y": [
          1342
         ],
         "yaxis": "y"
        },
        {
         "alignmentgroup": "True",
         "hovertemplate": "Asset Ownership Name=%{x}<br>count=%{text}<extra></extra>",
         "legendgroup": "Learning & Interpretation",
         "marker": {
          "color": "#636efa"
         },
         "name": "Learning & Interpretation",
         "offsetgroup": "Learning & Interpretation",
         "orientation": "v",
         "showlegend": true,
         "text": [
          1333
         ],
         "textposition": "auto",
         "type": "bar",
         "x": [
          "Learning & Interpretation"
         ],
         "xaxis": "x",
         "y": [
          1333
         ],
         "yaxis": "y"
        },
        {
         "alignmentgroup": "True",
         "hovertemplate": "Asset Ownership Name=%{x}<br>count=%{text}<extra></extra>",
         "legendgroup": "Conservation - Science",
         "marker": {
          "color": "#EF553B"
         },
         "name": "Conservation - Science",
         "offsetgroup": "Conservation - Science",
         "orientation": "v",
         "showlegend": true,
         "text": [
          1233
         ],
         "textposition": "auto",
         "type": "bar",
         "x": [
          "Conservation - Science"
         ],
         "xaxis": "x",
         "y": [
          1233
         ],
         "yaxis": "y"
        },
        {
         "alignmentgroup": "True",
         "hovertemplate": "Asset Ownership Name=%{x}<br>count=%{text}<extra></extra>",
         "legendgroup": "Apprentices Scheme",
         "marker": {
          "color": "#00cc96"
         },
         "name": "Apprentices Scheme",
         "offsetgroup": "Apprentices Scheme",
         "orientation": "v",
         "showlegend": true,
         "text": [
          1143
         ],
         "textposition": "auto",
         "type": "bar",
         "x": [
          "Apprentices Scheme"
         ],
         "xaxis": "x",
         "y": [
          1143
         ],
         "yaxis": "y"
        },
        {
         "alignmentgroup": "True",
         "hovertemplate": "Asset Ownership Name=%{x}<br>count=%{text}<extra></extra>",
         "legendgroup": "Conservation - Paper",
         "marker": {
          "color": "#ab63fa"
         },
         "name": "Conservation - Paper",
         "offsetgroup": "Conservation - Paper",
         "orientation": "v",
         "showlegend": true,
         "text": [
          1137
         ],
         "textposition": "auto",
         "type": "bar",
         "x": [
          "Conservation - Paper"
         ],
         "xaxis": "x",
         "y": [
          1137
         ],
         "yaxis": "y"
        },
        {
         "alignmentgroup": "True",
         "hovertemplate": "Asset Ownership Name=%{x}<br>count=%{text}<extra></extra>",
         "legendgroup": "Photographs",
         "marker": {
          "color": "#FFA15A"
         },
         "name": "Photographs",
         "offsetgroup": "Photographs",
         "orientation": "v",
         "showlegend": true,
         "text": [
          711
         ],
         "textposition": "auto",
         "type": "bar",
         "x": [
          "Photographs"
         ],
         "xaxis": "x",
         "y": [
          711
         ],
         "yaxis": "y"
        },
        {
         "alignmentgroup": "True",
         "hovertemplate": "Asset Ownership Name=%{x}<br>count=%{text}<extra></extra>",
         "legendgroup": "Research",
         "marker": {
          "color": "#19d3f3"
         },
         "name": "Research",
         "offsetgroup": "Research",
         "orientation": "v",
         "showlegend": true,
         "text": [
          639
         ],
         "textposition": "auto",
         "type": "bar",
         "x": [
          "Research"
         ],
         "xaxis": "x",
         "y": [
          639
         ],
         "yaxis": "y"
        },
        {
         "alignmentgroup": "True",
         "hovertemplate": "Asset Ownership Name=%{x}<br>count=%{text}<extra></extra>",
         "legendgroup": "Designs",
         "marker": {
          "color": "#FF6692"
         },
         "name": "Designs",
         "offsetgroup": "Designs",
         "orientation": "v",
         "showlegend": true,
         "text": [
          426
         ],
         "textposition": "auto",
         "type": "bar",
         "x": [
          "Designs"
         ],
         "xaxis": "x",
         "y": [
          426
         ],
         "yaxis": "y"
        },
        {
         "alignmentgroup": "True",
         "hovertemplate": "Asset Ownership Name=%{x}<br>count=%{text}<extra></extra>",
         "legendgroup": "Conservation - Frames",
         "marker": {
          "color": "#B6E880"
         },
         "name": "Conservation - Frames",
         "offsetgroup": "Conservation - Frames",
         "orientation": "v",
         "showlegend": true,
         "text": [
          343
         ],
         "textposition": "auto",
         "type": "bar",
         "x": [
          "Conservation - Frames"
         ],
         "xaxis": "x",
         "y": [
          343
         ],
         "yaxis": "y"
        },
        {
         "alignmentgroup": "True",
         "hovertemplate": "Asset Ownership Name=%{x}<br>count=%{text}<extra></extra>",
         "legendgroup": "Digital Media",
         "marker": {
          "color": "#FF97FF"
         },
         "name": "Digital Media",
         "offsetgroup": "Digital Media",
         "orientation": "v",
         "showlegend": true,
         "text": [
          316
         ],
         "textposition": "auto",
         "type": "bar",
         "x": [
          "Digital Media"
         ],
         "xaxis": "x",
         "y": [
          316
         ],
         "yaxis": "y"
        },
        {
         "alignmentgroup": "True",
         "hovertemplate": "Asset Ownership Name=%{x}<br>count=%{text}<extra></extra>",
         "legendgroup": "Projects, Design & Estates",
         "marker": {
          "color": "#FECB52"
         },
         "name": "Projects, Design & Estates",
         "offsetgroup": "Projects, Design & Estates",
         "orientation": "v",
         "showlegend": true,
         "text": [
          193
         ],
         "textposition": "auto",
         "type": "bar",
         "x": [
          "Projects, Design & Estates"
         ],
         "xaxis": "x",
         "y": [
          193
         ],
         "yaxis": "y"
        },
        {
         "alignmentgroup": "True",
         "hovertemplate": "Asset Ownership Name=%{x}<br>count=%{text}<extra></extra>",
         "legendgroup": "Conservation - Books",
         "marker": {
          "color": "#636efa"
         },
         "name": "Conservation - Books",
         "offsetgroup": "Conservation - Books",
         "orientation": "v",
         "showlegend": true,
         "text": [
          96
         ],
         "textposition": "auto",
         "type": "bar",
         "x": [
          "Conservation - Books"
         ],
         "xaxis": "x",
         "y": [
          96
         ],
         "yaxis": "y"
        },
        {
         "alignmentgroup": "True",
         "hovertemplate": "Asset Ownership Name=%{x}<br>count=%{text}<extra></extra>",
         "legendgroup": "BH Advance Works",
         "marker": {
          "color": "#EF553B"
         },
         "name": "BH Advance Works",
         "offsetgroup": "BH Advance Works",
         "orientation": "v",
         "showlegend": true,
         "text": [
          90
         ],
         "textposition": "auto",
         "type": "bar",
         "x": [
          "BH Advance Works"
         ],
         "xaxis": "x",
         "y": [
          90
         ],
         "yaxis": "y"
        },
        {
         "alignmentgroup": "True",
         "hovertemplate": "Asset Ownership Name=%{x}<br>count=%{text}<extra></extra>",
         "legendgroup": "FuturePlan",
         "marker": {
          "color": "#00cc96"
         },
         "name": "FuturePlan",
         "offsetgroup": "FuturePlan",
         "orientation": "v",
         "showlegend": true,
         "text": [
          77
         ],
         "textposition": "auto",
         "type": "bar",
         "x": [
          "FuturePlan"
         ],
         "xaxis": "x",
         "y": [
          77
         ],
         "yaxis": "y"
        },
        {
         "alignmentgroup": "True",
         "hovertemplate": "Asset Ownership Name=%{x}<br>count=%{text}<extra></extra>",
         "legendgroup": "Technical Services",
         "marker": {
          "color": "#ab63fa"
         },
         "name": "Technical Services",
         "offsetgroup": "Technical Services",
         "orientation": "v",
         "showlegend": true,
         "text": [
          66
         ],
         "textposition": "auto",
         "type": "bar",
         "x": [
          "Technical Services"
         ],
         "xaxis": "x",
         "y": [
          66
         ],
         "yaxis": "y"
        },
        {
         "alignmentgroup": "True",
         "hovertemplate": "Asset Ownership Name=%{x}<br>count=%{text}<extra></extra>",
         "legendgroup": "Directorate",
         "marker": {
          "color": "#FFA15A"
         },
         "name": "Directorate",
         "offsetgroup": "Directorate",
         "orientation": "v",
         "showlegend": true,
         "text": [
          41
         ],
         "textposition": "auto",
         "type": "bar",
         "x": [
          "Directorate"
         ],
         "xaxis": "x",
         "y": [
          41
         ],
         "yaxis": "y"
        },
        {
         "alignmentgroup": "True",
         "hovertemplate": "Asset Ownership Name=%{x}<br>count=%{text}<extra></extra>",
         "legendgroup": "No Ownership",
         "marker": {
          "color": "#19d3f3"
         },
         "name": "No Ownership",
         "offsetgroup": "No Ownership",
         "orientation": "v",
         "showlegend": true,
         "text": [
          37
         ],
         "textposition": "auto",
         "type": "bar",
         "x": [
          "No Ownership"
         ],
         "xaxis": "x",
         "y": [
          37
         ],
         "yaxis": "y"
        },
        {
         "alignmentgroup": "True",
         "hovertemplate": "Asset Ownership Name=%{x}<br>count=%{text}<extra></extra>",
         "legendgroup": "Paintings",
         "marker": {
          "color": "#FF6692"
         },
         "name": "Paintings",
         "offsetgroup": "Paintings",
         "orientation": "v",
         "showlegend": true,
         "text": [
          36
         ],
         "textposition": "auto",
         "type": "bar",
         "x": [
          "Paintings"
         ],
         "xaxis": "x",
         "y": [
          36
         ],
         "yaxis": "y"
        },
        {
         "alignmentgroup": "True",
         "hovertemplate": "Asset Ownership Name=%{x}<br>count=%{text}<extra></extra>",
         "legendgroup": "Loans Section",
         "marker": {
          "color": "#B6E880"
         },
         "name": "Loans Section",
         "offsetgroup": "Loans Section",
         "orientation": "v",
         "showlegend": true,
         "text": [
          35
         ],
         "textposition": "auto",
         "type": "bar",
         "x": [
          "Loans Section"
         ],
         "xaxis": "x",
         "y": [
          35
         ],
         "yaxis": "y"
        },
        {
         "alignmentgroup": "True",
         "hovertemplate": "Asset Ownership Name=%{x}<br>count=%{text}<extra></extra>",
         "legendgroup": "Estates",
         "marker": {
          "color": "#FF97FF"
         },
         "name": "Estates",
         "offsetgroup": "Estates",
         "orientation": "v",
         "showlegend": true,
         "text": [
          28
         ],
         "textposition": "auto",
         "type": "bar",
         "x": [
          "Estates"
         ],
         "xaxis": "x",
         "y": [
          28
         ],
         "yaxis": "y"
        },
        {
         "alignmentgroup": "True",
         "hovertemplate": "Asset Ownership Name=%{x}<br>count=%{text}<extra></extra>",
         "legendgroup": "Projects",
         "marker": {
          "color": "#FECB52"
         },
         "name": "Projects",
         "offsetgroup": "Projects",
         "orientation": "v",
         "showlegend": true,
         "text": [
          27
         ],
         "textposition": "auto",
         "type": "bar",
         "x": [
          "Projects"
         ],
         "xaxis": "x",
         "y": [
          27
         ],
         "yaxis": "y"
        },
        {
         "alignmentgroup": "True",
         "hovertemplate": "Asset Ownership Name=%{x}<br>count=%{text}<extra></extra>",
         "legendgroup": "Press & Marketing",
         "marker": {
          "color": "#636efa"
         },
         "name": "Press & Marketing",
         "offsetgroup": "Press & Marketing",
         "orientation": "v",
         "showlegend": true,
         "text": [
          13
         ],
         "textposition": "auto",
         "type": "bar",
         "x": [
          "Press & Marketing"
         ],
         "xaxis": "x",
         "y": [
          13
         ],
         "yaxis": "y"
        },
        {
         "alignmentgroup": "True",
         "hovertemplate": "Asset Ownership Name=%{x}<br>count=%{text}<extra></extra>",
         "legendgroup": "None",
         "marker": {
          "color": "#EF553B"
         },
         "name": "None",
         "offsetgroup": "None",
         "orientation": "v",
         "showlegend": true,
         "text": [
          10
         ],
         "textposition": "auto",
         "type": "bar",
         "x": [
          "None"
         ],
         "xaxis": "x",
         "y": [
          10
         ],
         "yaxis": "y"
        },
        {
         "alignmentgroup": "True",
         "hovertemplate": "Asset Ownership Name=%{x}<br>count=%{text}<extra></extra>",
         "legendgroup": "Prints",
         "marker": {
          "color": "#00cc96"
         },
         "name": "Prints",
         "offsetgroup": "Prints",
         "orientation": "v",
         "showlegend": true,
         "text": [
          6
         ],
         "textposition": "auto",
         "type": "bar",
         "x": [
          "Prints"
         ],
         "xaxis": "x",
         "y": [
          6
         ],
         "yaxis": "y"
        },
        {
         "alignmentgroup": "True",
         "hovertemplate": "Asset Ownership Name=%{x}<br>count=%{text}<extra></extra>",
         "legendgroup": "Information Systems Services",
         "marker": {
          "color": "#ab63fa"
         },
         "name": "Information Systems Services",
         "offsetgroup": "Information Systems Services",
         "orientation": "v",
         "showlegend": true,
         "text": [
          6
         ],
         "textposition": "auto",
         "type": "bar",
         "x": [
          "Information Systems Services"
         ],
         "xaxis": "x",
         "y": [
          6
         ],
         "yaxis": "y"
        },
        {
         "alignmentgroup": "True",
         "hovertemplate": "Asset Ownership Name=%{x}<br>count=%{text}<extra></extra>",
         "legendgroup": "Security",
         "marker": {
          "color": "#FFA15A"
         },
         "name": "Security",
         "offsetgroup": "Security",
         "orientation": "v",
         "showlegend": true,
         "text": [
          4
         ],
         "textposition": "auto",
         "type": "bar",
         "x": [
          "Security"
         ],
         "xaxis": "x",
         "y": [
          4
         ],
         "yaxis": "y"
        },
        {
         "alignmentgroup": "True",
         "hovertemplate": "Asset Ownership Name=%{x}<br>count=%{text}<extra></extra>",
         "legendgroup": "Framers",
         "marker": {
          "color": "#19d3f3"
         },
         "name": "Framers",
         "offsetgroup": "Framers",
         "orientation": "v",
         "showlegend": true,
         "text": [
          4
         ],
         "textposition": "auto",
         "type": "bar",
         "x": [
          "Framers"
         ],
         "xaxis": "x",
         "y": [
          4
         ],
         "yaxis": "y"
        },
        {
         "alignmentgroup": "True",
         "hovertemplate": "Asset Ownership Name=%{x}<br>count=%{text}<extra></extra>",
         "legendgroup": "Design",
         "marker": {
          "color": "#FF6692"
         },
         "name": "Design",
         "offsetgroup": "Design",
         "orientation": "v",
         "showlegend": true,
         "text": [
          3
         ],
         "textposition": "auto",
         "type": "bar",
         "x": [
          "Design"
         ],
         "xaxis": "x",
         "y": [
          3
         ],
         "yaxis": "y"
        },
        {
         "alignmentgroup": "True",
         "hovertemplate": "Asset Ownership Name=%{x}<br>count=%{text}<extra></extra>",
         "legendgroup": "Museum Events",
         "marker": {
          "color": "#B6E880"
         },
         "name": "Museum Events",
         "offsetgroup": "Museum Events",
         "orientation": "v",
         "showlegend": true,
         "text": [
          3
         ],
         "textposition": "auto",
         "type": "bar",
         "x": [
          "Museum Events"
         ],
         "xaxis": "x",
         "y": [
          3
         ],
         "yaxis": "y"
        },
        {
         "alignmentgroup": "True",
         "hovertemplate": "Asset Ownership Name=%{x}<br>count=%{text}<extra></extra>",
         "legendgroup": "Public Affairs",
         "marker": {
          "color": "#FF97FF"
         },
         "name": "Public Affairs",
         "offsetgroup": "Public Affairs",
         "orientation": "v",
         "showlegend": true,
         "text": [
          2
         ],
         "textposition": "auto",
         "type": "bar",
         "x": [
          "Public Affairs"
         ],
         "xaxis": "x",
         "y": [
          2
         ],
         "yaxis": "y"
        },
        {
         "alignmentgroup": "True",
         "hovertemplate": "Asset Ownership Name=%{x}<br>count=%{text}<extra></extra>",
         "legendgroup": "VAE Licensing and Brand Development",
         "marker": {
          "color": "#FECB52"
         },
         "name": "VAE Licensing and Brand Development",
         "offsetgroup": "VAE Licensing and Brand Development",
         "orientation": "v",
         "showlegend": true,
         "text": [
          2
         ],
         "textposition": "auto",
         "type": "bar",
         "x": [
          "VAE Licensing and Brand Development"
         ],
         "xaxis": "x",
         "y": [
          2
         ],
         "yaxis": "y"
        },
        {
         "alignmentgroup": "True",
         "hovertemplate": "Asset Ownership Name=%{x}<br>count=%{text}<extra></extra>",
         "legendgroup": "ELT",
         "marker": {
          "color": "#636efa"
         },
         "name": "ELT",
         "offsetgroup": "ELT",
         "orientation": "v",
         "showlegend": true,
         "text": [
          1
         ],
         "textposition": "auto",
         "type": "bar",
         "x": [
          "ELT"
         ],
         "xaxis": "x",
         "y": [
          1
         ],
         "yaxis": "y"
        },
        {
         "alignmentgroup": "True",
         "hovertemplate": "Asset Ownership Name=%{x}<br>count=%{text}<extra></extra>",
         "legendgroup": "FDG",
         "marker": {
          "color": "#EF553B"
         },
         "name": "FDG",
         "offsetgroup": "FDG",
         "orientation": "v",
         "showlegend": true,
         "text": [
          1
         ],
         "textposition": "auto",
         "type": "bar",
         "x": [
          "FDG"
         ],
         "xaxis": "x",
         "y": [
          1
         ],
         "yaxis": "y"
        },
        {
         "alignmentgroup": "True",
         "hovertemplate": "Asset Ownership Name=%{x}<br>count=%{text}<extra></extra>",
         "legendgroup": "International Initiatives",
         "marker": {
          "color": "#00cc96"
         },
         "name": "International Initiatives",
         "offsetgroup": "International Initiatives",
         "orientation": "v",
         "showlegend": true,
         "text": [
          1
         ],
         "textposition": "auto",
         "type": "bar",
         "x": [
          "International Initiatives"
         ],
         "xaxis": "x",
         "y": [
          1
         ],
         "yaxis": "y"
        },
        {
         "alignmentgroup": "True",
         "hovertemplate": "Asset Ownership Name=%{x}<br>count=%{text}<extra></extra>",
         "legendgroup": "Development",
         "marker": {
          "color": "#ab63fa"
         },
         "name": "Development",
         "offsetgroup": "Development",
         "orientation": "v",
         "showlegend": true,
         "text": [
          1
         ],
         "textposition": "auto",
         "type": "bar",
         "x": [
          "Development"
         ],
         "xaxis": "x",
         "y": [
          1
         ],
         "yaxis": "y"
        },
        {
         "alignmentgroup": "True",
         "hovertemplate": "Asset Ownership Name=%{x}<br>count=%{text}<extra></extra>",
         "legendgroup": "Digital Management",
         "marker": {
          "color": "#FFA15A"
         },
         "name": "Digital Management",
         "offsetgroup": "Digital Management",
         "orientation": "v",
         "showlegend": true,
         "text": [
          1
         ],
         "textposition": "auto",
         "type": "bar",
         "x": [
          "Digital Management"
         ],
         "xaxis": "x",
         "y": [
          1
         ],
         "yaxis": "y"
        }
       ],
       "layout": {
        "barmode": "relative",
        "legend": {
         "title": {
          "text": "Asset Ownership Name"
         },
         "tracegroupgap": 0
        },
        "template": {
         "data": {
          "bar": [
           {
            "error_x": {
             "color": "#2a3f5f"
            },
            "error_y": {
             "color": "#2a3f5f"
            },
            "marker": {
             "line": {
              "color": "#E5ECF6",
              "width": 0.5
             }
            },
            "type": "bar"
           }
          ],
          "barpolar": [
           {
            "marker": {
             "line": {
              "color": "#E5ECF6",
              "width": 0.5
             }
            },
            "type": "barpolar"
           }
          ],
          "carpet": [
           {
            "aaxis": {
             "endlinecolor": "#2a3f5f",
             "gridcolor": "white",
             "linecolor": "white",
             "minorgridcolor": "white",
             "startlinecolor": "#2a3f5f"
            },
            "baxis": {
             "endlinecolor": "#2a3f5f",
             "gridcolor": "white",
             "linecolor": "white",
             "minorgridcolor": "white",
             "startlinecolor": "#2a3f5f"
            },
            "type": "carpet"
           }
          ],
          "choropleth": [
           {
            "colorbar": {
             "outlinewidth": 0,
             "ticks": ""
            },
            "type": "choropleth"
           }
          ],
          "contour": [
           {
            "colorbar": {
             "outlinewidth": 0,
             "ticks": ""
            },
            "colorscale": [
             [
              0,
              "#0d0887"
             ],
             [
              0.1111111111111111,
              "#46039f"
             ],
             [
              0.2222222222222222,
              "#7201a8"
             ],
             [
              0.3333333333333333,
              "#9c179e"
             ],
             [
              0.4444444444444444,
              "#bd3786"
             ],
             [
              0.5555555555555556,
              "#d8576b"
             ],
             [
              0.6666666666666666,
              "#ed7953"
             ],
             [
              0.7777777777777778,
              "#fb9f3a"
             ],
             [
              0.8888888888888888,
              "#fdca26"
             ],
             [
              1,
              "#f0f921"
             ]
            ],
            "type": "contour"
           }
          ],
          "contourcarpet": [
           {
            "colorbar": {
             "outlinewidth": 0,
             "ticks": ""
            },
            "type": "contourcarpet"
           }
          ],
          "heatmap": [
           {
            "colorbar": {
             "outlinewidth": 0,
             "ticks": ""
            },
            "colorscale": [
             [
              0,
              "#0d0887"
             ],
             [
              0.1111111111111111,
              "#46039f"
             ],
             [
              0.2222222222222222,
              "#7201a8"
             ],
             [
              0.3333333333333333,
              "#9c179e"
             ],
             [
              0.4444444444444444,
              "#bd3786"
             ],
             [
              0.5555555555555556,
              "#d8576b"
             ],
             [
              0.6666666666666666,
              "#ed7953"
             ],
             [
              0.7777777777777778,
              "#fb9f3a"
             ],
             [
              0.8888888888888888,
              "#fdca26"
             ],
             [
              1,
              "#f0f921"
             ]
            ],
            "type": "heatmap"
           }
          ],
          "heatmapgl": [
           {
            "colorbar": {
             "outlinewidth": 0,
             "ticks": ""
            },
            "colorscale": [
             [
              0,
              "#0d0887"
             ],
             [
              0.1111111111111111,
              "#46039f"
             ],
             [
              0.2222222222222222,
              "#7201a8"
             ],
             [
              0.3333333333333333,
              "#9c179e"
             ],
             [
              0.4444444444444444,
              "#bd3786"
             ],
             [
              0.5555555555555556,
              "#d8576b"
             ],
             [
              0.6666666666666666,
              "#ed7953"
             ],
             [
              0.7777777777777778,
              "#fb9f3a"
             ],
             [
              0.8888888888888888,
              "#fdca26"
             ],
             [
              1,
              "#f0f921"
             ]
            ],
            "type": "heatmapgl"
           }
          ],
          "histogram": [
           {
            "marker": {
             "colorbar": {
              "outlinewidth": 0,
              "ticks": ""
             }
            },
            "type": "histogram"
           }
          ],
          "histogram2d": [
           {
            "colorbar": {
             "outlinewidth": 0,
             "ticks": ""
            },
            "colorscale": [
             [
              0,
              "#0d0887"
             ],
             [
              0.1111111111111111,
              "#46039f"
             ],
             [
              0.2222222222222222,
              "#7201a8"
             ],
             [
              0.3333333333333333,
              "#9c179e"
             ],
             [
              0.4444444444444444,
              "#bd3786"
             ],
             [
              0.5555555555555556,
              "#d8576b"
             ],
             [
              0.6666666666666666,
              "#ed7953"
             ],
             [
              0.7777777777777778,
              "#fb9f3a"
             ],
             [
              0.8888888888888888,
              "#fdca26"
             ],
             [
              1,
              "#f0f921"
             ]
            ],
            "type": "histogram2d"
           }
          ],
          "histogram2dcontour": [
           {
            "colorbar": {
             "outlinewidth": 0,
             "ticks": ""
            },
            "colorscale": [
             [
              0,
              "#0d0887"
             ],
             [
              0.1111111111111111,
              "#46039f"
             ],
             [
              0.2222222222222222,
              "#7201a8"
             ],
             [
              0.3333333333333333,
              "#9c179e"
             ],
             [
              0.4444444444444444,
              "#bd3786"
             ],
             [
              0.5555555555555556,
              "#d8576b"
             ],
             [
              0.6666666666666666,
              "#ed7953"
             ],
             [
              0.7777777777777778,
              "#fb9f3a"
             ],
             [
              0.8888888888888888,
              "#fdca26"
             ],
             [
              1,
              "#f0f921"
             ]
            ],
            "type": "histogram2dcontour"
           }
          ],
          "mesh3d": [
           {
            "colorbar": {
             "outlinewidth": 0,
             "ticks": ""
            },
            "type": "mesh3d"
           }
          ],
          "parcoords": [
           {
            "line": {
             "colorbar": {
              "outlinewidth": 0,
              "ticks": ""
             }
            },
            "type": "parcoords"
           }
          ],
          "pie": [
           {
            "automargin": true,
            "type": "pie"
           }
          ],
          "scatter": [
           {
            "marker": {
             "colorbar": {
              "outlinewidth": 0,
              "ticks": ""
             }
            },
            "type": "scatter"
           }
          ],
          "scatter3d": [
           {
            "line": {
             "colorbar": {
              "outlinewidth": 0,
              "ticks": ""
             }
            },
            "marker": {
             "colorbar": {
              "outlinewidth": 0,
              "ticks": ""
             }
            },
            "type": "scatter3d"
           }
          ],
          "scattercarpet": [
           {
            "marker": {
             "colorbar": {
              "outlinewidth": 0,
              "ticks": ""
             }
            },
            "type": "scattercarpet"
           }
          ],
          "scattergeo": [
           {
            "marker": {
             "colorbar": {
              "outlinewidth": 0,
              "ticks": ""
             }
            },
            "type": "scattergeo"
           }
          ],
          "scattergl": [
           {
            "marker": {
             "colorbar": {
              "outlinewidth": 0,
              "ticks": ""
             }
            },
            "type": "scattergl"
           }
          ],
          "scattermapbox": [
           {
            "marker": {
             "colorbar": {
              "outlinewidth": 0,
              "ticks": ""
             }
            },
            "type": "scattermapbox"
           }
          ],
          "scatterpolar": [
           {
            "marker": {
             "colorbar": {
              "outlinewidth": 0,
              "ticks": ""
             }
            },
            "type": "scatterpolar"
           }
          ],
          "scatterpolargl": [
           {
            "marker": {
             "colorbar": {
              "outlinewidth": 0,
              "ticks": ""
             }
            },
            "type": "scatterpolargl"
           }
          ],
          "scatterternary": [
           {
            "marker": {
             "colorbar": {
              "outlinewidth": 0,
              "ticks": ""
             }
            },
            "type": "scatterternary"
           }
          ],
          "surface": [
           {
            "colorbar": {
             "outlinewidth": 0,
             "ticks": ""
            },
            "colorscale": [
             [
              0,
              "#0d0887"
             ],
             [
              0.1111111111111111,
              "#46039f"
             ],
             [
              0.2222222222222222,
              "#7201a8"
             ],
             [
              0.3333333333333333,
              "#9c179e"
             ],
             [
              0.4444444444444444,
              "#bd3786"
             ],
             [
              0.5555555555555556,
              "#d8576b"
             ],
             [
              0.6666666666666666,
              "#ed7953"
             ],
             [
              0.7777777777777778,
              "#fb9f3a"
             ],
             [
              0.8888888888888888,
              "#fdca26"
             ],
             [
              1,
              "#f0f921"
             ]
            ],
            "type": "surface"
           }
          ],
          "table": [
           {
            "cells": {
             "fill": {
              "color": "#EBF0F8"
             },
             "line": {
              "color": "white"
             }
            },
            "header": {
             "fill": {
              "color": "#C8D4E3"
             },
             "line": {
              "color": "white"
             }
            },
            "type": "table"
           }
          ]
         },
         "layout": {
          "annotationdefaults": {
           "arrowcolor": "#2a3f5f",
           "arrowhead": 0,
           "arrowwidth": 1
          },
          "autotypenumbers": "strict",
          "coloraxis": {
           "colorbar": {
            "outlinewidth": 0,
            "ticks": ""
           }
          },
          "colorscale": {
           "diverging": [
            [
             0,
             "#8e0152"
            ],
            [
             0.1,
             "#c51b7d"
            ],
            [
             0.2,
             "#de77ae"
            ],
            [
             0.3,
             "#f1b6da"
            ],
            [
             0.4,
             "#fde0ef"
            ],
            [
             0.5,
             "#f7f7f7"
            ],
            [
             0.6,
             "#e6f5d0"
            ],
            [
             0.7,
             "#b8e186"
            ],
            [
             0.8,
             "#7fbc41"
            ],
            [
             0.9,
             "#4d9221"
            ],
            [
             1,
             "#276419"
            ]
           ],
           "sequential": [
            [
             0,
             "#0d0887"
            ],
            [
             0.1111111111111111,
             "#46039f"
            ],
            [
             0.2222222222222222,
             "#7201a8"
            ],
            [
             0.3333333333333333,
             "#9c179e"
            ],
            [
             0.4444444444444444,
             "#bd3786"
            ],
            [
             0.5555555555555556,
             "#d8576b"
            ],
            [
             0.6666666666666666,
             "#ed7953"
            ],
            [
             0.7777777777777778,
             "#fb9f3a"
            ],
            [
             0.8888888888888888,
             "#fdca26"
            ],
            [
             1,
             "#f0f921"
            ]
           ],
           "sequentialminus": [
            [
             0,
             "#0d0887"
            ],
            [
             0.1111111111111111,
             "#46039f"
            ],
            [
             0.2222222222222222,
             "#7201a8"
            ],
            [
             0.3333333333333333,
             "#9c179e"
            ],
            [
             0.4444444444444444,
             "#bd3786"
            ],
            [
             0.5555555555555556,
             "#d8576b"
            ],
            [
             0.6666666666666666,
             "#ed7953"
            ],
            [
             0.7777777777777778,
             "#fb9f3a"
            ],
            [
             0.8888888888888888,
             "#fdca26"
            ],
            [
             1,
             "#f0f921"
            ]
           ]
          },
          "colorway": [
           "#636efa",
           "#EF553B",
           "#00cc96",
           "#ab63fa",
           "#FFA15A",
           "#19d3f3",
           "#FF6692",
           "#B6E880",
           "#FF97FF",
           "#FECB52"
          ],
          "font": {
           "color": "#2a3f5f"
          },
          "geo": {
           "bgcolor": "white",
           "lakecolor": "white",
           "landcolor": "#E5ECF6",
           "showlakes": true,
           "showland": true,
           "subunitcolor": "white"
          },
          "hoverlabel": {
           "align": "left"
          },
          "hovermode": "closest",
          "mapbox": {
           "style": "light"
          },
          "paper_bgcolor": "white",
          "plot_bgcolor": "#E5ECF6",
          "polar": {
           "angularaxis": {
            "gridcolor": "white",
            "linecolor": "white",
            "ticks": ""
           },
           "bgcolor": "#E5ECF6",
           "radialaxis": {
            "gridcolor": "white",
            "linecolor": "white",
            "ticks": ""
           }
          },
          "scene": {
           "xaxis": {
            "backgroundcolor": "#E5ECF6",
            "gridcolor": "white",
            "gridwidth": 2,
            "linecolor": "white",
            "showbackground": true,
            "ticks": "",
            "zerolinecolor": "white"
           },
           "yaxis": {
            "backgroundcolor": "#E5ECF6",
            "gridcolor": "white",
            "gridwidth": 2,
            "linecolor": "white",
            "showbackground": true,
            "ticks": "",
            "zerolinecolor": "white"
           },
           "zaxis": {
            "backgroundcolor": "#E5ECF6",
            "gridcolor": "white",
            "gridwidth": 2,
            "linecolor": "white",
            "showbackground": true,
            "ticks": "",
            "zerolinecolor": "white"
           }
          },
          "shapedefaults": {
           "line": {
            "color": "#2a3f5f"
           }
          },
          "ternary": {
           "aaxis": {
            "gridcolor": "white",
            "linecolor": "white",
            "ticks": ""
           },
           "baxis": {
            "gridcolor": "white",
            "linecolor": "white",
            "ticks": ""
           },
           "bgcolor": "#E5ECF6",
           "caxis": {
            "gridcolor": "white",
            "linecolor": "white",
            "ticks": ""
           }
          },
          "title": {
           "x": 0.05
          },
          "xaxis": {
           "automargin": true,
           "gridcolor": "white",
           "linecolor": "white",
           "ticks": "",
           "title": {
            "standoff": 15
           },
           "zerolinecolor": "white",
           "zerolinewidth": 2
          },
          "yaxis": {
           "automargin": true,
           "gridcolor": "white",
           "linecolor": "white",
           "ticks": "",
           "title": {
            "standoff": 15
           },
           "zerolinecolor": "white",
           "zerolinewidth": 2
          }
         }
        },
        "title": {
         "text": "Asset Ownership Name"
        },
        "xaxis": {
         "anchor": "y",
         "categoryarray": [
          "Photographic Studio",
          "Multimedia & Social Documentary",
          "Textiles & Fashion",
          "Conservation",
          "Asian Department",
          "Theatre & Performance",
          "Collections Management Department",
          "South and South East Asia",
          "Computer Art",
          "East Asia",
          "Metalwork",
          "Ceramics & Glass",
          "Museum of Childhood",
          "Furniture, Textiles & Fashion",
          "Word & Image",
          "Furniture & Woodwork",
          "Sculpture, Metalwork, Ceramics & Glass",
          "Middle East",
          "Object Photography",
          "Conservation - Textiles",
          "Wedgwood",
          "Conservation - Metals",
          "Department of Photography",
          "Conservation - Sculpture",
          "V&A National Purchase Grant Fund",
          "Design, Architecture and Digital Department",
          "Conservation - Furniture",
          "Conservation - Stained Glass",
          "Conservation - Paintings",
          "Exhibitions",
          "Resource Planning",
          "National Art Library",
          "Sculpture",
          "Exhibitions & Loans",
          "V&A Enterprises",
          "Conservation - Ceramics and Glass",
          "Prints, Drawings & Paintings",
          "Beatrix Potter Collection",
          "Archive of Art and Design",
          "V&A Archives",
          "Learning & Interpretation",
          "Conservation - Science",
          "Apprentices Scheme",
          "Conservation - Paper",
          "Photographs",
          "Research",
          "Designs",
          "Conservation - Frames",
          "Digital Media",
          "Projects, Design & Estates",
          "Conservation - Books",
          "BH Advance Works",
          "FuturePlan",
          "Technical Services",
          "Directorate",
          "No Ownership",
          "Paintings",
          "Loans Section",
          "Estates",
          "Projects",
          "Press & Marketing",
          "None",
          "Prints",
          "Information Systems Services",
          "Security",
          "Framers",
          "Design",
          "Museum Events",
          "Public Affairs",
          "VAE Licensing and Brand Development",
          "ELT",
          "FDG",
          "International Initiatives",
          "Development",
          "Digital Management"
         ],
         "categoryorder": "array",
         "domain": [
          0,
          1
         ],
         "title": {
          "text": "Asset Ownership Name"
         }
        },
        "yaxis": {
         "anchor": "x",
         "domain": [
          0,
          1
         ],
         "title": {
          "text": "count"
         }
        }
       }
      },
      "text/html": [
       "<div>                            <div id=\"1cd7e4e2-2888-4a21-b941-5e278fc7860a\" class=\"plotly-graph-div\" style=\"height:525px; width:100%;\"></div>            <script type=\"text/javascript\">                require([\"plotly\"], function(Plotly) {                    window.PLOTLYENV=window.PLOTLYENV || {};                                    if (document.getElementById(\"1cd7e4e2-2888-4a21-b941-5e278fc7860a\")) {                    Plotly.newPlot(                        \"1cd7e4e2-2888-4a21-b941-5e278fc7860a\",                        [{\"alignmentgroup\": \"True\", \"hovertemplate\": \"Asset Ownership Name=%{x}<br>count=%{text}<extra></extra>\", \"legendgroup\": \"Photographic Studio\", \"marker\": {\"color\": \"#636efa\"}, \"name\": \"Photographic Studio\", \"offsetgroup\": \"Photographic Studio\", \"orientation\": \"v\", \"showlegend\": true, \"text\": [925623.0], \"textposition\": \"auto\", \"type\": \"bar\", \"x\": [\"Photographic Studio\"], \"xaxis\": \"x\", \"y\": [925623], \"yaxis\": \"y\"}, {\"alignmentgroup\": \"True\", \"hovertemplate\": \"Asset Ownership Name=%{x}<br>count=%{text}<extra></extra>\", \"legendgroup\": \"Multimedia & Social Documentary\", \"marker\": {\"color\": \"#EF553B\"}, \"name\": \"Multimedia & Social Documentary\", \"offsetgroup\": \"Multimedia & Social Documentary\", \"orientation\": \"v\", \"showlegend\": true, \"text\": [128124.0, 69390.0], \"textposition\": \"auto\", \"type\": \"bar\", \"x\": [\"Multimedia & Social Documentary\", \"Multimedia & Social Documentary\"], \"xaxis\": \"x\", \"y\": [128124, 69390], \"yaxis\": \"y\"}, {\"alignmentgroup\": \"True\", \"hovertemplate\": \"Asset Ownership Name=%{x}<br>count=%{text}<extra></extra>\", \"legendgroup\": \"Textiles & Fashion\", \"marker\": {\"color\": \"#00cc96\"}, \"name\": \"Textiles & Fashion\", \"offsetgroup\": \"Textiles & Fashion\", \"orientation\": \"v\", \"showlegend\": true, \"text\": [85379.0], \"textposition\": \"auto\", \"type\": \"bar\", \"x\": [\"Textiles & Fashion\"], \"xaxis\": \"x\", \"y\": [85379], \"yaxis\": \"y\"}, {\"alignmentgroup\": \"True\", \"hovertemplate\": \"Asset Ownership Name=%{x}<br>count=%{text}<extra></extra>\", \"legendgroup\": \"Conservation\", \"marker\": {\"color\": \"#ab63fa\"}, \"name\": \"Conservation\", \"offsetgroup\": \"Conservation\", \"orientation\": \"v\", \"showlegend\": true, \"text\": [68408.0], \"textposition\": \"auto\", \"type\": \"bar\", \"x\": [\"Conservation\"], \"xaxis\": \"x\", \"y\": [68408], \"yaxis\": \"y\"}, {\"alignmentgroup\": \"True\", \"hovertemplate\": \"Asset Ownership Name=%{x}<br>count=%{text}<extra></extra>\", \"legendgroup\": \"Asian Department\", \"marker\": {\"color\": \"#FFA15A\"}, \"name\": \"Asian Department\", \"offsetgroup\": \"Asian Department\", \"orientation\": \"v\", \"showlegend\": true, \"text\": [62525.0], \"textposition\": \"auto\", \"type\": \"bar\", \"x\": [\"Asian Department\"], \"xaxis\": \"x\", \"y\": [62525], \"yaxis\": \"y\"}, {\"alignmentgroup\": \"True\", \"hovertemplate\": \"Asset Ownership Name=%{x}<br>count=%{text}<extra></extra>\", \"legendgroup\": \"Theatre & Performance\", \"marker\": {\"color\": \"#19d3f3\"}, \"name\": \"Theatre & Performance\", \"offsetgroup\": \"Theatre & Performance\", \"orientation\": \"v\", \"showlegend\": true, \"text\": [51155.0], \"textposition\": \"auto\", \"type\": \"bar\", \"x\": [\"Theatre & Performance\"], \"xaxis\": \"x\", \"y\": [51155], \"yaxis\": \"y\"}, {\"alignmentgroup\": \"True\", \"hovertemplate\": \"Asset Ownership Name=%{x}<br>count=%{text}<extra></extra>\", \"legendgroup\": \"Collections Management Department\", \"marker\": {\"color\": \"#FF6692\"}, \"name\": \"Collections Management Department\", \"offsetgroup\": \"Collections Management Department\", \"orientation\": \"v\", \"showlegend\": true, \"text\": [44131.0], \"textposition\": \"auto\", \"type\": \"bar\", \"x\": [\"Collections Management Department\"], \"xaxis\": \"x\", \"y\": [44131], \"yaxis\": \"y\"}, {\"alignmentgroup\": \"True\", \"hovertemplate\": \"Asset Ownership Name=%{x}<br>count=%{text}<extra></extra>\", \"legendgroup\": \"South and South East Asia\", \"marker\": {\"color\": \"#B6E880\"}, \"name\": \"South and South East Asia\", \"offsetgroup\": \"South and South East Asia\", \"orientation\": \"v\", \"showlegend\": true, \"text\": [38039.0], \"textposition\": \"auto\", \"type\": \"bar\", \"x\": [\"South and South East Asia\"], \"xaxis\": \"x\", \"y\": [38039], \"yaxis\": \"y\"}, {\"alignmentgroup\": \"True\", \"hovertemplate\": \"Asset Ownership Name=%{x}<br>count=%{text}<extra></extra>\", \"legendgroup\": \"Computer Art\", \"marker\": {\"color\": \"#FF97FF\"}, \"name\": \"Computer Art\", \"offsetgroup\": \"Computer Art\", \"orientation\": \"v\", \"showlegend\": true, \"text\": [36578.0], \"textposition\": \"auto\", \"type\": \"bar\", \"x\": [\"Computer Art\"], \"xaxis\": \"x\", \"y\": [36578], \"yaxis\": \"y\"}, {\"alignmentgroup\": \"True\", \"hovertemplate\": \"Asset Ownership Name=%{x}<br>count=%{text}<extra></extra>\", \"legendgroup\": \"East Asia\", \"marker\": {\"color\": \"#FECB52\"}, \"name\": \"East Asia\", \"offsetgroup\": \"East Asia\", \"orientation\": \"v\", \"showlegend\": true, \"text\": [32257.0], \"textposition\": \"auto\", \"type\": \"bar\", \"x\": [\"East Asia\"], \"xaxis\": \"x\", \"y\": [32257], \"yaxis\": \"y\"}, {\"alignmentgroup\": \"True\", \"hovertemplate\": \"Asset Ownership Name=%{x}<br>count=%{text}<extra></extra>\", \"legendgroup\": \"Metalwork\", \"marker\": {\"color\": \"#636efa\"}, \"name\": \"Metalwork\", \"offsetgroup\": \"Metalwork\", \"orientation\": \"v\", \"showlegend\": true, \"text\": [24846.0], \"textposition\": \"auto\", \"type\": \"bar\", \"x\": [\"Metalwork\"], \"xaxis\": \"x\", \"y\": [24846], \"yaxis\": \"y\"}, {\"alignmentgroup\": \"True\", \"hovertemplate\": \"Asset Ownership Name=%{x}<br>count=%{text}<extra></extra>\", \"legendgroup\": \"Ceramics & Glass\", \"marker\": {\"color\": \"#EF553B\"}, \"name\": \"Ceramics & Glass\", \"offsetgroup\": \"Ceramics & Glass\", \"orientation\": \"v\", \"showlegend\": true, \"text\": [24705.0], \"textposition\": \"auto\", \"type\": \"bar\", \"x\": [\"Ceramics & Glass\"], \"xaxis\": \"x\", \"y\": [24705], \"yaxis\": \"y\"}, {\"alignmentgroup\": \"True\", \"hovertemplate\": \"Asset Ownership Name=%{x}<br>count=%{text}<extra></extra>\", \"legendgroup\": \"Museum of Childhood\", \"marker\": {\"color\": \"#00cc96\"}, \"name\": \"Museum of Childhood\", \"offsetgroup\": \"Museum of Childhood\", \"orientation\": \"v\", \"showlegend\": true, \"text\": [24279.0], \"textposition\": \"auto\", \"type\": \"bar\", \"x\": [\"Museum of Childhood\"], \"xaxis\": \"x\", \"y\": [24279], \"yaxis\": \"y\"}, {\"alignmentgroup\": \"True\", \"hovertemplate\": \"Asset Ownership Name=%{x}<br>count=%{text}<extra></extra>\", \"legendgroup\": \"Furniture, Textiles & Fashion\", \"marker\": {\"color\": \"#ab63fa\"}, \"name\": \"Furniture, Textiles & Fashion\", \"offsetgroup\": \"Furniture, Textiles & Fashion\", \"orientation\": \"v\", \"showlegend\": true, \"text\": [21673.0], \"textposition\": \"auto\", \"type\": \"bar\", \"x\": [\"Furniture, Textiles & Fashion\"], \"xaxis\": \"x\", \"y\": [21673], \"yaxis\": \"y\"}, {\"alignmentgroup\": \"True\", \"hovertemplate\": \"Asset Ownership Name=%{x}<br>count=%{text}<extra></extra>\", \"legendgroup\": \"Word & Image\", \"marker\": {\"color\": \"#FFA15A\"}, \"name\": \"Word & Image\", \"offsetgroup\": \"Word & Image\", \"orientation\": \"v\", \"showlegend\": true, \"text\": [17995.0], \"textposition\": \"auto\", \"type\": \"bar\", \"x\": [\"Word & Image\"], \"xaxis\": \"x\", \"y\": [17995], \"yaxis\": \"y\"}, {\"alignmentgroup\": \"True\", \"hovertemplate\": \"Asset Ownership Name=%{x}<br>count=%{text}<extra></extra>\", \"legendgroup\": \"Furniture & Woodwork\", \"marker\": {\"color\": \"#19d3f3\"}, \"name\": \"Furniture & Woodwork\", \"offsetgroup\": \"Furniture & Woodwork\", \"orientation\": \"v\", \"showlegend\": true, \"text\": [17438.0], \"textposition\": \"auto\", \"type\": \"bar\", \"x\": [\"Furniture & Woodwork\"], \"xaxis\": \"x\", \"y\": [17438], \"yaxis\": \"y\"}, {\"alignmentgroup\": \"True\", \"hovertemplate\": \"Asset Ownership Name=%{x}<br>count=%{text}<extra></extra>\", \"legendgroup\": \"Sculpture, Metalwork, Ceramics & Glass\", \"marker\": {\"color\": \"#FF6692\"}, \"name\": \"Sculpture, Metalwork, Ceramics & Glass\", \"offsetgroup\": \"Sculpture, Metalwork, Ceramics & Glass\", \"orientation\": \"v\", \"showlegend\": true, \"text\": [17281.0], \"textposition\": \"auto\", \"type\": \"bar\", \"x\": [\"Sculpture, Metalwork, Ceramics & Glass\"], \"xaxis\": \"x\", \"y\": [17281], \"yaxis\": \"y\"}, {\"alignmentgroup\": \"True\", \"hovertemplate\": \"Asset Ownership Name=%{x}<br>count=%{text}<extra></extra>\", \"legendgroup\": \"Middle East\", \"marker\": {\"color\": \"#B6E880\"}, \"name\": \"Middle East\", \"offsetgroup\": \"Middle East\", \"orientation\": \"v\", \"showlegend\": true, \"text\": [14564.0], \"textposition\": \"auto\", \"type\": \"bar\", \"x\": [\"Middle East\"], \"xaxis\": \"x\", \"y\": [14564], \"yaxis\": \"y\"}, {\"alignmentgroup\": \"True\", \"hovertemplate\": \"Asset Ownership Name=%{x}<br>count=%{text}<extra></extra>\", \"legendgroup\": \"Object Photography\", \"marker\": {\"color\": \"#FF97FF\"}, \"name\": \"Object Photography\", \"offsetgroup\": \"Object Photography\", \"orientation\": \"v\", \"showlegend\": true, \"text\": [11256.0], \"textposition\": \"auto\", \"type\": \"bar\", \"x\": [\"Object Photography\"], \"xaxis\": \"x\", \"y\": [11256], \"yaxis\": \"y\"}, {\"alignmentgroup\": \"True\", \"hovertemplate\": \"Asset Ownership Name=%{x}<br>count=%{text}<extra></extra>\", \"legendgroup\": \"Conservation - Textiles\", \"marker\": {\"color\": \"#FECB52\"}, \"name\": \"Conservation - Textiles\", \"offsetgroup\": \"Conservation - Textiles\", \"orientation\": \"v\", \"showlegend\": true, \"text\": [9786.0], \"textposition\": \"auto\", \"type\": \"bar\", \"x\": [\"Conservation - Textiles\"], \"xaxis\": \"x\", \"y\": [9786], \"yaxis\": \"y\"}, {\"alignmentgroup\": \"True\", \"hovertemplate\": \"Asset Ownership Name=%{x}<br>count=%{text}<extra></extra>\", \"legendgroup\": \"Wedgwood\", \"marker\": {\"color\": \"#636efa\"}, \"name\": \"Wedgwood\", \"offsetgroup\": \"Wedgwood\", \"orientation\": \"v\", \"showlegend\": true, \"text\": [8799.0], \"textposition\": \"auto\", \"type\": \"bar\", \"x\": [\"Wedgwood\"], \"xaxis\": \"x\", \"y\": [8799], \"yaxis\": \"y\"}, {\"alignmentgroup\": \"True\", \"hovertemplate\": \"Asset Ownership Name=%{x}<br>count=%{text}<extra></extra>\", \"legendgroup\": \"Conservation - Metals\", \"marker\": {\"color\": \"#EF553B\"}, \"name\": \"Conservation - Metals\", \"offsetgroup\": \"Conservation - Metals\", \"orientation\": \"v\", \"showlegend\": true, \"text\": [8199.0], \"textposition\": \"auto\", \"type\": \"bar\", \"x\": [\"Conservation - Metals\"], \"xaxis\": \"x\", \"y\": [8199], \"yaxis\": \"y\"}, {\"alignmentgroup\": \"True\", \"hovertemplate\": \"Asset Ownership Name=%{x}<br>count=%{text}<extra></extra>\", \"legendgroup\": \"Department of Photography\", \"marker\": {\"color\": \"#00cc96\"}, \"name\": \"Department of Photography\", \"offsetgroup\": \"Department of Photography\", \"orientation\": \"v\", \"showlegend\": true, \"text\": [7635.0], \"textposition\": \"auto\", \"type\": \"bar\", \"x\": [\"Department of Photography\"], \"xaxis\": \"x\", \"y\": [7635], \"yaxis\": \"y\"}, {\"alignmentgroup\": \"True\", \"hovertemplate\": \"Asset Ownership Name=%{x}<br>count=%{text}<extra></extra>\", \"legendgroup\": \"Conservation - Sculpture\", \"marker\": {\"color\": \"#ab63fa\"}, \"name\": \"Conservation - Sculpture\", \"offsetgroup\": \"Conservation - Sculpture\", \"orientation\": \"v\", \"showlegend\": true, \"text\": [6270.0], \"textposition\": \"auto\", \"type\": \"bar\", \"x\": [\"Conservation - Sculpture\"], \"xaxis\": \"x\", \"y\": [6270], \"yaxis\": \"y\"}, {\"alignmentgroup\": \"True\", \"hovertemplate\": \"Asset Ownership Name=%{x}<br>count=%{text}<extra></extra>\", \"legendgroup\": \"V&A National Purchase Grant Fund\", \"marker\": {\"color\": \"#FFA15A\"}, \"name\": \"V&A National Purchase Grant Fund\", \"offsetgroup\": \"V&A National Purchase Grant Fund\", \"orientation\": \"v\", \"showlegend\": true, \"text\": [6080.0], \"textposition\": \"auto\", \"type\": \"bar\", \"x\": [\"V&A National Purchase Grant Fund\"], \"xaxis\": \"x\", \"y\": [6080], \"yaxis\": \"y\"}, {\"alignmentgroup\": \"True\", \"hovertemplate\": \"Asset Ownership Name=%{x}<br>count=%{text}<extra></extra>\", \"legendgroup\": \"Design, Architecture and Digital Department\", \"marker\": {\"color\": \"#19d3f3\"}, \"name\": \"Design, Architecture and Digital Department\", \"offsetgroup\": \"Design, Architecture and Digital Department\", \"orientation\": \"v\", \"showlegend\": true, \"text\": [6033.0], \"textposition\": \"auto\", \"type\": \"bar\", \"x\": [\"Design, Architecture and Digital Department\"], \"xaxis\": \"x\", \"y\": [6033], \"yaxis\": \"y\"}, {\"alignmentgroup\": \"True\", \"hovertemplate\": \"Asset Ownership Name=%{x}<br>count=%{text}<extra></extra>\", \"legendgroup\": \"Conservation - Furniture\", \"marker\": {\"color\": \"#FF6692\"}, \"name\": \"Conservation - Furniture\", \"offsetgroup\": \"Conservation - Furniture\", \"orientation\": \"v\", \"showlegend\": true, \"text\": [5991.0], \"textposition\": \"auto\", \"type\": \"bar\", \"x\": [\"Conservation - Furniture\"], \"xaxis\": \"x\", \"y\": [5991], \"yaxis\": \"y\"}, {\"alignmentgroup\": \"True\", \"hovertemplate\": \"Asset Ownership Name=%{x}<br>count=%{text}<extra></extra>\", \"legendgroup\": \"Conservation - Stained Glass\", \"marker\": {\"color\": \"#B6E880\"}, \"name\": \"Conservation - Stained Glass\", \"offsetgroup\": \"Conservation - Stained Glass\", \"orientation\": \"v\", \"showlegend\": true, \"text\": [4893.0], \"textposition\": \"auto\", \"type\": \"bar\", \"x\": [\"Conservation - Stained Glass\"], \"xaxis\": \"x\", \"y\": [4893], \"yaxis\": \"y\"}, {\"alignmentgroup\": \"True\", \"hovertemplate\": \"Asset Ownership Name=%{x}<br>count=%{text}<extra></extra>\", \"legendgroup\": \"Conservation - Paintings\", \"marker\": {\"color\": \"#FF97FF\"}, \"name\": \"Conservation - Paintings\", \"offsetgroup\": \"Conservation - Paintings\", \"orientation\": \"v\", \"showlegend\": true, \"text\": [4807.0], \"textposition\": \"auto\", \"type\": \"bar\", \"x\": [\"Conservation - Paintings\"], \"xaxis\": \"x\", \"y\": [4807], \"yaxis\": \"y\"}, {\"alignmentgroup\": \"True\", \"hovertemplate\": \"Asset Ownership Name=%{x}<br>count=%{text}<extra></extra>\", \"legendgroup\": \"Exhibitions\", \"marker\": {\"color\": \"#FECB52\"}, \"name\": \"Exhibitions\", \"offsetgroup\": \"Exhibitions\", \"orientation\": \"v\", \"showlegend\": true, \"text\": [3965.0], \"textposition\": \"auto\", \"type\": \"bar\", \"x\": [\"Exhibitions\"], \"xaxis\": \"x\", \"y\": [3965], \"yaxis\": \"y\"}, {\"alignmentgroup\": \"True\", \"hovertemplate\": \"Asset Ownership Name=%{x}<br>count=%{text}<extra></extra>\", \"legendgroup\": \"Resource Planning\", \"marker\": {\"color\": \"#636efa\"}, \"name\": \"Resource Planning\", \"offsetgroup\": \"Resource Planning\", \"orientation\": \"v\", \"showlegend\": true, \"text\": [2838.0], \"textposition\": \"auto\", \"type\": \"bar\", \"x\": [\"Resource Planning\"], \"xaxis\": \"x\", \"y\": [2838], \"yaxis\": \"y\"}, {\"alignmentgroup\": \"True\", \"hovertemplate\": \"Asset Ownership Name=%{x}<br>count=%{text}<extra></extra>\", \"legendgroup\": \"National Art Library\", \"marker\": {\"color\": \"#EF553B\"}, \"name\": \"National Art Library\", \"offsetgroup\": \"National Art Library\", \"orientation\": \"v\", \"showlegend\": true, \"text\": [2438.0], \"textposition\": \"auto\", \"type\": \"bar\", \"x\": [\"National Art Library\"], \"xaxis\": \"x\", \"y\": [2438], \"yaxis\": \"y\"}, {\"alignmentgroup\": \"True\", \"hovertemplate\": \"Asset Ownership Name=%{x}<br>count=%{text}<extra></extra>\", \"legendgroup\": \"Sculpture\", \"marker\": {\"color\": \"#00cc96\"}, \"name\": \"Sculpture\", \"offsetgroup\": \"Sculpture\", \"orientation\": \"v\", \"showlegend\": true, \"text\": [2285.0], \"textposition\": \"auto\", \"type\": \"bar\", \"x\": [\"Sculpture\"], \"xaxis\": \"x\", \"y\": [2285], \"yaxis\": \"y\"}, {\"alignmentgroup\": \"True\", \"hovertemplate\": \"Asset Ownership Name=%{x}<br>count=%{text}<extra></extra>\", \"legendgroup\": \"Exhibitions & Loans\", \"marker\": {\"color\": \"#ab63fa\"}, \"name\": \"Exhibitions & Loans\", \"offsetgroup\": \"Exhibitions & Loans\", \"orientation\": \"v\", \"showlegend\": true, \"text\": [2277.0], \"textposition\": \"auto\", \"type\": \"bar\", \"x\": [\"Exhibitions & Loans\"], \"xaxis\": \"x\", \"y\": [2277], \"yaxis\": \"y\"}, {\"alignmentgroup\": \"True\", \"hovertemplate\": \"Asset Ownership Name=%{x}<br>count=%{text}<extra></extra>\", \"legendgroup\": \"V&A Enterprises\", \"marker\": {\"color\": \"#FFA15A\"}, \"name\": \"V&A Enterprises\", \"offsetgroup\": \"V&A Enterprises\", \"orientation\": \"v\", \"showlegend\": true, \"text\": [2200.0], \"textposition\": \"auto\", \"type\": \"bar\", \"x\": [\"V&A Enterprises\"], \"xaxis\": \"x\", \"y\": [2200], \"yaxis\": \"y\"}, {\"alignmentgroup\": \"True\", \"hovertemplate\": \"Asset Ownership Name=%{x}<br>count=%{text}<extra></extra>\", \"legendgroup\": \"Conservation - Ceramics and Glass\", \"marker\": {\"color\": \"#19d3f3\"}, \"name\": \"Conservation - Ceramics and Glass\", \"offsetgroup\": \"Conservation - Ceramics and Glass\", \"orientation\": \"v\", \"showlegend\": true, \"text\": [1938.0], \"textposition\": \"auto\", \"type\": \"bar\", \"x\": [\"Conservation - Ceramics and Glass\"], \"xaxis\": \"x\", \"y\": [1938], \"yaxis\": \"y\"}, {\"alignmentgroup\": \"True\", \"hovertemplate\": \"Asset Ownership Name=%{x}<br>count=%{text}<extra></extra>\", \"legendgroup\": \"Prints, Drawings & Paintings\", \"marker\": {\"color\": \"#FF6692\"}, \"name\": \"Prints, Drawings & Paintings\", \"offsetgroup\": \"Prints, Drawings & Paintings\", \"orientation\": \"v\", \"showlegend\": true, \"text\": [1737.0], \"textposition\": \"auto\", \"type\": \"bar\", \"x\": [\"Prints, Drawings & Paintings\"], \"xaxis\": \"x\", \"y\": [1737], \"yaxis\": \"y\"}, {\"alignmentgroup\": \"True\", \"hovertemplate\": \"Asset Ownership Name=%{x}<br>count=%{text}<extra></extra>\", \"legendgroup\": \"Beatrix Potter Collection\", \"marker\": {\"color\": \"#B6E880\"}, \"name\": \"Beatrix Potter Collection\", \"offsetgroup\": \"Beatrix Potter Collection\", \"orientation\": \"v\", \"showlegend\": true, \"text\": [1533.0], \"textposition\": \"auto\", \"type\": \"bar\", \"x\": [\"Beatrix Potter Collection\"], \"xaxis\": \"x\", \"y\": [1533], \"yaxis\": \"y\"}, {\"alignmentgroup\": \"True\", \"hovertemplate\": \"Asset Ownership Name=%{x}<br>count=%{text}<extra></extra>\", \"legendgroup\": \"Archive of Art and Design\", \"marker\": {\"color\": \"#FF97FF\"}, \"name\": \"Archive of Art and Design\", \"offsetgroup\": \"Archive of Art and Design\", \"orientation\": \"v\", \"showlegend\": true, \"text\": [1356.0], \"textposition\": \"auto\", \"type\": \"bar\", \"x\": [\"Archive of Art and Design\"], \"xaxis\": \"x\", \"y\": [1356], \"yaxis\": \"y\"}, {\"alignmentgroup\": \"True\", \"hovertemplate\": \"Asset Ownership Name=%{x}<br>count=%{text}<extra></extra>\", \"legendgroup\": \"V&A Archives\", \"marker\": {\"color\": \"#FECB52\"}, \"name\": \"V&A Archives\", \"offsetgroup\": \"V&A Archives\", \"orientation\": \"v\", \"showlegend\": true, \"text\": [1342.0], \"textposition\": \"auto\", \"type\": \"bar\", \"x\": [\"V&A Archives\"], \"xaxis\": \"x\", \"y\": [1342], \"yaxis\": \"y\"}, {\"alignmentgroup\": \"True\", \"hovertemplate\": \"Asset Ownership Name=%{x}<br>count=%{text}<extra></extra>\", \"legendgroup\": \"Learning & Interpretation\", \"marker\": {\"color\": \"#636efa\"}, \"name\": \"Learning & Interpretation\", \"offsetgroup\": \"Learning & Interpretation\", \"orientation\": \"v\", \"showlegend\": true, \"text\": [1333.0], \"textposition\": \"auto\", \"type\": \"bar\", \"x\": [\"Learning & Interpretation\"], \"xaxis\": \"x\", \"y\": [1333], \"yaxis\": \"y\"}, {\"alignmentgroup\": \"True\", \"hovertemplate\": \"Asset Ownership Name=%{x}<br>count=%{text}<extra></extra>\", \"legendgroup\": \"Conservation - Science\", \"marker\": {\"color\": \"#EF553B\"}, \"name\": \"Conservation - Science\", \"offsetgroup\": \"Conservation - Science\", \"orientation\": \"v\", \"showlegend\": true, \"text\": [1233.0], \"textposition\": \"auto\", \"type\": \"bar\", \"x\": [\"Conservation - Science\"], \"xaxis\": \"x\", \"y\": [1233], \"yaxis\": \"y\"}, {\"alignmentgroup\": \"True\", \"hovertemplate\": \"Asset Ownership Name=%{x}<br>count=%{text}<extra></extra>\", \"legendgroup\": \"Apprentices Scheme\", \"marker\": {\"color\": \"#00cc96\"}, \"name\": \"Apprentices Scheme\", \"offsetgroup\": \"Apprentices Scheme\", \"orientation\": \"v\", \"showlegend\": true, \"text\": [1143.0], \"textposition\": \"auto\", \"type\": \"bar\", \"x\": [\"Apprentices Scheme\"], \"xaxis\": \"x\", \"y\": [1143], \"yaxis\": \"y\"}, {\"alignmentgroup\": \"True\", \"hovertemplate\": \"Asset Ownership Name=%{x}<br>count=%{text}<extra></extra>\", \"legendgroup\": \"Conservation - Paper\", \"marker\": {\"color\": \"#ab63fa\"}, \"name\": \"Conservation - Paper\", \"offsetgroup\": \"Conservation - Paper\", \"orientation\": \"v\", \"showlegend\": true, \"text\": [1137.0], \"textposition\": \"auto\", \"type\": \"bar\", \"x\": [\"Conservation - Paper\"], \"xaxis\": \"x\", \"y\": [1137], \"yaxis\": \"y\"}, {\"alignmentgroup\": \"True\", \"hovertemplate\": \"Asset Ownership Name=%{x}<br>count=%{text}<extra></extra>\", \"legendgroup\": \"Photographs\", \"marker\": {\"color\": \"#FFA15A\"}, \"name\": \"Photographs\", \"offsetgroup\": \"Photographs\", \"orientation\": \"v\", \"showlegend\": true, \"text\": [711.0], \"textposition\": \"auto\", \"type\": \"bar\", \"x\": [\"Photographs\"], \"xaxis\": \"x\", \"y\": [711], \"yaxis\": \"y\"}, {\"alignmentgroup\": \"True\", \"hovertemplate\": \"Asset Ownership Name=%{x}<br>count=%{text}<extra></extra>\", \"legendgroup\": \"Research\", \"marker\": {\"color\": \"#19d3f3\"}, \"name\": \"Research\", \"offsetgroup\": \"Research\", \"orientation\": \"v\", \"showlegend\": true, \"text\": [639.0], \"textposition\": \"auto\", \"type\": \"bar\", \"x\": [\"Research\"], \"xaxis\": \"x\", \"y\": [639], \"yaxis\": \"y\"}, {\"alignmentgroup\": \"True\", \"hovertemplate\": \"Asset Ownership Name=%{x}<br>count=%{text}<extra></extra>\", \"legendgroup\": \"Designs\", \"marker\": {\"color\": \"#FF6692\"}, \"name\": \"Designs\", \"offsetgroup\": \"Designs\", \"orientation\": \"v\", \"showlegend\": true, \"text\": [426.0], \"textposition\": \"auto\", \"type\": \"bar\", \"x\": [\"Designs\"], \"xaxis\": \"x\", \"y\": [426], \"yaxis\": \"y\"}, {\"alignmentgroup\": \"True\", \"hovertemplate\": \"Asset Ownership Name=%{x}<br>count=%{text}<extra></extra>\", \"legendgroup\": \"Conservation - Frames\", \"marker\": {\"color\": \"#B6E880\"}, \"name\": \"Conservation - Frames\", \"offsetgroup\": \"Conservation - Frames\", \"orientation\": \"v\", \"showlegend\": true, \"text\": [343.0], \"textposition\": \"auto\", \"type\": \"bar\", \"x\": [\"Conservation - Frames\"], \"xaxis\": \"x\", \"y\": [343], \"yaxis\": \"y\"}, {\"alignmentgroup\": \"True\", \"hovertemplate\": \"Asset Ownership Name=%{x}<br>count=%{text}<extra></extra>\", \"legendgroup\": \"Digital Media\", \"marker\": {\"color\": \"#FF97FF\"}, \"name\": \"Digital Media\", \"offsetgroup\": \"Digital Media\", \"orientation\": \"v\", \"showlegend\": true, \"text\": [316.0], \"textposition\": \"auto\", \"type\": \"bar\", \"x\": [\"Digital Media\"], \"xaxis\": \"x\", \"y\": [316], \"yaxis\": \"y\"}, {\"alignmentgroup\": \"True\", \"hovertemplate\": \"Asset Ownership Name=%{x}<br>count=%{text}<extra></extra>\", \"legendgroup\": \"Projects, Design & Estates\", \"marker\": {\"color\": \"#FECB52\"}, \"name\": \"Projects, Design & Estates\", \"offsetgroup\": \"Projects, Design & Estates\", \"orientation\": \"v\", \"showlegend\": true, \"text\": [193.0], \"textposition\": \"auto\", \"type\": \"bar\", \"x\": [\"Projects, Design & Estates\"], \"xaxis\": \"x\", \"y\": [193], \"yaxis\": \"y\"}, {\"alignmentgroup\": \"True\", \"hovertemplate\": \"Asset Ownership Name=%{x}<br>count=%{text}<extra></extra>\", \"legendgroup\": \"Conservation - Books\", \"marker\": {\"color\": \"#636efa\"}, \"name\": \"Conservation - Books\", \"offsetgroup\": \"Conservation - Books\", \"orientation\": \"v\", \"showlegend\": true, \"text\": [96.0], \"textposition\": \"auto\", \"type\": \"bar\", \"x\": [\"Conservation - Books\"], \"xaxis\": \"x\", \"y\": [96], \"yaxis\": \"y\"}, {\"alignmentgroup\": \"True\", \"hovertemplate\": \"Asset Ownership Name=%{x}<br>count=%{text}<extra></extra>\", \"legendgroup\": \"BH Advance Works\", \"marker\": {\"color\": \"#EF553B\"}, \"name\": \"BH Advance Works\", \"offsetgroup\": \"BH Advance Works\", \"orientation\": \"v\", \"showlegend\": true, \"text\": [90.0], \"textposition\": \"auto\", \"type\": \"bar\", \"x\": [\"BH Advance Works\"], \"xaxis\": \"x\", \"y\": [90], \"yaxis\": \"y\"}, {\"alignmentgroup\": \"True\", \"hovertemplate\": \"Asset Ownership Name=%{x}<br>count=%{text}<extra></extra>\", \"legendgroup\": \"FuturePlan\", \"marker\": {\"color\": \"#00cc96\"}, \"name\": \"FuturePlan\", \"offsetgroup\": \"FuturePlan\", \"orientation\": \"v\", \"showlegend\": true, \"text\": [77.0], \"textposition\": \"auto\", \"type\": \"bar\", \"x\": [\"FuturePlan\"], \"xaxis\": \"x\", \"y\": [77], \"yaxis\": \"y\"}, {\"alignmentgroup\": \"True\", \"hovertemplate\": \"Asset Ownership Name=%{x}<br>count=%{text}<extra></extra>\", \"legendgroup\": \"Technical Services\", \"marker\": {\"color\": \"#ab63fa\"}, \"name\": \"Technical Services\", \"offsetgroup\": \"Technical Services\", \"orientation\": \"v\", \"showlegend\": true, \"text\": [66.0], \"textposition\": \"auto\", \"type\": \"bar\", \"x\": [\"Technical Services\"], \"xaxis\": \"x\", \"y\": [66], \"yaxis\": \"y\"}, {\"alignmentgroup\": \"True\", \"hovertemplate\": \"Asset Ownership Name=%{x}<br>count=%{text}<extra></extra>\", \"legendgroup\": \"Directorate\", \"marker\": {\"color\": \"#FFA15A\"}, \"name\": \"Directorate\", \"offsetgroup\": \"Directorate\", \"orientation\": \"v\", \"showlegend\": true, \"text\": [41.0], \"textposition\": \"auto\", \"type\": \"bar\", \"x\": [\"Directorate\"], \"xaxis\": \"x\", \"y\": [41], \"yaxis\": \"y\"}, {\"alignmentgroup\": \"True\", \"hovertemplate\": \"Asset Ownership Name=%{x}<br>count=%{text}<extra></extra>\", \"legendgroup\": \"No Ownership\", \"marker\": {\"color\": \"#19d3f3\"}, \"name\": \"No Ownership\", \"offsetgroup\": \"No Ownership\", \"orientation\": \"v\", \"showlegend\": true, \"text\": [37.0], \"textposition\": \"auto\", \"type\": \"bar\", \"x\": [\"No Ownership\"], \"xaxis\": \"x\", \"y\": [37], \"yaxis\": \"y\"}, {\"alignmentgroup\": \"True\", \"hovertemplate\": \"Asset Ownership Name=%{x}<br>count=%{text}<extra></extra>\", \"legendgroup\": \"Paintings\", \"marker\": {\"color\": \"#FF6692\"}, \"name\": \"Paintings\", \"offsetgroup\": \"Paintings\", \"orientation\": \"v\", \"showlegend\": true, \"text\": [36.0], \"textposition\": \"auto\", \"type\": \"bar\", \"x\": [\"Paintings\"], \"xaxis\": \"x\", \"y\": [36], \"yaxis\": \"y\"}, {\"alignmentgroup\": \"True\", \"hovertemplate\": \"Asset Ownership Name=%{x}<br>count=%{text}<extra></extra>\", \"legendgroup\": \"Loans Section\", \"marker\": {\"color\": \"#B6E880\"}, \"name\": \"Loans Section\", \"offsetgroup\": \"Loans Section\", \"orientation\": \"v\", \"showlegend\": true, \"text\": [35.0], \"textposition\": \"auto\", \"type\": \"bar\", \"x\": [\"Loans Section\"], \"xaxis\": \"x\", \"y\": [35], \"yaxis\": \"y\"}, {\"alignmentgroup\": \"True\", \"hovertemplate\": \"Asset Ownership Name=%{x}<br>count=%{text}<extra></extra>\", \"legendgroup\": \"Estates\", \"marker\": {\"color\": \"#FF97FF\"}, \"name\": \"Estates\", \"offsetgroup\": \"Estates\", \"orientation\": \"v\", \"showlegend\": true, \"text\": [28.0], \"textposition\": \"auto\", \"type\": \"bar\", \"x\": [\"Estates\"], \"xaxis\": \"x\", \"y\": [28], \"yaxis\": \"y\"}, {\"alignmentgroup\": \"True\", \"hovertemplate\": \"Asset Ownership Name=%{x}<br>count=%{text}<extra></extra>\", \"legendgroup\": \"Projects\", \"marker\": {\"color\": \"#FECB52\"}, \"name\": \"Projects\", \"offsetgroup\": \"Projects\", \"orientation\": \"v\", \"showlegend\": true, \"text\": [27.0], \"textposition\": \"auto\", \"type\": \"bar\", \"x\": [\"Projects\"], \"xaxis\": \"x\", \"y\": [27], \"yaxis\": \"y\"}, {\"alignmentgroup\": \"True\", \"hovertemplate\": \"Asset Ownership Name=%{x}<br>count=%{text}<extra></extra>\", \"legendgroup\": \"Press & Marketing\", \"marker\": {\"color\": \"#636efa\"}, \"name\": \"Press & Marketing\", \"offsetgroup\": \"Press & Marketing\", \"orientation\": \"v\", \"showlegend\": true, \"text\": [13.0], \"textposition\": \"auto\", \"type\": \"bar\", \"x\": [\"Press & Marketing\"], \"xaxis\": \"x\", \"y\": [13], \"yaxis\": \"y\"}, {\"alignmentgroup\": \"True\", \"hovertemplate\": \"Asset Ownership Name=%{x}<br>count=%{text}<extra></extra>\", \"legendgroup\": \"None\", \"marker\": {\"color\": \"#EF553B\"}, \"name\": \"None\", \"offsetgroup\": \"None\", \"orientation\": \"v\", \"showlegend\": true, \"text\": [10.0], \"textposition\": \"auto\", \"type\": \"bar\", \"x\": [\"None\"], \"xaxis\": \"x\", \"y\": [10], \"yaxis\": \"y\"}, {\"alignmentgroup\": \"True\", \"hovertemplate\": \"Asset Ownership Name=%{x}<br>count=%{text}<extra></extra>\", \"legendgroup\": \"Prints\", \"marker\": {\"color\": \"#00cc96\"}, \"name\": \"Prints\", \"offsetgroup\": \"Prints\", \"orientation\": \"v\", \"showlegend\": true, \"text\": [6.0], \"textposition\": \"auto\", \"type\": \"bar\", \"x\": [\"Prints\"], \"xaxis\": \"x\", \"y\": [6], \"yaxis\": \"y\"}, {\"alignmentgroup\": \"True\", \"hovertemplate\": \"Asset Ownership Name=%{x}<br>count=%{text}<extra></extra>\", \"legendgroup\": \"Information Systems Services\", \"marker\": {\"color\": \"#ab63fa\"}, \"name\": \"Information Systems Services\", \"offsetgroup\": \"Information Systems Services\", \"orientation\": \"v\", \"showlegend\": true, \"text\": [6.0], \"textposition\": \"auto\", \"type\": \"bar\", \"x\": [\"Information Systems Services\"], \"xaxis\": \"x\", \"y\": [6], \"yaxis\": \"y\"}, {\"alignmentgroup\": \"True\", \"hovertemplate\": \"Asset Ownership Name=%{x}<br>count=%{text}<extra></extra>\", \"legendgroup\": \"Security\", \"marker\": {\"color\": \"#FFA15A\"}, \"name\": \"Security\", \"offsetgroup\": \"Security\", \"orientation\": \"v\", \"showlegend\": true, \"text\": [4.0], \"textposition\": \"auto\", \"type\": \"bar\", \"x\": [\"Security\"], \"xaxis\": \"x\", \"y\": [4], \"yaxis\": \"y\"}, {\"alignmentgroup\": \"True\", \"hovertemplate\": \"Asset Ownership Name=%{x}<br>count=%{text}<extra></extra>\", \"legendgroup\": \"Framers\", \"marker\": {\"color\": \"#19d3f3\"}, \"name\": \"Framers\", \"offsetgroup\": \"Framers\", \"orientation\": \"v\", \"showlegend\": true, \"text\": [4.0], \"textposition\": \"auto\", \"type\": \"bar\", \"x\": [\"Framers\"], \"xaxis\": \"x\", \"y\": [4], \"yaxis\": \"y\"}, {\"alignmentgroup\": \"True\", \"hovertemplate\": \"Asset Ownership Name=%{x}<br>count=%{text}<extra></extra>\", \"legendgroup\": \"Design\", \"marker\": {\"color\": \"#FF6692\"}, \"name\": \"Design\", \"offsetgroup\": \"Design\", \"orientation\": \"v\", \"showlegend\": true, \"text\": [3.0], \"textposition\": \"auto\", \"type\": \"bar\", \"x\": [\"Design\"], \"xaxis\": \"x\", \"y\": [3], \"yaxis\": \"y\"}, {\"alignmentgroup\": \"True\", \"hovertemplate\": \"Asset Ownership Name=%{x}<br>count=%{text}<extra></extra>\", \"legendgroup\": \"Museum Events\", \"marker\": {\"color\": \"#B6E880\"}, \"name\": \"Museum Events\", \"offsetgroup\": \"Museum Events\", \"orientation\": \"v\", \"showlegend\": true, \"text\": [3.0], \"textposition\": \"auto\", \"type\": \"bar\", \"x\": [\"Museum Events\"], \"xaxis\": \"x\", \"y\": [3], \"yaxis\": \"y\"}, {\"alignmentgroup\": \"True\", \"hovertemplate\": \"Asset Ownership Name=%{x}<br>count=%{text}<extra></extra>\", \"legendgroup\": \"Public Affairs\", \"marker\": {\"color\": \"#FF97FF\"}, \"name\": \"Public Affairs\", \"offsetgroup\": \"Public Affairs\", \"orientation\": \"v\", \"showlegend\": true, \"text\": [2.0], \"textposition\": \"auto\", \"type\": \"bar\", \"x\": [\"Public Affairs\"], \"xaxis\": \"x\", \"y\": [2], \"yaxis\": \"y\"}, {\"alignmentgroup\": \"True\", \"hovertemplate\": \"Asset Ownership Name=%{x}<br>count=%{text}<extra></extra>\", \"legendgroup\": \"VAE Licensing and Brand Development\", \"marker\": {\"color\": \"#FECB52\"}, \"name\": \"VAE Licensing and Brand Development\", \"offsetgroup\": \"VAE Licensing and Brand Development\", \"orientation\": \"v\", \"showlegend\": true, \"text\": [2.0], \"textposition\": \"auto\", \"type\": \"bar\", \"x\": [\"VAE Licensing and Brand Development\"], \"xaxis\": \"x\", \"y\": [2], \"yaxis\": \"y\"}, {\"alignmentgroup\": \"True\", \"hovertemplate\": \"Asset Ownership Name=%{x}<br>count=%{text}<extra></extra>\", \"legendgroup\": \"ELT\", \"marker\": {\"color\": \"#636efa\"}, \"name\": \"ELT\", \"offsetgroup\": \"ELT\", \"orientation\": \"v\", \"showlegend\": true, \"text\": [1.0], \"textposition\": \"auto\", \"type\": \"bar\", \"x\": [\"ELT\"], \"xaxis\": \"x\", \"y\": [1], \"yaxis\": \"y\"}, {\"alignmentgroup\": \"True\", \"hovertemplate\": \"Asset Ownership Name=%{x}<br>count=%{text}<extra></extra>\", \"legendgroup\": \"FDG\", \"marker\": {\"color\": \"#EF553B\"}, \"name\": \"FDG\", \"offsetgroup\": \"FDG\", \"orientation\": \"v\", \"showlegend\": true, \"text\": [1.0], \"textposition\": \"auto\", \"type\": \"bar\", \"x\": [\"FDG\"], \"xaxis\": \"x\", \"y\": [1], \"yaxis\": \"y\"}, {\"alignmentgroup\": \"True\", \"hovertemplate\": \"Asset Ownership Name=%{x}<br>count=%{text}<extra></extra>\", \"legendgroup\": \"International Initiatives\", \"marker\": {\"color\": \"#00cc96\"}, \"name\": \"International Initiatives\", \"offsetgroup\": \"International Initiatives\", \"orientation\": \"v\", \"showlegend\": true, \"text\": [1.0], \"textposition\": \"auto\", \"type\": \"bar\", \"x\": [\"International Initiatives\"], \"xaxis\": \"x\", \"y\": [1], \"yaxis\": \"y\"}, {\"alignmentgroup\": \"True\", \"hovertemplate\": \"Asset Ownership Name=%{x}<br>count=%{text}<extra></extra>\", \"legendgroup\": \"Development\", \"marker\": {\"color\": \"#ab63fa\"}, \"name\": \"Development\", \"offsetgroup\": \"Development\", \"orientation\": \"v\", \"showlegend\": true, \"text\": [1.0], \"textposition\": \"auto\", \"type\": \"bar\", \"x\": [\"Development\"], \"xaxis\": \"x\", \"y\": [1], \"yaxis\": \"y\"}, {\"alignmentgroup\": \"True\", \"hovertemplate\": \"Asset Ownership Name=%{x}<br>count=%{text}<extra></extra>\", \"legendgroup\": \"Digital Management\", \"marker\": {\"color\": \"#FFA15A\"}, \"name\": \"Digital Management\", \"offsetgroup\": \"Digital Management\", \"orientation\": \"v\", \"showlegend\": true, \"text\": [1.0], \"textposition\": \"auto\", \"type\": \"bar\", \"x\": [\"Digital Management\"], \"xaxis\": \"x\", \"y\": [1], \"yaxis\": \"y\"}],                        {\"barmode\": \"relative\", \"legend\": {\"title\": {\"text\": \"Asset Ownership Name\"}, \"tracegroupgap\": 0}, \"template\": {\"data\": {\"bar\": [{\"error_x\": {\"color\": \"#2a3f5f\"}, \"error_y\": {\"color\": \"#2a3f5f\"}, \"marker\": {\"line\": {\"color\": \"#E5ECF6\", \"width\": 0.5}}, \"type\": \"bar\"}], \"barpolar\": [{\"marker\": {\"line\": {\"color\": \"#E5ECF6\", \"width\": 0.5}}, \"type\": \"barpolar\"}], \"carpet\": [{\"aaxis\": {\"endlinecolor\": \"#2a3f5f\", \"gridcolor\": \"white\", \"linecolor\": \"white\", \"minorgridcolor\": \"white\", \"startlinecolor\": \"#2a3f5f\"}, \"baxis\": {\"endlinecolor\": \"#2a3f5f\", \"gridcolor\": \"white\", \"linecolor\": \"white\", \"minorgridcolor\": \"white\", \"startlinecolor\": \"#2a3f5f\"}, \"type\": \"carpet\"}], \"choropleth\": [{\"colorbar\": {\"outlinewidth\": 0, \"ticks\": \"\"}, \"type\": \"choropleth\"}], \"contour\": [{\"colorbar\": {\"outlinewidth\": 0, \"ticks\": \"\"}, \"colorscale\": [[0.0, \"#0d0887\"], [0.1111111111111111, \"#46039f\"], [0.2222222222222222, \"#7201a8\"], [0.3333333333333333, \"#9c179e\"], [0.4444444444444444, \"#bd3786\"], [0.5555555555555556, \"#d8576b\"], [0.6666666666666666, \"#ed7953\"], [0.7777777777777778, \"#fb9f3a\"], [0.8888888888888888, \"#fdca26\"], [1.0, \"#f0f921\"]], \"type\": \"contour\"}], \"contourcarpet\": [{\"colorbar\": {\"outlinewidth\": 0, \"ticks\": \"\"}, \"type\": \"contourcarpet\"}], \"heatmap\": [{\"colorbar\": {\"outlinewidth\": 0, \"ticks\": \"\"}, \"colorscale\": [[0.0, \"#0d0887\"], [0.1111111111111111, \"#46039f\"], [0.2222222222222222, \"#7201a8\"], [0.3333333333333333, \"#9c179e\"], [0.4444444444444444, \"#bd3786\"], [0.5555555555555556, \"#d8576b\"], [0.6666666666666666, \"#ed7953\"], [0.7777777777777778, \"#fb9f3a\"], [0.8888888888888888, \"#fdca26\"], [1.0, \"#f0f921\"]], \"type\": \"heatmap\"}], \"heatmapgl\": [{\"colorbar\": {\"outlinewidth\": 0, \"ticks\": \"\"}, \"colorscale\": [[0.0, \"#0d0887\"], [0.1111111111111111, \"#46039f\"], [0.2222222222222222, \"#7201a8\"], [0.3333333333333333, \"#9c179e\"], [0.4444444444444444, \"#bd3786\"], [0.5555555555555556, \"#d8576b\"], [0.6666666666666666, \"#ed7953\"], [0.7777777777777778, \"#fb9f3a\"], [0.8888888888888888, \"#fdca26\"], [1.0, \"#f0f921\"]], \"type\": \"heatmapgl\"}], \"histogram\": [{\"marker\": {\"colorbar\": {\"outlinewidth\": 0, \"ticks\": \"\"}}, \"type\": \"histogram\"}], \"histogram2d\": [{\"colorbar\": {\"outlinewidth\": 0, \"ticks\": \"\"}, \"colorscale\": [[0.0, \"#0d0887\"], [0.1111111111111111, \"#46039f\"], [0.2222222222222222, \"#7201a8\"], [0.3333333333333333, \"#9c179e\"], [0.4444444444444444, \"#bd3786\"], [0.5555555555555556, \"#d8576b\"], [0.6666666666666666, \"#ed7953\"], [0.7777777777777778, \"#fb9f3a\"], [0.8888888888888888, \"#fdca26\"], [1.0, \"#f0f921\"]], \"type\": \"histogram2d\"}], \"histogram2dcontour\": [{\"colorbar\": {\"outlinewidth\": 0, \"ticks\": \"\"}, \"colorscale\": [[0.0, \"#0d0887\"], [0.1111111111111111, \"#46039f\"], [0.2222222222222222, \"#7201a8\"], [0.3333333333333333, \"#9c179e\"], [0.4444444444444444, \"#bd3786\"], [0.5555555555555556, \"#d8576b\"], [0.6666666666666666, \"#ed7953\"], [0.7777777777777778, \"#fb9f3a\"], [0.8888888888888888, \"#fdca26\"], [1.0, \"#f0f921\"]], \"type\": \"histogram2dcontour\"}], \"mesh3d\": [{\"colorbar\": {\"outlinewidth\": 0, \"ticks\": \"\"}, \"type\": \"mesh3d\"}], \"parcoords\": [{\"line\": {\"colorbar\": {\"outlinewidth\": 0, \"ticks\": \"\"}}, \"type\": \"parcoords\"}], \"pie\": [{\"automargin\": true, \"type\": \"pie\"}], \"scatter\": [{\"marker\": {\"colorbar\": {\"outlinewidth\": 0, \"ticks\": \"\"}}, \"type\": \"scatter\"}], \"scatter3d\": [{\"line\": {\"colorbar\": {\"outlinewidth\": 0, \"ticks\": \"\"}}, \"marker\": {\"colorbar\": {\"outlinewidth\": 0, \"ticks\": \"\"}}, \"type\": \"scatter3d\"}], \"scattercarpet\": [{\"marker\": {\"colorbar\": {\"outlinewidth\": 0, \"ticks\": \"\"}}, \"type\": \"scattercarpet\"}], \"scattergeo\": [{\"marker\": {\"colorbar\": {\"outlinewidth\": 0, \"ticks\": \"\"}}, \"type\": \"scattergeo\"}], \"scattergl\": [{\"marker\": {\"colorbar\": {\"outlinewidth\": 0, \"ticks\": \"\"}}, \"type\": \"scattergl\"}], \"scattermapbox\": [{\"marker\": {\"colorbar\": {\"outlinewidth\": 0, \"ticks\": \"\"}}, \"type\": \"scattermapbox\"}], \"scatterpolar\": [{\"marker\": {\"colorbar\": {\"outlinewidth\": 0, \"ticks\": \"\"}}, \"type\": \"scatterpolar\"}], \"scatterpolargl\": [{\"marker\": {\"colorbar\": {\"outlinewidth\": 0, \"ticks\": \"\"}}, \"type\": \"scatterpolargl\"}], \"scatterternary\": [{\"marker\": {\"colorbar\": {\"outlinewidth\": 0, \"ticks\": \"\"}}, \"type\": \"scatterternary\"}], \"surface\": [{\"colorbar\": {\"outlinewidth\": 0, \"ticks\": \"\"}, \"colorscale\": [[0.0, \"#0d0887\"], [0.1111111111111111, \"#46039f\"], [0.2222222222222222, \"#7201a8\"], [0.3333333333333333, \"#9c179e\"], [0.4444444444444444, \"#bd3786\"], [0.5555555555555556, \"#d8576b\"], [0.6666666666666666, \"#ed7953\"], [0.7777777777777778, \"#fb9f3a\"], [0.8888888888888888, \"#fdca26\"], [1.0, \"#f0f921\"]], \"type\": \"surface\"}], \"table\": [{\"cells\": {\"fill\": {\"color\": \"#EBF0F8\"}, \"line\": {\"color\": \"white\"}}, \"header\": {\"fill\": {\"color\": \"#C8D4E3\"}, \"line\": {\"color\": \"white\"}}, \"type\": \"table\"}]}, \"layout\": {\"annotationdefaults\": {\"arrowcolor\": \"#2a3f5f\", \"arrowhead\": 0, \"arrowwidth\": 1}, \"autotypenumbers\": \"strict\", \"coloraxis\": {\"colorbar\": {\"outlinewidth\": 0, \"ticks\": \"\"}}, \"colorscale\": {\"diverging\": [[0, \"#8e0152\"], [0.1, \"#c51b7d\"], [0.2, \"#de77ae\"], [0.3, \"#f1b6da\"], [0.4, \"#fde0ef\"], [0.5, \"#f7f7f7\"], [0.6, \"#e6f5d0\"], [0.7, \"#b8e186\"], [0.8, \"#7fbc41\"], [0.9, \"#4d9221\"], [1, \"#276419\"]], \"sequential\": [[0.0, \"#0d0887\"], [0.1111111111111111, \"#46039f\"], [0.2222222222222222, \"#7201a8\"], [0.3333333333333333, \"#9c179e\"], [0.4444444444444444, \"#bd3786\"], [0.5555555555555556, \"#d8576b\"], [0.6666666666666666, \"#ed7953\"], [0.7777777777777778, \"#fb9f3a\"], [0.8888888888888888, \"#fdca26\"], [1.0, \"#f0f921\"]], \"sequentialminus\": [[0.0, \"#0d0887\"], [0.1111111111111111, \"#46039f\"], [0.2222222222222222, \"#7201a8\"], [0.3333333333333333, \"#9c179e\"], [0.4444444444444444, \"#bd3786\"], [0.5555555555555556, \"#d8576b\"], [0.6666666666666666, \"#ed7953\"], [0.7777777777777778, \"#fb9f3a\"], [0.8888888888888888, \"#fdca26\"], [1.0, \"#f0f921\"]]}, \"colorway\": [\"#636efa\", \"#EF553B\", \"#00cc96\", \"#ab63fa\", \"#FFA15A\", \"#19d3f3\", \"#FF6692\", \"#B6E880\", \"#FF97FF\", \"#FECB52\"], \"font\": {\"color\": \"#2a3f5f\"}, \"geo\": {\"bgcolor\": \"white\", \"lakecolor\": \"white\", \"landcolor\": \"#E5ECF6\", \"showlakes\": true, \"showland\": true, \"subunitcolor\": \"white\"}, \"hoverlabel\": {\"align\": \"left\"}, \"hovermode\": \"closest\", \"mapbox\": {\"style\": \"light\"}, \"paper_bgcolor\": \"white\", \"plot_bgcolor\": \"#E5ECF6\", \"polar\": {\"angularaxis\": {\"gridcolor\": \"white\", \"linecolor\": \"white\", \"ticks\": \"\"}, \"bgcolor\": \"#E5ECF6\", \"radialaxis\": {\"gridcolor\": \"white\", \"linecolor\": \"white\", \"ticks\": \"\"}}, \"scene\": {\"xaxis\": {\"backgroundcolor\": \"#E5ECF6\", \"gridcolor\": \"white\", \"gridwidth\": 2, \"linecolor\": \"white\", \"showbackground\": true, \"ticks\": \"\", \"zerolinecolor\": \"white\"}, \"yaxis\": {\"backgroundcolor\": \"#E5ECF6\", \"gridcolor\": \"white\", \"gridwidth\": 2, \"linecolor\": \"white\", \"showbackground\": true, \"ticks\": \"\", \"zerolinecolor\": \"white\"}, \"zaxis\": {\"backgroundcolor\": \"#E5ECF6\", \"gridcolor\": \"white\", \"gridwidth\": 2, \"linecolor\": \"white\", \"showbackground\": true, \"ticks\": \"\", \"zerolinecolor\": \"white\"}}, \"shapedefaults\": {\"line\": {\"color\": \"#2a3f5f\"}}, \"ternary\": {\"aaxis\": {\"gridcolor\": \"white\", \"linecolor\": \"white\", \"ticks\": \"\"}, \"baxis\": {\"gridcolor\": \"white\", \"linecolor\": \"white\", \"ticks\": \"\"}, \"bgcolor\": \"#E5ECF6\", \"caxis\": {\"gridcolor\": \"white\", \"linecolor\": \"white\", \"ticks\": \"\"}}, \"title\": {\"x\": 0.05}, \"xaxis\": {\"automargin\": true, \"gridcolor\": \"white\", \"linecolor\": \"white\", \"ticks\": \"\", \"title\": {\"standoff\": 15}, \"zerolinecolor\": \"white\", \"zerolinewidth\": 2}, \"yaxis\": {\"automargin\": true, \"gridcolor\": \"white\", \"linecolor\": \"white\", \"ticks\": \"\", \"title\": {\"standoff\": 15}, \"zerolinecolor\": \"white\", \"zerolinewidth\": 2}}}, \"title\": {\"text\": \"Asset Ownership Name\"}, \"xaxis\": {\"anchor\": \"y\", \"categoryarray\": [\"Photographic Studio\", \"Multimedia & Social Documentary\", \"Textiles & Fashion\", \"Conservation\", \"Asian Department\", \"Theatre & Performance\", \"Collections Management Department\", \"South and South East Asia\", \"Computer Art\", \"East Asia\", \"Metalwork\", \"Ceramics & Glass\", \"Museum of Childhood\", \"Furniture, Textiles & Fashion\", \"Word & Image\", \"Furniture & Woodwork\", \"Sculpture, Metalwork, Ceramics & Glass\", \"Middle East\", \"Object Photography\", \"Conservation - Textiles\", \"Wedgwood\", \"Conservation - Metals\", \"Department of Photography\", \"Conservation - Sculpture\", \"V&A National Purchase Grant Fund\", \"Design, Architecture and Digital Department\", \"Conservation - Furniture\", \"Conservation - Stained Glass\", \"Conservation - Paintings\", \"Exhibitions\", \"Resource Planning\", \"National Art Library\", \"Sculpture\", \"Exhibitions & Loans\", \"V&A Enterprises\", \"Conservation - Ceramics and Glass\", \"Prints, Drawings & Paintings\", \"Beatrix Potter Collection\", \"Archive of Art and Design\", \"V&A Archives\", \"Learning & Interpretation\", \"Conservation - Science\", \"Apprentices Scheme\", \"Conservation - Paper\", \"Photographs\", \"Research\", \"Designs\", \"Conservation - Frames\", \"Digital Media\", \"Projects, Design & Estates\", \"Conservation - Books\", \"BH Advance Works\", \"FuturePlan\", \"Technical Services\", \"Directorate\", \"No Ownership\", \"Paintings\", \"Loans Section\", \"Estates\", \"Projects\", \"Press & Marketing\", \"None\", \"Prints\", \"Information Systems Services\", \"Security\", \"Framers\", \"Design\", \"Museum Events\", \"Public Affairs\", \"VAE Licensing and Brand Development\", \"ELT\", \"FDG\", \"International Initiatives\", \"Development\", \"Digital Management\"], \"categoryorder\": \"array\", \"domain\": [0.0, 1.0], \"title\": {\"text\": \"Asset Ownership Name\"}}, \"yaxis\": {\"anchor\": \"x\", \"domain\": [0.0, 1.0], \"title\": {\"text\": \"count\"}}},                        {\"responsive\": true}                    ).then(function(){\n",
       "                            \n",
       "var gd = document.getElementById('1cd7e4e2-2888-4a21-b941-5e278fc7860a');\n",
       "var x = new MutationObserver(function (mutations, observer) {{\n",
       "        var display = window.getComputedStyle(gd).display;\n",
       "        if (!display || display === 'none') {{\n",
       "            console.log([gd, 'removed!']);\n",
       "            Plotly.purge(gd);\n",
       "            observer.disconnect();\n",
       "        }}\n",
       "}});\n",
       "\n",
       "// Listen for the removal of the full notebook cells\n",
       "var notebookContainer = gd.closest('#notebook-container');\n",
       "if (notebookContainer) {{\n",
       "    x.observe(notebookContainer, {childList: true});\n",
       "}}\n",
       "\n",
       "// Listen for the clearing of the current output cell\n",
       "var outputEl = gd.closest('.output');\n",
       "if (outputEl) {{\n",
       "    x.observe(outputEl, {childList: true});\n",
       "}}\n",
       "\n",
       "                        })                };                });            </script>        </div>"
      ]
     },
     "metadata": {},
     "output_type": "display_data"
    }
   ],
   "source": [
    "figs[1].show()"
   ]
  },
  {
   "cell_type": "code",
   "execution_count": 96,
   "id": "b776b8dc",
   "metadata": {
    "tags": [
     "hide-input"
    ]
   },
   "outputs": [
    {
     "data": {
      "application/vnd.plotly.v1+json": {
       "config": {
        "plotlyServerURL": "https://plot.ly"
       },
       "data": [
        {
         "alignmentgroup": "True",
         "hovertemplate": "Asset Type=%{x}<br>count=%{text}<extra></extra>",
         "legendgroup": "Image",
         "marker": {
          "color": "#636efa"
         },
         "name": "Image",
         "offsetgroup": "Image",
         "orientation": "v",
         "showlegend": true,
         "text": [
          1740752
         ],
         "textposition": "auto",
         "type": "bar",
         "x": [
          "Image"
         ],
         "xaxis": "x",
         "y": [
          1740752
         ],
         "yaxis": "y"
        },
        {
         "alignmentgroup": "True",
         "hovertemplate": "Asset Type=%{x}<br>count=%{text}<extra></extra>",
         "legendgroup": "Document",
         "marker": {
          "color": "#EF553B"
         },
         "name": "Document",
         "offsetgroup": "Document",
         "orientation": "v",
         "showlegend": true,
         "text": [
          393
         ],
         "textposition": "auto",
         "type": "bar",
         "x": [
          "Document"
         ],
         "xaxis": "x",
         "y": [
          393
         ],
         "yaxis": "y"
        },
        {
         "alignmentgroup": "True",
         "hovertemplate": "Asset Type=%{x}<br>count=%{text}<extra></extra>",
         "legendgroup": "Video",
         "marker": {
          "color": "#00cc96"
         },
         "name": "Video",
         "offsetgroup": "Video",
         "orientation": "v",
         "showlegend": true,
         "text": [
          203
         ],
         "textposition": "auto",
         "type": "bar",
         "x": [
          "Video"
         ],
         "xaxis": "x",
         "y": [
          203
         ],
         "yaxis": "y"
        },
        {
         "alignmentgroup": "True",
         "hovertemplate": "Asset Type=%{x}<br>count=%{text}<extra></extra>",
         "legendgroup": "Audio",
         "marker": {
          "color": "#ab63fa"
         },
         "name": "Audio",
         "offsetgroup": "Audio",
         "orientation": "v",
         "showlegend": true,
         "text": [
          161
         ],
         "textposition": "auto",
         "type": "bar",
         "x": [
          "Audio"
         ],
         "xaxis": "x",
         "y": [
          161
         ],
         "yaxis": "y"
        },
        {
         "alignmentgroup": "True",
         "hovertemplate": "Asset Type=%{x}<br>count=%{text}<extra></extra>",
         "legendgroup": "X-Ray",
         "marker": {
          "color": "#FFA15A"
         },
         "name": "X-Ray",
         "offsetgroup": "X-Ray",
         "orientation": "v",
         "showlegend": true,
         "text": [
          47
         ],
         "textposition": "auto",
         "type": "bar",
         "x": [
          "X-Ray"
         ],
         "xaxis": "x",
         "y": [
          47
         ],
         "yaxis": "y"
        },
        {
         "alignmentgroup": "True",
         "hovertemplate": "Asset Type=%{x}<br>count=%{text}<extra></extra>",
         "legendgroup": "Compressed file",
         "marker": {
          "color": "#19d3f3"
         },
         "name": "Compressed file",
         "offsetgroup": "Compressed file",
         "orientation": "v",
         "showlegend": true,
         "text": [
          36
         ],
         "textposition": "auto",
         "type": "bar",
         "x": [
          "Compressed file"
         ],
         "xaxis": "x",
         "y": [
          36
         ],
         "yaxis": "y"
        },
        {
         "alignmentgroup": "True",
         "hovertemplate": "Asset Type=%{x}<br>count=%{text}<extra></extra>",
         "legendgroup": "3D model",
         "marker": {
          "color": "#FF6692"
         },
         "name": "3D model",
         "offsetgroup": "3D model",
         "orientation": "v",
         "showlegend": true,
         "text": [
          24
         ],
         "textposition": "auto",
         "type": "bar",
         "x": [
          "3D model"
         ],
         "xaxis": "x",
         "y": [
          24
         ],
         "yaxis": "y"
        },
        {
         "alignmentgroup": "True",
         "hovertemplate": "Asset Type=%{x}<br>count=%{text}<extra></extra>",
         "legendgroup": "None",
         "marker": {
          "color": "#B6E880"
         },
         "name": "None",
         "offsetgroup": "None",
         "orientation": "v",
         "showlegend": true,
         "text": [
          22
         ],
         "textposition": "auto",
         "type": "bar",
         "x": [
          "None"
         ],
         "xaxis": "x",
         "y": [
          22
         ],
         "yaxis": "y"
        },
        {
         "alignmentgroup": "True",
         "hovertemplate": "Asset Type=%{x}<br>count=%{text}<extra></extra>",
         "legendgroup": "Data set",
         "marker": {
          "color": "#FF97FF"
         },
         "name": "Data set",
         "offsetgroup": "Data set",
         "orientation": "v",
         "showlegend": true,
         "text": [
          2
         ],
         "textposition": "auto",
         "type": "bar",
         "x": [
          "Data set"
         ],
         "xaxis": "x",
         "y": [
          2
         ],
         "yaxis": "y"
        }
       ],
       "layout": {
        "barmode": "relative",
        "legend": {
         "title": {
          "text": "Asset Type"
         },
         "tracegroupgap": 0
        },
        "template": {
         "data": {
          "bar": [
           {
            "error_x": {
             "color": "#2a3f5f"
            },
            "error_y": {
             "color": "#2a3f5f"
            },
            "marker": {
             "line": {
              "color": "#E5ECF6",
              "width": 0.5
             }
            },
            "type": "bar"
           }
          ],
          "barpolar": [
           {
            "marker": {
             "line": {
              "color": "#E5ECF6",
              "width": 0.5
             }
            },
            "type": "barpolar"
           }
          ],
          "carpet": [
           {
            "aaxis": {
             "endlinecolor": "#2a3f5f",
             "gridcolor": "white",
             "linecolor": "white",
             "minorgridcolor": "white",
             "startlinecolor": "#2a3f5f"
            },
            "baxis": {
             "endlinecolor": "#2a3f5f",
             "gridcolor": "white",
             "linecolor": "white",
             "minorgridcolor": "white",
             "startlinecolor": "#2a3f5f"
            },
            "type": "carpet"
           }
          ],
          "choropleth": [
           {
            "colorbar": {
             "outlinewidth": 0,
             "ticks": ""
            },
            "type": "choropleth"
           }
          ],
          "contour": [
           {
            "colorbar": {
             "outlinewidth": 0,
             "ticks": ""
            },
            "colorscale": [
             [
              0,
              "#0d0887"
             ],
             [
              0.1111111111111111,
              "#46039f"
             ],
             [
              0.2222222222222222,
              "#7201a8"
             ],
             [
              0.3333333333333333,
              "#9c179e"
             ],
             [
              0.4444444444444444,
              "#bd3786"
             ],
             [
              0.5555555555555556,
              "#d8576b"
             ],
             [
              0.6666666666666666,
              "#ed7953"
             ],
             [
              0.7777777777777778,
              "#fb9f3a"
             ],
             [
              0.8888888888888888,
              "#fdca26"
             ],
             [
              1,
              "#f0f921"
             ]
            ],
            "type": "contour"
           }
          ],
          "contourcarpet": [
           {
            "colorbar": {
             "outlinewidth": 0,
             "ticks": ""
            },
            "type": "contourcarpet"
           }
          ],
          "heatmap": [
           {
            "colorbar": {
             "outlinewidth": 0,
             "ticks": ""
            },
            "colorscale": [
             [
              0,
              "#0d0887"
             ],
             [
              0.1111111111111111,
              "#46039f"
             ],
             [
              0.2222222222222222,
              "#7201a8"
             ],
             [
              0.3333333333333333,
              "#9c179e"
             ],
             [
              0.4444444444444444,
              "#bd3786"
             ],
             [
              0.5555555555555556,
              "#d8576b"
             ],
             [
              0.6666666666666666,
              "#ed7953"
             ],
             [
              0.7777777777777778,
              "#fb9f3a"
             ],
             [
              0.8888888888888888,
              "#fdca26"
             ],
             [
              1,
              "#f0f921"
             ]
            ],
            "type": "heatmap"
           }
          ],
          "heatmapgl": [
           {
            "colorbar": {
             "outlinewidth": 0,
             "ticks": ""
            },
            "colorscale": [
             [
              0,
              "#0d0887"
             ],
             [
              0.1111111111111111,
              "#46039f"
             ],
             [
              0.2222222222222222,
              "#7201a8"
             ],
             [
              0.3333333333333333,
              "#9c179e"
             ],
             [
              0.4444444444444444,
              "#bd3786"
             ],
             [
              0.5555555555555556,
              "#d8576b"
             ],
             [
              0.6666666666666666,
              "#ed7953"
             ],
             [
              0.7777777777777778,
              "#fb9f3a"
             ],
             [
              0.8888888888888888,
              "#fdca26"
             ],
             [
              1,
              "#f0f921"
             ]
            ],
            "type": "heatmapgl"
           }
          ],
          "histogram": [
           {
            "marker": {
             "colorbar": {
              "outlinewidth": 0,
              "ticks": ""
             }
            },
            "type": "histogram"
           }
          ],
          "histogram2d": [
           {
            "colorbar": {
             "outlinewidth": 0,
             "ticks": ""
            },
            "colorscale": [
             [
              0,
              "#0d0887"
             ],
             [
              0.1111111111111111,
              "#46039f"
             ],
             [
              0.2222222222222222,
              "#7201a8"
             ],
             [
              0.3333333333333333,
              "#9c179e"
             ],
             [
              0.4444444444444444,
              "#bd3786"
             ],
             [
              0.5555555555555556,
              "#d8576b"
             ],
             [
              0.6666666666666666,
              "#ed7953"
             ],
             [
              0.7777777777777778,
              "#fb9f3a"
             ],
             [
              0.8888888888888888,
              "#fdca26"
             ],
             [
              1,
              "#f0f921"
             ]
            ],
            "type": "histogram2d"
           }
          ],
          "histogram2dcontour": [
           {
            "colorbar": {
             "outlinewidth": 0,
             "ticks": ""
            },
            "colorscale": [
             [
              0,
              "#0d0887"
             ],
             [
              0.1111111111111111,
              "#46039f"
             ],
             [
              0.2222222222222222,
              "#7201a8"
             ],
             [
              0.3333333333333333,
              "#9c179e"
             ],
             [
              0.4444444444444444,
              "#bd3786"
             ],
             [
              0.5555555555555556,
              "#d8576b"
             ],
             [
              0.6666666666666666,
              "#ed7953"
             ],
             [
              0.7777777777777778,
              "#fb9f3a"
             ],
             [
              0.8888888888888888,
              "#fdca26"
             ],
             [
              1,
              "#f0f921"
             ]
            ],
            "type": "histogram2dcontour"
           }
          ],
          "mesh3d": [
           {
            "colorbar": {
             "outlinewidth": 0,
             "ticks": ""
            },
            "type": "mesh3d"
           }
          ],
          "parcoords": [
           {
            "line": {
             "colorbar": {
              "outlinewidth": 0,
              "ticks": ""
             }
            },
            "type": "parcoords"
           }
          ],
          "pie": [
           {
            "automargin": true,
            "type": "pie"
           }
          ],
          "scatter": [
           {
            "marker": {
             "colorbar": {
              "outlinewidth": 0,
              "ticks": ""
             }
            },
            "type": "scatter"
           }
          ],
          "scatter3d": [
           {
            "line": {
             "colorbar": {
              "outlinewidth": 0,
              "ticks": ""
             }
            },
            "marker": {
             "colorbar": {
              "outlinewidth": 0,
              "ticks": ""
             }
            },
            "type": "scatter3d"
           }
          ],
          "scattercarpet": [
           {
            "marker": {
             "colorbar": {
              "outlinewidth": 0,
              "ticks": ""
             }
            },
            "type": "scattercarpet"
           }
          ],
          "scattergeo": [
           {
            "marker": {
             "colorbar": {
              "outlinewidth": 0,
              "ticks": ""
             }
            },
            "type": "scattergeo"
           }
          ],
          "scattergl": [
           {
            "marker": {
             "colorbar": {
              "outlinewidth": 0,
              "ticks": ""
             }
            },
            "type": "scattergl"
           }
          ],
          "scattermapbox": [
           {
            "marker": {
             "colorbar": {
              "outlinewidth": 0,
              "ticks": ""
             }
            },
            "type": "scattermapbox"
           }
          ],
          "scatterpolar": [
           {
            "marker": {
             "colorbar": {
              "outlinewidth": 0,
              "ticks": ""
             }
            },
            "type": "scatterpolar"
           }
          ],
          "scatterpolargl": [
           {
            "marker": {
             "colorbar": {
              "outlinewidth": 0,
              "ticks": ""
             }
            },
            "type": "scatterpolargl"
           }
          ],
          "scatterternary": [
           {
            "marker": {
             "colorbar": {
              "outlinewidth": 0,
              "ticks": ""
             }
            },
            "type": "scatterternary"
           }
          ],
          "surface": [
           {
            "colorbar": {
             "outlinewidth": 0,
             "ticks": ""
            },
            "colorscale": [
             [
              0,
              "#0d0887"
             ],
             [
              0.1111111111111111,
              "#46039f"
             ],
             [
              0.2222222222222222,
              "#7201a8"
             ],
             [
              0.3333333333333333,
              "#9c179e"
             ],
             [
              0.4444444444444444,
              "#bd3786"
             ],
             [
              0.5555555555555556,
              "#d8576b"
             ],
             [
              0.6666666666666666,
              "#ed7953"
             ],
             [
              0.7777777777777778,
              "#fb9f3a"
             ],
             [
              0.8888888888888888,
              "#fdca26"
             ],
             [
              1,
              "#f0f921"
             ]
            ],
            "type": "surface"
           }
          ],
          "table": [
           {
            "cells": {
             "fill": {
              "color": "#EBF0F8"
             },
             "line": {
              "color": "white"
             }
            },
            "header": {
             "fill": {
              "color": "#C8D4E3"
             },
             "line": {
              "color": "white"
             }
            },
            "type": "table"
           }
          ]
         },
         "layout": {
          "annotationdefaults": {
           "arrowcolor": "#2a3f5f",
           "arrowhead": 0,
           "arrowwidth": 1
          },
          "autotypenumbers": "strict",
          "coloraxis": {
           "colorbar": {
            "outlinewidth": 0,
            "ticks": ""
           }
          },
          "colorscale": {
           "diverging": [
            [
             0,
             "#8e0152"
            ],
            [
             0.1,
             "#c51b7d"
            ],
            [
             0.2,
             "#de77ae"
            ],
            [
             0.3,
             "#f1b6da"
            ],
            [
             0.4,
             "#fde0ef"
            ],
            [
             0.5,
             "#f7f7f7"
            ],
            [
             0.6,
             "#e6f5d0"
            ],
            [
             0.7,
             "#b8e186"
            ],
            [
             0.8,
             "#7fbc41"
            ],
            [
             0.9,
             "#4d9221"
            ],
            [
             1,
             "#276419"
            ]
           ],
           "sequential": [
            [
             0,
             "#0d0887"
            ],
            [
             0.1111111111111111,
             "#46039f"
            ],
            [
             0.2222222222222222,
             "#7201a8"
            ],
            [
             0.3333333333333333,
             "#9c179e"
            ],
            [
             0.4444444444444444,
             "#bd3786"
            ],
            [
             0.5555555555555556,
             "#d8576b"
            ],
            [
             0.6666666666666666,
             "#ed7953"
            ],
            [
             0.7777777777777778,
             "#fb9f3a"
            ],
            [
             0.8888888888888888,
             "#fdca26"
            ],
            [
             1,
             "#f0f921"
            ]
           ],
           "sequentialminus": [
            [
             0,
             "#0d0887"
            ],
            [
             0.1111111111111111,
             "#46039f"
            ],
            [
             0.2222222222222222,
             "#7201a8"
            ],
            [
             0.3333333333333333,
             "#9c179e"
            ],
            [
             0.4444444444444444,
             "#bd3786"
            ],
            [
             0.5555555555555556,
             "#d8576b"
            ],
            [
             0.6666666666666666,
             "#ed7953"
            ],
            [
             0.7777777777777778,
             "#fb9f3a"
            ],
            [
             0.8888888888888888,
             "#fdca26"
            ],
            [
             1,
             "#f0f921"
            ]
           ]
          },
          "colorway": [
           "#636efa",
           "#EF553B",
           "#00cc96",
           "#ab63fa",
           "#FFA15A",
           "#19d3f3",
           "#FF6692",
           "#B6E880",
           "#FF97FF",
           "#FECB52"
          ],
          "font": {
           "color": "#2a3f5f"
          },
          "geo": {
           "bgcolor": "white",
           "lakecolor": "white",
           "landcolor": "#E5ECF6",
           "showlakes": true,
           "showland": true,
           "subunitcolor": "white"
          },
          "hoverlabel": {
           "align": "left"
          },
          "hovermode": "closest",
          "mapbox": {
           "style": "light"
          },
          "paper_bgcolor": "white",
          "plot_bgcolor": "#E5ECF6",
          "polar": {
           "angularaxis": {
            "gridcolor": "white",
            "linecolor": "white",
            "ticks": ""
           },
           "bgcolor": "#E5ECF6",
           "radialaxis": {
            "gridcolor": "white",
            "linecolor": "white",
            "ticks": ""
           }
          },
          "scene": {
           "xaxis": {
            "backgroundcolor": "#E5ECF6",
            "gridcolor": "white",
            "gridwidth": 2,
            "linecolor": "white",
            "showbackground": true,
            "ticks": "",
            "zerolinecolor": "white"
           },
           "yaxis": {
            "backgroundcolor": "#E5ECF6",
            "gridcolor": "white",
            "gridwidth": 2,
            "linecolor": "white",
            "showbackground": true,
            "ticks": "",
            "zerolinecolor": "white"
           },
           "zaxis": {
            "backgroundcolor": "#E5ECF6",
            "gridcolor": "white",
            "gridwidth": 2,
            "linecolor": "white",
            "showbackground": true,
            "ticks": "",
            "zerolinecolor": "white"
           }
          },
          "shapedefaults": {
           "line": {
            "color": "#2a3f5f"
           }
          },
          "ternary": {
           "aaxis": {
            "gridcolor": "white",
            "linecolor": "white",
            "ticks": ""
           },
           "baxis": {
            "gridcolor": "white",
            "linecolor": "white",
            "ticks": ""
           },
           "bgcolor": "#E5ECF6",
           "caxis": {
            "gridcolor": "white",
            "linecolor": "white",
            "ticks": ""
           }
          },
          "title": {
           "x": 0.05
          },
          "xaxis": {
           "automargin": true,
           "gridcolor": "white",
           "linecolor": "white",
           "ticks": "",
           "title": {
            "standoff": 15
           },
           "zerolinecolor": "white",
           "zerolinewidth": 2
          },
          "yaxis": {
           "automargin": true,
           "gridcolor": "white",
           "linecolor": "white",
           "ticks": "",
           "title": {
            "standoff": 15
           },
           "zerolinecolor": "white",
           "zerolinewidth": 2
          }
         }
        },
        "title": {
         "text": "Asset Type"
        },
        "xaxis": {
         "anchor": "y",
         "categoryarray": [
          "Image",
          "Document",
          "Video",
          "Audio",
          "X-Ray",
          "Compressed file",
          "3D model",
          "None",
          "Data set"
         ],
         "categoryorder": "array",
         "domain": [
          0,
          1
         ],
         "title": {
          "text": "Asset Type"
         }
        },
        "yaxis": {
         "anchor": "x",
         "domain": [
          0,
          1
         ],
         "title": {
          "text": "count"
         }
        }
       }
      },
      "text/html": [
       "<div>                            <div id=\"ac83d533-435e-48fb-a3da-be34fc148ba4\" class=\"plotly-graph-div\" style=\"height:525px; width:100%;\"></div>            <script type=\"text/javascript\">                require([\"plotly\"], function(Plotly) {                    window.PLOTLYENV=window.PLOTLYENV || {};                                    if (document.getElementById(\"ac83d533-435e-48fb-a3da-be34fc148ba4\")) {                    Plotly.newPlot(                        \"ac83d533-435e-48fb-a3da-be34fc148ba4\",                        [{\"alignmentgroup\": \"True\", \"hovertemplate\": \"Asset Type=%{x}<br>count=%{text}<extra></extra>\", \"legendgroup\": \"Image\", \"marker\": {\"color\": \"#636efa\"}, \"name\": \"Image\", \"offsetgroup\": \"Image\", \"orientation\": \"v\", \"showlegend\": true, \"text\": [1740752.0], \"textposition\": \"auto\", \"type\": \"bar\", \"x\": [\"Image\"], \"xaxis\": \"x\", \"y\": [1740752], \"yaxis\": \"y\"}, {\"alignmentgroup\": \"True\", \"hovertemplate\": \"Asset Type=%{x}<br>count=%{text}<extra></extra>\", \"legendgroup\": \"Document\", \"marker\": {\"color\": \"#EF553B\"}, \"name\": \"Document\", \"offsetgroup\": \"Document\", \"orientation\": \"v\", \"showlegend\": true, \"text\": [393.0], \"textposition\": \"auto\", \"type\": \"bar\", \"x\": [\"Document\"], \"xaxis\": \"x\", \"y\": [393], \"yaxis\": \"y\"}, {\"alignmentgroup\": \"True\", \"hovertemplate\": \"Asset Type=%{x}<br>count=%{text}<extra></extra>\", \"legendgroup\": \"Video\", \"marker\": {\"color\": \"#00cc96\"}, \"name\": \"Video\", \"offsetgroup\": \"Video\", \"orientation\": \"v\", \"showlegend\": true, \"text\": [203.0], \"textposition\": \"auto\", \"type\": \"bar\", \"x\": [\"Video\"], \"xaxis\": \"x\", \"y\": [203], \"yaxis\": \"y\"}, {\"alignmentgroup\": \"True\", \"hovertemplate\": \"Asset Type=%{x}<br>count=%{text}<extra></extra>\", \"legendgroup\": \"Audio\", \"marker\": {\"color\": \"#ab63fa\"}, \"name\": \"Audio\", \"offsetgroup\": \"Audio\", \"orientation\": \"v\", \"showlegend\": true, \"text\": [161.0], \"textposition\": \"auto\", \"type\": \"bar\", \"x\": [\"Audio\"], \"xaxis\": \"x\", \"y\": [161], \"yaxis\": \"y\"}, {\"alignmentgroup\": \"True\", \"hovertemplate\": \"Asset Type=%{x}<br>count=%{text}<extra></extra>\", \"legendgroup\": \"X-Ray\", \"marker\": {\"color\": \"#FFA15A\"}, \"name\": \"X-Ray\", \"offsetgroup\": \"X-Ray\", \"orientation\": \"v\", \"showlegend\": true, \"text\": [47.0], \"textposition\": \"auto\", \"type\": \"bar\", \"x\": [\"X-Ray\"], \"xaxis\": \"x\", \"y\": [47], \"yaxis\": \"y\"}, {\"alignmentgroup\": \"True\", \"hovertemplate\": \"Asset Type=%{x}<br>count=%{text}<extra></extra>\", \"legendgroup\": \"Compressed file\", \"marker\": {\"color\": \"#19d3f3\"}, \"name\": \"Compressed file\", \"offsetgroup\": \"Compressed file\", \"orientation\": \"v\", \"showlegend\": true, \"text\": [36.0], \"textposition\": \"auto\", \"type\": \"bar\", \"x\": [\"Compressed file\"], \"xaxis\": \"x\", \"y\": [36], \"yaxis\": \"y\"}, {\"alignmentgroup\": \"True\", \"hovertemplate\": \"Asset Type=%{x}<br>count=%{text}<extra></extra>\", \"legendgroup\": \"3D model\", \"marker\": {\"color\": \"#FF6692\"}, \"name\": \"3D model\", \"offsetgroup\": \"3D model\", \"orientation\": \"v\", \"showlegend\": true, \"text\": [24.0], \"textposition\": \"auto\", \"type\": \"bar\", \"x\": [\"3D model\"], \"xaxis\": \"x\", \"y\": [24], \"yaxis\": \"y\"}, {\"alignmentgroup\": \"True\", \"hovertemplate\": \"Asset Type=%{x}<br>count=%{text}<extra></extra>\", \"legendgroup\": \"None\", \"marker\": {\"color\": \"#B6E880\"}, \"name\": \"None\", \"offsetgroup\": \"None\", \"orientation\": \"v\", \"showlegend\": true, \"text\": [22.0], \"textposition\": \"auto\", \"type\": \"bar\", \"x\": [\"None\"], \"xaxis\": \"x\", \"y\": [22], \"yaxis\": \"y\"}, {\"alignmentgroup\": \"True\", \"hovertemplate\": \"Asset Type=%{x}<br>count=%{text}<extra></extra>\", \"legendgroup\": \"Data set\", \"marker\": {\"color\": \"#FF97FF\"}, \"name\": \"Data set\", \"offsetgroup\": \"Data set\", \"orientation\": \"v\", \"showlegend\": true, \"text\": [2.0], \"textposition\": \"auto\", \"type\": \"bar\", \"x\": [\"Data set\"], \"xaxis\": \"x\", \"y\": [2], \"yaxis\": \"y\"}],                        {\"barmode\": \"relative\", \"legend\": {\"title\": {\"text\": \"Asset Type\"}, \"tracegroupgap\": 0}, \"template\": {\"data\": {\"bar\": [{\"error_x\": {\"color\": \"#2a3f5f\"}, \"error_y\": {\"color\": \"#2a3f5f\"}, \"marker\": {\"line\": {\"color\": \"#E5ECF6\", \"width\": 0.5}}, \"type\": \"bar\"}], \"barpolar\": [{\"marker\": {\"line\": {\"color\": \"#E5ECF6\", \"width\": 0.5}}, \"type\": \"barpolar\"}], \"carpet\": [{\"aaxis\": {\"endlinecolor\": \"#2a3f5f\", \"gridcolor\": \"white\", \"linecolor\": \"white\", \"minorgridcolor\": \"white\", \"startlinecolor\": \"#2a3f5f\"}, \"baxis\": {\"endlinecolor\": \"#2a3f5f\", \"gridcolor\": \"white\", \"linecolor\": \"white\", \"minorgridcolor\": \"white\", \"startlinecolor\": \"#2a3f5f\"}, \"type\": \"carpet\"}], \"choropleth\": [{\"colorbar\": {\"outlinewidth\": 0, \"ticks\": \"\"}, \"type\": \"choropleth\"}], \"contour\": [{\"colorbar\": {\"outlinewidth\": 0, \"ticks\": \"\"}, \"colorscale\": [[0.0, \"#0d0887\"], [0.1111111111111111, \"#46039f\"], [0.2222222222222222, \"#7201a8\"], [0.3333333333333333, \"#9c179e\"], [0.4444444444444444, \"#bd3786\"], [0.5555555555555556, \"#d8576b\"], [0.6666666666666666, \"#ed7953\"], [0.7777777777777778, \"#fb9f3a\"], [0.8888888888888888, \"#fdca26\"], [1.0, \"#f0f921\"]], \"type\": \"contour\"}], \"contourcarpet\": [{\"colorbar\": {\"outlinewidth\": 0, \"ticks\": \"\"}, \"type\": \"contourcarpet\"}], \"heatmap\": [{\"colorbar\": {\"outlinewidth\": 0, \"ticks\": \"\"}, \"colorscale\": [[0.0, \"#0d0887\"], [0.1111111111111111, \"#46039f\"], [0.2222222222222222, \"#7201a8\"], [0.3333333333333333, \"#9c179e\"], [0.4444444444444444, \"#bd3786\"], [0.5555555555555556, \"#d8576b\"], [0.6666666666666666, \"#ed7953\"], [0.7777777777777778, \"#fb9f3a\"], [0.8888888888888888, \"#fdca26\"], [1.0, \"#f0f921\"]], \"type\": \"heatmap\"}], \"heatmapgl\": [{\"colorbar\": {\"outlinewidth\": 0, \"ticks\": \"\"}, \"colorscale\": [[0.0, \"#0d0887\"], [0.1111111111111111, \"#46039f\"], [0.2222222222222222, \"#7201a8\"], [0.3333333333333333, \"#9c179e\"], [0.4444444444444444, \"#bd3786\"], [0.5555555555555556, \"#d8576b\"], [0.6666666666666666, \"#ed7953\"], [0.7777777777777778, \"#fb9f3a\"], [0.8888888888888888, \"#fdca26\"], [1.0, \"#f0f921\"]], \"type\": \"heatmapgl\"}], \"histogram\": [{\"marker\": {\"colorbar\": {\"outlinewidth\": 0, \"ticks\": \"\"}}, \"type\": \"histogram\"}], \"histogram2d\": [{\"colorbar\": {\"outlinewidth\": 0, \"ticks\": \"\"}, \"colorscale\": [[0.0, \"#0d0887\"], [0.1111111111111111, \"#46039f\"], [0.2222222222222222, \"#7201a8\"], [0.3333333333333333, \"#9c179e\"], [0.4444444444444444, \"#bd3786\"], [0.5555555555555556, \"#d8576b\"], [0.6666666666666666, \"#ed7953\"], [0.7777777777777778, \"#fb9f3a\"], [0.8888888888888888, \"#fdca26\"], [1.0, \"#f0f921\"]], \"type\": \"histogram2d\"}], \"histogram2dcontour\": [{\"colorbar\": {\"outlinewidth\": 0, \"ticks\": \"\"}, \"colorscale\": [[0.0, \"#0d0887\"], [0.1111111111111111, \"#46039f\"], [0.2222222222222222, \"#7201a8\"], [0.3333333333333333, \"#9c179e\"], [0.4444444444444444, \"#bd3786\"], [0.5555555555555556, \"#d8576b\"], [0.6666666666666666, \"#ed7953\"], [0.7777777777777778, \"#fb9f3a\"], [0.8888888888888888, \"#fdca26\"], [1.0, \"#f0f921\"]], \"type\": \"histogram2dcontour\"}], \"mesh3d\": [{\"colorbar\": {\"outlinewidth\": 0, \"ticks\": \"\"}, \"type\": \"mesh3d\"}], \"parcoords\": [{\"line\": {\"colorbar\": {\"outlinewidth\": 0, \"ticks\": \"\"}}, \"type\": \"parcoords\"}], \"pie\": [{\"automargin\": true, \"type\": \"pie\"}], \"scatter\": [{\"marker\": {\"colorbar\": {\"outlinewidth\": 0, \"ticks\": \"\"}}, \"type\": \"scatter\"}], \"scatter3d\": [{\"line\": {\"colorbar\": {\"outlinewidth\": 0, \"ticks\": \"\"}}, \"marker\": {\"colorbar\": {\"outlinewidth\": 0, \"ticks\": \"\"}}, \"type\": \"scatter3d\"}], \"scattercarpet\": [{\"marker\": {\"colorbar\": {\"outlinewidth\": 0, \"ticks\": \"\"}}, \"type\": \"scattercarpet\"}], \"scattergeo\": [{\"marker\": {\"colorbar\": {\"outlinewidth\": 0, \"ticks\": \"\"}}, \"type\": \"scattergeo\"}], \"scattergl\": [{\"marker\": {\"colorbar\": {\"outlinewidth\": 0, \"ticks\": \"\"}}, \"type\": \"scattergl\"}], \"scattermapbox\": [{\"marker\": {\"colorbar\": {\"outlinewidth\": 0, \"ticks\": \"\"}}, \"type\": \"scattermapbox\"}], \"scatterpolar\": [{\"marker\": {\"colorbar\": {\"outlinewidth\": 0, \"ticks\": \"\"}}, \"type\": \"scatterpolar\"}], \"scatterpolargl\": [{\"marker\": {\"colorbar\": {\"outlinewidth\": 0, \"ticks\": \"\"}}, \"type\": \"scatterpolargl\"}], \"scatterternary\": [{\"marker\": {\"colorbar\": {\"outlinewidth\": 0, \"ticks\": \"\"}}, \"type\": \"scatterternary\"}], \"surface\": [{\"colorbar\": {\"outlinewidth\": 0, \"ticks\": \"\"}, \"colorscale\": [[0.0, \"#0d0887\"], [0.1111111111111111, \"#46039f\"], [0.2222222222222222, \"#7201a8\"], [0.3333333333333333, \"#9c179e\"], [0.4444444444444444, \"#bd3786\"], [0.5555555555555556, \"#d8576b\"], [0.6666666666666666, \"#ed7953\"], [0.7777777777777778, \"#fb9f3a\"], [0.8888888888888888, \"#fdca26\"], [1.0, \"#f0f921\"]], \"type\": \"surface\"}], \"table\": [{\"cells\": {\"fill\": {\"color\": \"#EBF0F8\"}, \"line\": {\"color\": \"white\"}}, \"header\": {\"fill\": {\"color\": \"#C8D4E3\"}, \"line\": {\"color\": \"white\"}}, \"type\": \"table\"}]}, \"layout\": {\"annotationdefaults\": {\"arrowcolor\": \"#2a3f5f\", \"arrowhead\": 0, \"arrowwidth\": 1}, \"autotypenumbers\": \"strict\", \"coloraxis\": {\"colorbar\": {\"outlinewidth\": 0, \"ticks\": \"\"}}, \"colorscale\": {\"diverging\": [[0, \"#8e0152\"], [0.1, \"#c51b7d\"], [0.2, \"#de77ae\"], [0.3, \"#f1b6da\"], [0.4, \"#fde0ef\"], [0.5, \"#f7f7f7\"], [0.6, \"#e6f5d0\"], [0.7, \"#b8e186\"], [0.8, \"#7fbc41\"], [0.9, \"#4d9221\"], [1, \"#276419\"]], \"sequential\": [[0.0, \"#0d0887\"], [0.1111111111111111, \"#46039f\"], [0.2222222222222222, \"#7201a8\"], [0.3333333333333333, \"#9c179e\"], [0.4444444444444444, \"#bd3786\"], [0.5555555555555556, \"#d8576b\"], [0.6666666666666666, \"#ed7953\"], [0.7777777777777778, \"#fb9f3a\"], [0.8888888888888888, \"#fdca26\"], [1.0, \"#f0f921\"]], \"sequentialminus\": [[0.0, \"#0d0887\"], [0.1111111111111111, \"#46039f\"], [0.2222222222222222, \"#7201a8\"], [0.3333333333333333, \"#9c179e\"], [0.4444444444444444, \"#bd3786\"], [0.5555555555555556, \"#d8576b\"], [0.6666666666666666, \"#ed7953\"], [0.7777777777777778, \"#fb9f3a\"], [0.8888888888888888, \"#fdca26\"], [1.0, \"#f0f921\"]]}, \"colorway\": [\"#636efa\", \"#EF553B\", \"#00cc96\", \"#ab63fa\", \"#FFA15A\", \"#19d3f3\", \"#FF6692\", \"#B6E880\", \"#FF97FF\", \"#FECB52\"], \"font\": {\"color\": \"#2a3f5f\"}, \"geo\": {\"bgcolor\": \"white\", \"lakecolor\": \"white\", \"landcolor\": \"#E5ECF6\", \"showlakes\": true, \"showland\": true, \"subunitcolor\": \"white\"}, \"hoverlabel\": {\"align\": \"left\"}, \"hovermode\": \"closest\", \"mapbox\": {\"style\": \"light\"}, \"paper_bgcolor\": \"white\", \"plot_bgcolor\": \"#E5ECF6\", \"polar\": {\"angularaxis\": {\"gridcolor\": \"white\", \"linecolor\": \"white\", \"ticks\": \"\"}, \"bgcolor\": \"#E5ECF6\", \"radialaxis\": {\"gridcolor\": \"white\", \"linecolor\": \"white\", \"ticks\": \"\"}}, \"scene\": {\"xaxis\": {\"backgroundcolor\": \"#E5ECF6\", \"gridcolor\": \"white\", \"gridwidth\": 2, \"linecolor\": \"white\", \"showbackground\": true, \"ticks\": \"\", \"zerolinecolor\": \"white\"}, \"yaxis\": {\"backgroundcolor\": \"#E5ECF6\", \"gridcolor\": \"white\", \"gridwidth\": 2, \"linecolor\": \"white\", \"showbackground\": true, \"ticks\": \"\", \"zerolinecolor\": \"white\"}, \"zaxis\": {\"backgroundcolor\": \"#E5ECF6\", \"gridcolor\": \"white\", \"gridwidth\": 2, \"linecolor\": \"white\", \"showbackground\": true, \"ticks\": \"\", \"zerolinecolor\": \"white\"}}, \"shapedefaults\": {\"line\": {\"color\": \"#2a3f5f\"}}, \"ternary\": {\"aaxis\": {\"gridcolor\": \"white\", \"linecolor\": \"white\", \"ticks\": \"\"}, \"baxis\": {\"gridcolor\": \"white\", \"linecolor\": \"white\", \"ticks\": \"\"}, \"bgcolor\": \"#E5ECF6\", \"caxis\": {\"gridcolor\": \"white\", \"linecolor\": \"white\", \"ticks\": \"\"}}, \"title\": {\"x\": 0.05}, \"xaxis\": {\"automargin\": true, \"gridcolor\": \"white\", \"linecolor\": \"white\", \"ticks\": \"\", \"title\": {\"standoff\": 15}, \"zerolinecolor\": \"white\", \"zerolinewidth\": 2}, \"yaxis\": {\"automargin\": true, \"gridcolor\": \"white\", \"linecolor\": \"white\", \"ticks\": \"\", \"title\": {\"standoff\": 15}, \"zerolinecolor\": \"white\", \"zerolinewidth\": 2}}}, \"title\": {\"text\": \"Asset Type\"}, \"xaxis\": {\"anchor\": \"y\", \"categoryarray\": [\"Image\", \"Document\", \"Video\", \"Audio\", \"X-Ray\", \"Compressed file\", \"3D model\", \"None\", \"Data set\"], \"categoryorder\": \"array\", \"domain\": [0.0, 1.0], \"title\": {\"text\": \"Asset Type\"}}, \"yaxis\": {\"anchor\": \"x\", \"domain\": [0.0, 1.0], \"title\": {\"text\": \"count\"}}},                        {\"responsive\": true}                    ).then(function(){\n",
       "                            \n",
       "var gd = document.getElementById('ac83d533-435e-48fb-a3da-be34fc148ba4');\n",
       "var x = new MutationObserver(function (mutations, observer) {{\n",
       "        var display = window.getComputedStyle(gd).display;\n",
       "        if (!display || display === 'none') {{\n",
       "            console.log([gd, 'removed!']);\n",
       "            Plotly.purge(gd);\n",
       "            observer.disconnect();\n",
       "        }}\n",
       "}});\n",
       "\n",
       "// Listen for the removal of the full notebook cells\n",
       "var notebookContainer = gd.closest('#notebook-container');\n",
       "if (notebookContainer) {{\n",
       "    x.observe(notebookContainer, {childList: true});\n",
       "}}\n",
       "\n",
       "// Listen for the clearing of the current output cell\n",
       "var outputEl = gd.closest('.output');\n",
       "if (outputEl) {{\n",
       "    x.observe(outputEl, {childList: true});\n",
       "}}\n",
       "\n",
       "                        })                };                });            </script>        </div>"
      ]
     },
     "metadata": {},
     "output_type": "display_data"
    }
   ],
   "source": [
    "figs[2].show()"
   ]
  },
  {
   "cell_type": "code",
   "execution_count": 97,
   "id": "2da39b70",
   "metadata": {
    "tags": [
     "hide-input"
    ]
   },
   "outputs": [
    {
     "data": {
      "application/vnd.plotly.v1+json": {
       "config": {
        "plotlyServerURL": "https://plot.ly"
       },
       "data": [
        {
         "alignmentgroup": "True",
         "hovertemplate": "Asset Restriction=%{x}<br>count=%{text}<extra></extra>",
         "legendgroup": "Staff record shot",
         "marker": {
          "color": "#636efa"
         },
         "name": "Staff record shot",
         "offsetgroup": "Staff record shot",
         "orientation": "v",
         "showlegend": true,
         "text": [
          145648
         ],
         "textposition": "auto",
         "type": "bar",
         "x": [
          "Staff record shot"
         ],
         "xaxis": "x",
         "y": [
          145648
         ],
         "yaxis": "y"
        },
        {
         "alignmentgroup": "True",
         "hovertemplate": "Asset Restriction=%{x}<br>count=%{text}<extra></extra>",
         "legendgroup": "VAE (full restriction)",
         "marker": {
          "color": "#EF553B"
         },
         "name": "VAE (full restriction)",
         "offsetgroup": "VAE (full restriction)",
         "orientation": "v",
         "showlegend": true,
         "text": [
          2877
         ],
         "textposition": "auto",
         "type": "bar",
         "x": [
          "VAE (full restriction)"
         ],
         "xaxis": "x",
         "y": [
          2877
         ],
         "yaxis": "y"
        },
        {
         "alignmentgroup": "True",
         "hovertemplate": "Asset Restriction=%{x}<br>count=%{text}<extra></extra>",
         "legendgroup": "VAE",
         "marker": {
          "color": "#00cc96"
         },
         "name": "VAE",
         "offsetgroup": "VAE",
         "orientation": "v",
         "showlegend": true,
         "text": [
          2150
         ],
         "textposition": "auto",
         "type": "bar",
         "x": [
          "VAE"
         ],
         "xaxis": "x",
         "y": [
          2150
         ],
         "yaxis": "y"
        },
        {
         "alignmentgroup": "True",
         "hovertemplate": "Asset Restriction=%{x}<br>count=%{text}<extra></extra>",
         "legendgroup": "Internal Dept only",
         "marker": {
          "color": "#ab63fa"
         },
         "name": "Internal Dept only",
         "offsetgroup": "Internal Dept only",
         "orientation": "v",
         "showlegend": true,
         "text": [
          2061
         ],
         "textposition": "auto",
         "type": "bar",
         "x": [
          "Internal Dept only"
         ],
         "xaxis": "x",
         "y": [
          2061
         ],
         "yaxis": "y"
        },
        {
         "alignmentgroup": "True",
         "hovertemplate": "Asset Restriction=%{x}<br>count=%{text}<extra></extra>",
         "legendgroup": "None",
         "marker": {
          "color": "#FFA15A"
         },
         "name": "None",
         "offsetgroup": "None",
         "orientation": "v",
         "showlegend": true,
         "text": [
          578,
          130,
          126,
          84,
          65,
          10,
          7,
          6,
          4,
          2,
          2,
          1
         ],
         "textposition": "auto",
         "type": "bar",
         "x": [
          "None",
          "None",
          "None",
          "None",
          "None",
          "None",
          "None",
          "None",
          "None",
          "None",
          "None",
          "None"
         ],
         "xaxis": "x",
         "y": [
          578,
          130,
          126,
          84,
          65,
          10,
          7,
          6,
          4,
          2,
          2,
          1
         ],
         "yaxis": "y"
        },
        {
         "alignmentgroup": "True",
         "hovertemplate": "Asset Restriction=%{x}<br>count=%{text}<extra></extra>",
         "legendgroup": "Low quality image",
         "marker": {
          "color": "#19d3f3"
         },
         "name": "Low quality image",
         "offsetgroup": "Low quality image",
         "orientation": "v",
         "showlegend": true,
         "text": [
          199
         ],
         "textposition": "auto",
         "type": "bar",
         "x": [
          "Low quality image"
         ],
         "xaxis": "x",
         "y": [
          199
         ],
         "yaxis": "y"
        },
        {
         "alignmentgroup": "True",
         "hovertemplate": "Asset Restriction=%{x}<br>count=%{text}<extra></extra>",
         "legendgroup": "Loan in",
         "marker": {
          "color": "#FF6692"
         },
         "name": "Loan in",
         "offsetgroup": "Loan in",
         "orientation": "v",
         "showlegend": true,
         "text": [
          103
         ],
         "textposition": "auto",
         "type": "bar",
         "x": [
          "Loan in"
         ],
         "xaxis": "x",
         "y": [
          103
         ],
         "yaxis": "y"
        },
        {
         "alignmentgroup": "True",
         "hovertemplate": "Asset Restriction=%{x}<br>count=%{text}<extra></extra>",
         "legendgroup": "Other",
         "marker": {
          "color": "#B6E880"
         },
         "name": "Other",
         "offsetgroup": "Other",
         "orientation": "v",
         "showlegend": true,
         "text": [
          98
         ],
         "textposition": "auto",
         "type": "bar",
         "x": [
          "Other"
         ],
         "xaxis": "x",
         "y": [
          98
         ],
         "yaxis": "y"
        },
        {
         "alignmentgroup": "True",
         "hovertemplate": "Asset Restriction=%{x}<br>count=%{text}<extra></extra>",
         "legendgroup": "VAE (some uses)",
         "marker": {
          "color": "#FF97FF"
         },
         "name": "VAE (some uses)",
         "offsetgroup": "VAE (some uses)",
         "orientation": "v",
         "showlegend": true,
         "text": [
          28
         ],
         "textposition": "auto",
         "type": "bar",
         "x": [
          "VAE (some uses)"
         ],
         "xaxis": "x",
         "y": [
          28
         ],
         "yaxis": "y"
        },
        {
         "alignmentgroup": "True",
         "hovertemplate": "Asset Restriction=%{x}<br>count=%{text}<extra></extra>",
         "legendgroup": "VAE (embargo)",
         "marker": {
          "color": "#FECB52"
         },
         "name": "VAE (embargo)",
         "offsetgroup": "VAE (embargo)",
         "orientation": "v",
         "showlegend": true,
         "text": [
          27
         ],
         "textposition": "auto",
         "type": "bar",
         "x": [
          "VAE (embargo)"
         ],
         "xaxis": "x",
         "y": [
          27
         ],
         "yaxis": "y"
        },
        {
         "alignmentgroup": "True",
         "hovertemplate": "Asset Restriction=%{x}<br>count=%{text}<extra></extra>",
         "legendgroup": "Reference only ",
         "marker": {
          "color": "#636efa"
         },
         "name": "Reference only ",
         "offsetgroup": "Reference only ",
         "orientation": "v",
         "showlegend": true,
         "text": [
          10
         ],
         "textposition": "auto",
         "type": "bar",
         "x": [
          "Reference only "
         ],
         "xaxis": "x",
         "y": [
          10
         ],
         "yaxis": "y"
        }
       ],
       "layout": {
        "barmode": "relative",
        "legend": {
         "title": {
          "text": "Asset Restriction"
         },
         "tracegroupgap": 0
        },
        "template": {
         "data": {
          "bar": [
           {
            "error_x": {
             "color": "#2a3f5f"
            },
            "error_y": {
             "color": "#2a3f5f"
            },
            "marker": {
             "line": {
              "color": "#E5ECF6",
              "width": 0.5
             }
            },
            "type": "bar"
           }
          ],
          "barpolar": [
           {
            "marker": {
             "line": {
              "color": "#E5ECF6",
              "width": 0.5
             }
            },
            "type": "barpolar"
           }
          ],
          "carpet": [
           {
            "aaxis": {
             "endlinecolor": "#2a3f5f",
             "gridcolor": "white",
             "linecolor": "white",
             "minorgridcolor": "white",
             "startlinecolor": "#2a3f5f"
            },
            "baxis": {
             "endlinecolor": "#2a3f5f",
             "gridcolor": "white",
             "linecolor": "white",
             "minorgridcolor": "white",
             "startlinecolor": "#2a3f5f"
            },
            "type": "carpet"
           }
          ],
          "choropleth": [
           {
            "colorbar": {
             "outlinewidth": 0,
             "ticks": ""
            },
            "type": "choropleth"
           }
          ],
          "contour": [
           {
            "colorbar": {
             "outlinewidth": 0,
             "ticks": ""
            },
            "colorscale": [
             [
              0,
              "#0d0887"
             ],
             [
              0.1111111111111111,
              "#46039f"
             ],
             [
              0.2222222222222222,
              "#7201a8"
             ],
             [
              0.3333333333333333,
              "#9c179e"
             ],
             [
              0.4444444444444444,
              "#bd3786"
             ],
             [
              0.5555555555555556,
              "#d8576b"
             ],
             [
              0.6666666666666666,
              "#ed7953"
             ],
             [
              0.7777777777777778,
              "#fb9f3a"
             ],
             [
              0.8888888888888888,
              "#fdca26"
             ],
             [
              1,
              "#f0f921"
             ]
            ],
            "type": "contour"
           }
          ],
          "contourcarpet": [
           {
            "colorbar": {
             "outlinewidth": 0,
             "ticks": ""
            },
            "type": "contourcarpet"
           }
          ],
          "heatmap": [
           {
            "colorbar": {
             "outlinewidth": 0,
             "ticks": ""
            },
            "colorscale": [
             [
              0,
              "#0d0887"
             ],
             [
              0.1111111111111111,
              "#46039f"
             ],
             [
              0.2222222222222222,
              "#7201a8"
             ],
             [
              0.3333333333333333,
              "#9c179e"
             ],
             [
              0.4444444444444444,
              "#bd3786"
             ],
             [
              0.5555555555555556,
              "#d8576b"
             ],
             [
              0.6666666666666666,
              "#ed7953"
             ],
             [
              0.7777777777777778,
              "#fb9f3a"
             ],
             [
              0.8888888888888888,
              "#fdca26"
             ],
             [
              1,
              "#f0f921"
             ]
            ],
            "type": "heatmap"
           }
          ],
          "heatmapgl": [
           {
            "colorbar": {
             "outlinewidth": 0,
             "ticks": ""
            },
            "colorscale": [
             [
              0,
              "#0d0887"
             ],
             [
              0.1111111111111111,
              "#46039f"
             ],
             [
              0.2222222222222222,
              "#7201a8"
             ],
             [
              0.3333333333333333,
              "#9c179e"
             ],
             [
              0.4444444444444444,
              "#bd3786"
             ],
             [
              0.5555555555555556,
              "#d8576b"
             ],
             [
              0.6666666666666666,
              "#ed7953"
             ],
             [
              0.7777777777777778,
              "#fb9f3a"
             ],
             [
              0.8888888888888888,
              "#fdca26"
             ],
             [
              1,
              "#f0f921"
             ]
            ],
            "type": "heatmapgl"
           }
          ],
          "histogram": [
           {
            "marker": {
             "colorbar": {
              "outlinewidth": 0,
              "ticks": ""
             }
            },
            "type": "histogram"
           }
          ],
          "histogram2d": [
           {
            "colorbar": {
             "outlinewidth": 0,
             "ticks": ""
            },
            "colorscale": [
             [
              0,
              "#0d0887"
             ],
             [
              0.1111111111111111,
              "#46039f"
             ],
             [
              0.2222222222222222,
              "#7201a8"
             ],
             [
              0.3333333333333333,
              "#9c179e"
             ],
             [
              0.4444444444444444,
              "#bd3786"
             ],
             [
              0.5555555555555556,
              "#d8576b"
             ],
             [
              0.6666666666666666,
              "#ed7953"
             ],
             [
              0.7777777777777778,
              "#fb9f3a"
             ],
             [
              0.8888888888888888,
              "#fdca26"
             ],
             [
              1,
              "#f0f921"
             ]
            ],
            "type": "histogram2d"
           }
          ],
          "histogram2dcontour": [
           {
            "colorbar": {
             "outlinewidth": 0,
             "ticks": ""
            },
            "colorscale": [
             [
              0,
              "#0d0887"
             ],
             [
              0.1111111111111111,
              "#46039f"
             ],
             [
              0.2222222222222222,
              "#7201a8"
             ],
             [
              0.3333333333333333,
              "#9c179e"
             ],
             [
              0.4444444444444444,
              "#bd3786"
             ],
             [
              0.5555555555555556,
              "#d8576b"
             ],
             [
              0.6666666666666666,
              "#ed7953"
             ],
             [
              0.7777777777777778,
              "#fb9f3a"
             ],
             [
              0.8888888888888888,
              "#fdca26"
             ],
             [
              1,
              "#f0f921"
             ]
            ],
            "type": "histogram2dcontour"
           }
          ],
          "mesh3d": [
           {
            "colorbar": {
             "outlinewidth": 0,
             "ticks": ""
            },
            "type": "mesh3d"
           }
          ],
          "parcoords": [
           {
            "line": {
             "colorbar": {
              "outlinewidth": 0,
              "ticks": ""
             }
            },
            "type": "parcoords"
           }
          ],
          "pie": [
           {
            "automargin": true,
            "type": "pie"
           }
          ],
          "scatter": [
           {
            "marker": {
             "colorbar": {
              "outlinewidth": 0,
              "ticks": ""
             }
            },
            "type": "scatter"
           }
          ],
          "scatter3d": [
           {
            "line": {
             "colorbar": {
              "outlinewidth": 0,
              "ticks": ""
             }
            },
            "marker": {
             "colorbar": {
              "outlinewidth": 0,
              "ticks": ""
             }
            },
            "type": "scatter3d"
           }
          ],
          "scattercarpet": [
           {
            "marker": {
             "colorbar": {
              "outlinewidth": 0,
              "ticks": ""
             }
            },
            "type": "scattercarpet"
           }
          ],
          "scattergeo": [
           {
            "marker": {
             "colorbar": {
              "outlinewidth": 0,
              "ticks": ""
             }
            },
            "type": "scattergeo"
           }
          ],
          "scattergl": [
           {
            "marker": {
             "colorbar": {
              "outlinewidth": 0,
              "ticks": ""
             }
            },
            "type": "scattergl"
           }
          ],
          "scattermapbox": [
           {
            "marker": {
             "colorbar": {
              "outlinewidth": 0,
              "ticks": ""
             }
            },
            "type": "scattermapbox"
           }
          ],
          "scatterpolar": [
           {
            "marker": {
             "colorbar": {
              "outlinewidth": 0,
              "ticks": ""
             }
            },
            "type": "scatterpolar"
           }
          ],
          "scatterpolargl": [
           {
            "marker": {
             "colorbar": {
              "outlinewidth": 0,
              "ticks": ""
             }
            },
            "type": "scatterpolargl"
           }
          ],
          "scatterternary": [
           {
            "marker": {
             "colorbar": {
              "outlinewidth": 0,
              "ticks": ""
             }
            },
            "type": "scatterternary"
           }
          ],
          "surface": [
           {
            "colorbar": {
             "outlinewidth": 0,
             "ticks": ""
            },
            "colorscale": [
             [
              0,
              "#0d0887"
             ],
             [
              0.1111111111111111,
              "#46039f"
             ],
             [
              0.2222222222222222,
              "#7201a8"
             ],
             [
              0.3333333333333333,
              "#9c179e"
             ],
             [
              0.4444444444444444,
              "#bd3786"
             ],
             [
              0.5555555555555556,
              "#d8576b"
             ],
             [
              0.6666666666666666,
              "#ed7953"
             ],
             [
              0.7777777777777778,
              "#fb9f3a"
             ],
             [
              0.8888888888888888,
              "#fdca26"
             ],
             [
              1,
              "#f0f921"
             ]
            ],
            "type": "surface"
           }
          ],
          "table": [
           {
            "cells": {
             "fill": {
              "color": "#EBF0F8"
             },
             "line": {
              "color": "white"
             }
            },
            "header": {
             "fill": {
              "color": "#C8D4E3"
             },
             "line": {
              "color": "white"
             }
            },
            "type": "table"
           }
          ]
         },
         "layout": {
          "annotationdefaults": {
           "arrowcolor": "#2a3f5f",
           "arrowhead": 0,
           "arrowwidth": 1
          },
          "autotypenumbers": "strict",
          "coloraxis": {
           "colorbar": {
            "outlinewidth": 0,
            "ticks": ""
           }
          },
          "colorscale": {
           "diverging": [
            [
             0,
             "#8e0152"
            ],
            [
             0.1,
             "#c51b7d"
            ],
            [
             0.2,
             "#de77ae"
            ],
            [
             0.3,
             "#f1b6da"
            ],
            [
             0.4,
             "#fde0ef"
            ],
            [
             0.5,
             "#f7f7f7"
            ],
            [
             0.6,
             "#e6f5d0"
            ],
            [
             0.7,
             "#b8e186"
            ],
            [
             0.8,
             "#7fbc41"
            ],
            [
             0.9,
             "#4d9221"
            ],
            [
             1,
             "#276419"
            ]
           ],
           "sequential": [
            [
             0,
             "#0d0887"
            ],
            [
             0.1111111111111111,
             "#46039f"
            ],
            [
             0.2222222222222222,
             "#7201a8"
            ],
            [
             0.3333333333333333,
             "#9c179e"
            ],
            [
             0.4444444444444444,
             "#bd3786"
            ],
            [
             0.5555555555555556,
             "#d8576b"
            ],
            [
             0.6666666666666666,
             "#ed7953"
            ],
            [
             0.7777777777777778,
             "#fb9f3a"
            ],
            [
             0.8888888888888888,
             "#fdca26"
            ],
            [
             1,
             "#f0f921"
            ]
           ],
           "sequentialminus": [
            [
             0,
             "#0d0887"
            ],
            [
             0.1111111111111111,
             "#46039f"
            ],
            [
             0.2222222222222222,
             "#7201a8"
            ],
            [
             0.3333333333333333,
             "#9c179e"
            ],
            [
             0.4444444444444444,
             "#bd3786"
            ],
            [
             0.5555555555555556,
             "#d8576b"
            ],
            [
             0.6666666666666666,
             "#ed7953"
            ],
            [
             0.7777777777777778,
             "#fb9f3a"
            ],
            [
             0.8888888888888888,
             "#fdca26"
            ],
            [
             1,
             "#f0f921"
            ]
           ]
          },
          "colorway": [
           "#636efa",
           "#EF553B",
           "#00cc96",
           "#ab63fa",
           "#FFA15A",
           "#19d3f3",
           "#FF6692",
           "#B6E880",
           "#FF97FF",
           "#FECB52"
          ],
          "font": {
           "color": "#2a3f5f"
          },
          "geo": {
           "bgcolor": "white",
           "lakecolor": "white",
           "landcolor": "#E5ECF6",
           "showlakes": true,
           "showland": true,
           "subunitcolor": "white"
          },
          "hoverlabel": {
           "align": "left"
          },
          "hovermode": "closest",
          "mapbox": {
           "style": "light"
          },
          "paper_bgcolor": "white",
          "plot_bgcolor": "#E5ECF6",
          "polar": {
           "angularaxis": {
            "gridcolor": "white",
            "linecolor": "white",
            "ticks": ""
           },
           "bgcolor": "#E5ECF6",
           "radialaxis": {
            "gridcolor": "white",
            "linecolor": "white",
            "ticks": ""
           }
          },
          "scene": {
           "xaxis": {
            "backgroundcolor": "#E5ECF6",
            "gridcolor": "white",
            "gridwidth": 2,
            "linecolor": "white",
            "showbackground": true,
            "ticks": "",
            "zerolinecolor": "white"
           },
           "yaxis": {
            "backgroundcolor": "#E5ECF6",
            "gridcolor": "white",
            "gridwidth": 2,
            "linecolor": "white",
            "showbackground": true,
            "ticks": "",
            "zerolinecolor": "white"
           },
           "zaxis": {
            "backgroundcolor": "#E5ECF6",
            "gridcolor": "white",
            "gridwidth": 2,
            "linecolor": "white",
            "showbackground": true,
            "ticks": "",
            "zerolinecolor": "white"
           }
          },
          "shapedefaults": {
           "line": {
            "color": "#2a3f5f"
           }
          },
          "ternary": {
           "aaxis": {
            "gridcolor": "white",
            "linecolor": "white",
            "ticks": ""
           },
           "baxis": {
            "gridcolor": "white",
            "linecolor": "white",
            "ticks": ""
           },
           "bgcolor": "#E5ECF6",
           "caxis": {
            "gridcolor": "white",
            "linecolor": "white",
            "ticks": ""
           }
          },
          "title": {
           "x": 0.05
          },
          "xaxis": {
           "automargin": true,
           "gridcolor": "white",
           "linecolor": "white",
           "ticks": "",
           "title": {
            "standoff": 15
           },
           "zerolinecolor": "white",
           "zerolinewidth": 2
          },
          "yaxis": {
           "automargin": true,
           "gridcolor": "white",
           "linecolor": "white",
           "ticks": "",
           "title": {
            "standoff": 15
           },
           "zerolinecolor": "white",
           "zerolinewidth": 2
          }
         }
        },
        "title": {
         "text": "Asset Restriction"
        },
        "xaxis": {
         "anchor": "y",
         "categoryarray": [
          "Staff record shot",
          "VAE (full restriction)",
          "VAE",
          "Internal Dept only",
          "None",
          "Low quality image",
          "Loan in",
          "Other",
          "VAE (some uses)",
          "VAE (embargo)",
          "Reference only "
         ],
         "categoryorder": "array",
         "domain": [
          0,
          1
         ],
         "title": {
          "text": "Asset Restriction"
         }
        },
        "yaxis": {
         "anchor": "x",
         "domain": [
          0,
          1
         ],
         "title": {
          "text": "count"
         }
        }
       }
      },
      "text/html": [
       "<div>                            <div id=\"1ff987ca-9fd3-4555-9bbc-434bf2cb2d30\" class=\"plotly-graph-div\" style=\"height:525px; width:100%;\"></div>            <script type=\"text/javascript\">                require([\"plotly\"], function(Plotly) {                    window.PLOTLYENV=window.PLOTLYENV || {};                                    if (document.getElementById(\"1ff987ca-9fd3-4555-9bbc-434bf2cb2d30\")) {                    Plotly.newPlot(                        \"1ff987ca-9fd3-4555-9bbc-434bf2cb2d30\",                        [{\"alignmentgroup\": \"True\", \"hovertemplate\": \"Asset Restriction=%{x}<br>count=%{text}<extra></extra>\", \"legendgroup\": \"Staff record shot\", \"marker\": {\"color\": \"#636efa\"}, \"name\": \"Staff record shot\", \"offsetgroup\": \"Staff record shot\", \"orientation\": \"v\", \"showlegend\": true, \"text\": [145648.0], \"textposition\": \"auto\", \"type\": \"bar\", \"x\": [\"Staff record shot\"], \"xaxis\": \"x\", \"y\": [145648], \"yaxis\": \"y\"}, {\"alignmentgroup\": \"True\", \"hovertemplate\": \"Asset Restriction=%{x}<br>count=%{text}<extra></extra>\", \"legendgroup\": \"VAE (full restriction)\", \"marker\": {\"color\": \"#EF553B\"}, \"name\": \"VAE (full restriction)\", \"offsetgroup\": \"VAE (full restriction)\", \"orientation\": \"v\", \"showlegend\": true, \"text\": [2877.0], \"textposition\": \"auto\", \"type\": \"bar\", \"x\": [\"VAE (full restriction)\"], \"xaxis\": \"x\", \"y\": [2877], \"yaxis\": \"y\"}, {\"alignmentgroup\": \"True\", \"hovertemplate\": \"Asset Restriction=%{x}<br>count=%{text}<extra></extra>\", \"legendgroup\": \"VAE\", \"marker\": {\"color\": \"#00cc96\"}, \"name\": \"VAE\", \"offsetgroup\": \"VAE\", \"orientation\": \"v\", \"showlegend\": true, \"text\": [2150.0], \"textposition\": \"auto\", \"type\": \"bar\", \"x\": [\"VAE\"], \"xaxis\": \"x\", \"y\": [2150], \"yaxis\": \"y\"}, {\"alignmentgroup\": \"True\", \"hovertemplate\": \"Asset Restriction=%{x}<br>count=%{text}<extra></extra>\", \"legendgroup\": \"Internal Dept only\", \"marker\": {\"color\": \"#ab63fa\"}, \"name\": \"Internal Dept only\", \"offsetgroup\": \"Internal Dept only\", \"orientation\": \"v\", \"showlegend\": true, \"text\": [2061.0], \"textposition\": \"auto\", \"type\": \"bar\", \"x\": [\"Internal Dept only\"], \"xaxis\": \"x\", \"y\": [2061], \"yaxis\": \"y\"}, {\"alignmentgroup\": \"True\", \"hovertemplate\": \"Asset Restriction=%{x}<br>count=%{text}<extra></extra>\", \"legendgroup\": \"None\", \"marker\": {\"color\": \"#FFA15A\"}, \"name\": \"None\", \"offsetgroup\": \"None\", \"orientation\": \"v\", \"showlegend\": true, \"text\": [578.0, 130.0, 126.0, 84.0, 65.0, 10.0, 7.0, 6.0, 4.0, 2.0, 2.0, 1.0], \"textposition\": \"auto\", \"type\": \"bar\", \"x\": [\"None\", \"None\", \"None\", \"None\", \"None\", \"None\", \"None\", \"None\", \"None\", \"None\", \"None\", \"None\"], \"xaxis\": \"x\", \"y\": [578, 130, 126, 84, 65, 10, 7, 6, 4, 2, 2, 1], \"yaxis\": \"y\"}, {\"alignmentgroup\": \"True\", \"hovertemplate\": \"Asset Restriction=%{x}<br>count=%{text}<extra></extra>\", \"legendgroup\": \"Low quality image\", \"marker\": {\"color\": \"#19d3f3\"}, \"name\": \"Low quality image\", \"offsetgroup\": \"Low quality image\", \"orientation\": \"v\", \"showlegend\": true, \"text\": [199.0], \"textposition\": \"auto\", \"type\": \"bar\", \"x\": [\"Low quality image\"], \"xaxis\": \"x\", \"y\": [199], \"yaxis\": \"y\"}, {\"alignmentgroup\": \"True\", \"hovertemplate\": \"Asset Restriction=%{x}<br>count=%{text}<extra></extra>\", \"legendgroup\": \"Loan in\", \"marker\": {\"color\": \"#FF6692\"}, \"name\": \"Loan in\", \"offsetgroup\": \"Loan in\", \"orientation\": \"v\", \"showlegend\": true, \"text\": [103.0], \"textposition\": \"auto\", \"type\": \"bar\", \"x\": [\"Loan in\"], \"xaxis\": \"x\", \"y\": [103], \"yaxis\": \"y\"}, {\"alignmentgroup\": \"True\", \"hovertemplate\": \"Asset Restriction=%{x}<br>count=%{text}<extra></extra>\", \"legendgroup\": \"Other\", \"marker\": {\"color\": \"#B6E880\"}, \"name\": \"Other\", \"offsetgroup\": \"Other\", \"orientation\": \"v\", \"showlegend\": true, \"text\": [98.0], \"textposition\": \"auto\", \"type\": \"bar\", \"x\": [\"Other\"], \"xaxis\": \"x\", \"y\": [98], \"yaxis\": \"y\"}, {\"alignmentgroup\": \"True\", \"hovertemplate\": \"Asset Restriction=%{x}<br>count=%{text}<extra></extra>\", \"legendgroup\": \"VAE (some uses)\", \"marker\": {\"color\": \"#FF97FF\"}, \"name\": \"VAE (some uses)\", \"offsetgroup\": \"VAE (some uses)\", \"orientation\": \"v\", \"showlegend\": true, \"text\": [28.0], \"textposition\": \"auto\", \"type\": \"bar\", \"x\": [\"VAE (some uses)\"], \"xaxis\": \"x\", \"y\": [28], \"yaxis\": \"y\"}, {\"alignmentgroup\": \"True\", \"hovertemplate\": \"Asset Restriction=%{x}<br>count=%{text}<extra></extra>\", \"legendgroup\": \"VAE (embargo)\", \"marker\": {\"color\": \"#FECB52\"}, \"name\": \"VAE (embargo)\", \"offsetgroup\": \"VAE (embargo)\", \"orientation\": \"v\", \"showlegend\": true, \"text\": [27.0], \"textposition\": \"auto\", \"type\": \"bar\", \"x\": [\"VAE (embargo)\"], \"xaxis\": \"x\", \"y\": [27], \"yaxis\": \"y\"}, {\"alignmentgroup\": \"True\", \"hovertemplate\": \"Asset Restriction=%{x}<br>count=%{text}<extra></extra>\", \"legendgroup\": \"Reference only \", \"marker\": {\"color\": \"#636efa\"}, \"name\": \"Reference only \", \"offsetgroup\": \"Reference only \", \"orientation\": \"v\", \"showlegend\": true, \"text\": [10.0], \"textposition\": \"auto\", \"type\": \"bar\", \"x\": [\"Reference only \"], \"xaxis\": \"x\", \"y\": [10], \"yaxis\": \"y\"}],                        {\"barmode\": \"relative\", \"legend\": {\"title\": {\"text\": \"Asset Restriction\"}, \"tracegroupgap\": 0}, \"template\": {\"data\": {\"bar\": [{\"error_x\": {\"color\": \"#2a3f5f\"}, \"error_y\": {\"color\": \"#2a3f5f\"}, \"marker\": {\"line\": {\"color\": \"#E5ECF6\", \"width\": 0.5}}, \"type\": \"bar\"}], \"barpolar\": [{\"marker\": {\"line\": {\"color\": \"#E5ECF6\", \"width\": 0.5}}, \"type\": \"barpolar\"}], \"carpet\": [{\"aaxis\": {\"endlinecolor\": \"#2a3f5f\", \"gridcolor\": \"white\", \"linecolor\": \"white\", \"minorgridcolor\": \"white\", \"startlinecolor\": \"#2a3f5f\"}, \"baxis\": {\"endlinecolor\": \"#2a3f5f\", \"gridcolor\": \"white\", \"linecolor\": \"white\", \"minorgridcolor\": \"white\", \"startlinecolor\": \"#2a3f5f\"}, \"type\": \"carpet\"}], \"choropleth\": [{\"colorbar\": {\"outlinewidth\": 0, \"ticks\": \"\"}, \"type\": \"choropleth\"}], \"contour\": [{\"colorbar\": {\"outlinewidth\": 0, \"ticks\": \"\"}, \"colorscale\": [[0.0, \"#0d0887\"], [0.1111111111111111, \"#46039f\"], [0.2222222222222222, \"#7201a8\"], [0.3333333333333333, \"#9c179e\"], [0.4444444444444444, \"#bd3786\"], [0.5555555555555556, \"#d8576b\"], [0.6666666666666666, \"#ed7953\"], [0.7777777777777778, \"#fb9f3a\"], [0.8888888888888888, \"#fdca26\"], [1.0, \"#f0f921\"]], \"type\": \"contour\"}], \"contourcarpet\": [{\"colorbar\": {\"outlinewidth\": 0, \"ticks\": \"\"}, \"type\": \"contourcarpet\"}], \"heatmap\": [{\"colorbar\": {\"outlinewidth\": 0, \"ticks\": \"\"}, \"colorscale\": [[0.0, \"#0d0887\"], [0.1111111111111111, \"#46039f\"], [0.2222222222222222, \"#7201a8\"], [0.3333333333333333, \"#9c179e\"], [0.4444444444444444, \"#bd3786\"], [0.5555555555555556, \"#d8576b\"], [0.6666666666666666, \"#ed7953\"], [0.7777777777777778, \"#fb9f3a\"], [0.8888888888888888, \"#fdca26\"], [1.0, \"#f0f921\"]], \"type\": \"heatmap\"}], \"heatmapgl\": [{\"colorbar\": {\"outlinewidth\": 0, \"ticks\": \"\"}, \"colorscale\": [[0.0, \"#0d0887\"], [0.1111111111111111, \"#46039f\"], [0.2222222222222222, \"#7201a8\"], [0.3333333333333333, \"#9c179e\"], [0.4444444444444444, \"#bd3786\"], [0.5555555555555556, \"#d8576b\"], [0.6666666666666666, \"#ed7953\"], [0.7777777777777778, \"#fb9f3a\"], [0.8888888888888888, \"#fdca26\"], [1.0, \"#f0f921\"]], \"type\": \"heatmapgl\"}], \"histogram\": [{\"marker\": {\"colorbar\": {\"outlinewidth\": 0, \"ticks\": \"\"}}, \"type\": \"histogram\"}], \"histogram2d\": [{\"colorbar\": {\"outlinewidth\": 0, \"ticks\": \"\"}, \"colorscale\": [[0.0, \"#0d0887\"], [0.1111111111111111, \"#46039f\"], [0.2222222222222222, \"#7201a8\"], [0.3333333333333333, \"#9c179e\"], [0.4444444444444444, \"#bd3786\"], [0.5555555555555556, \"#d8576b\"], [0.6666666666666666, \"#ed7953\"], [0.7777777777777778, \"#fb9f3a\"], [0.8888888888888888, \"#fdca26\"], [1.0, \"#f0f921\"]], \"type\": \"histogram2d\"}], \"histogram2dcontour\": [{\"colorbar\": {\"outlinewidth\": 0, \"ticks\": \"\"}, \"colorscale\": [[0.0, \"#0d0887\"], [0.1111111111111111, \"#46039f\"], [0.2222222222222222, \"#7201a8\"], [0.3333333333333333, \"#9c179e\"], [0.4444444444444444, \"#bd3786\"], [0.5555555555555556, \"#d8576b\"], [0.6666666666666666, \"#ed7953\"], [0.7777777777777778, \"#fb9f3a\"], [0.8888888888888888, \"#fdca26\"], [1.0, \"#f0f921\"]], \"type\": \"histogram2dcontour\"}], \"mesh3d\": [{\"colorbar\": {\"outlinewidth\": 0, \"ticks\": \"\"}, \"type\": \"mesh3d\"}], \"parcoords\": [{\"line\": {\"colorbar\": {\"outlinewidth\": 0, \"ticks\": \"\"}}, \"type\": \"parcoords\"}], \"pie\": [{\"automargin\": true, \"type\": \"pie\"}], \"scatter\": [{\"marker\": {\"colorbar\": {\"outlinewidth\": 0, \"ticks\": \"\"}}, \"type\": \"scatter\"}], \"scatter3d\": [{\"line\": {\"colorbar\": {\"outlinewidth\": 0, \"ticks\": \"\"}}, \"marker\": {\"colorbar\": {\"outlinewidth\": 0, \"ticks\": \"\"}}, \"type\": \"scatter3d\"}], \"scattercarpet\": [{\"marker\": {\"colorbar\": {\"outlinewidth\": 0, \"ticks\": \"\"}}, \"type\": \"scattercarpet\"}], \"scattergeo\": [{\"marker\": {\"colorbar\": {\"outlinewidth\": 0, \"ticks\": \"\"}}, \"type\": \"scattergeo\"}], \"scattergl\": [{\"marker\": {\"colorbar\": {\"outlinewidth\": 0, \"ticks\": \"\"}}, \"type\": \"scattergl\"}], \"scattermapbox\": [{\"marker\": {\"colorbar\": {\"outlinewidth\": 0, \"ticks\": \"\"}}, \"type\": \"scattermapbox\"}], \"scatterpolar\": [{\"marker\": {\"colorbar\": {\"outlinewidth\": 0, \"ticks\": \"\"}}, \"type\": \"scatterpolar\"}], \"scatterpolargl\": [{\"marker\": {\"colorbar\": {\"outlinewidth\": 0, \"ticks\": \"\"}}, \"type\": \"scatterpolargl\"}], \"scatterternary\": [{\"marker\": {\"colorbar\": {\"outlinewidth\": 0, \"ticks\": \"\"}}, \"type\": \"scatterternary\"}], \"surface\": [{\"colorbar\": {\"outlinewidth\": 0, \"ticks\": \"\"}, \"colorscale\": [[0.0, \"#0d0887\"], [0.1111111111111111, \"#46039f\"], [0.2222222222222222, \"#7201a8\"], [0.3333333333333333, \"#9c179e\"], [0.4444444444444444, \"#bd3786\"], [0.5555555555555556, \"#d8576b\"], [0.6666666666666666, \"#ed7953\"], [0.7777777777777778, \"#fb9f3a\"], [0.8888888888888888, \"#fdca26\"], [1.0, \"#f0f921\"]], \"type\": \"surface\"}], \"table\": [{\"cells\": {\"fill\": {\"color\": \"#EBF0F8\"}, \"line\": {\"color\": \"white\"}}, \"header\": {\"fill\": {\"color\": \"#C8D4E3\"}, \"line\": {\"color\": \"white\"}}, \"type\": \"table\"}]}, \"layout\": {\"annotationdefaults\": {\"arrowcolor\": \"#2a3f5f\", \"arrowhead\": 0, \"arrowwidth\": 1}, \"autotypenumbers\": \"strict\", \"coloraxis\": {\"colorbar\": {\"outlinewidth\": 0, \"ticks\": \"\"}}, \"colorscale\": {\"diverging\": [[0, \"#8e0152\"], [0.1, \"#c51b7d\"], [0.2, \"#de77ae\"], [0.3, \"#f1b6da\"], [0.4, \"#fde0ef\"], [0.5, \"#f7f7f7\"], [0.6, \"#e6f5d0\"], [0.7, \"#b8e186\"], [0.8, \"#7fbc41\"], [0.9, \"#4d9221\"], [1, \"#276419\"]], \"sequential\": [[0.0, \"#0d0887\"], [0.1111111111111111, \"#46039f\"], [0.2222222222222222, \"#7201a8\"], [0.3333333333333333, \"#9c179e\"], [0.4444444444444444, \"#bd3786\"], [0.5555555555555556, \"#d8576b\"], [0.6666666666666666, \"#ed7953\"], [0.7777777777777778, \"#fb9f3a\"], [0.8888888888888888, \"#fdca26\"], [1.0, \"#f0f921\"]], \"sequentialminus\": [[0.0, \"#0d0887\"], [0.1111111111111111, \"#46039f\"], [0.2222222222222222, \"#7201a8\"], [0.3333333333333333, \"#9c179e\"], [0.4444444444444444, \"#bd3786\"], [0.5555555555555556, \"#d8576b\"], [0.6666666666666666, \"#ed7953\"], [0.7777777777777778, \"#fb9f3a\"], [0.8888888888888888, \"#fdca26\"], [1.0, \"#f0f921\"]]}, \"colorway\": [\"#636efa\", \"#EF553B\", \"#00cc96\", \"#ab63fa\", \"#FFA15A\", \"#19d3f3\", \"#FF6692\", \"#B6E880\", \"#FF97FF\", \"#FECB52\"], \"font\": {\"color\": \"#2a3f5f\"}, \"geo\": {\"bgcolor\": \"white\", \"lakecolor\": \"white\", \"landcolor\": \"#E5ECF6\", \"showlakes\": true, \"showland\": true, \"subunitcolor\": \"white\"}, \"hoverlabel\": {\"align\": \"left\"}, \"hovermode\": \"closest\", \"mapbox\": {\"style\": \"light\"}, \"paper_bgcolor\": \"white\", \"plot_bgcolor\": \"#E5ECF6\", \"polar\": {\"angularaxis\": {\"gridcolor\": \"white\", \"linecolor\": \"white\", \"ticks\": \"\"}, \"bgcolor\": \"#E5ECF6\", \"radialaxis\": {\"gridcolor\": \"white\", \"linecolor\": \"white\", \"ticks\": \"\"}}, \"scene\": {\"xaxis\": {\"backgroundcolor\": \"#E5ECF6\", \"gridcolor\": \"white\", \"gridwidth\": 2, \"linecolor\": \"white\", \"showbackground\": true, \"ticks\": \"\", \"zerolinecolor\": \"white\"}, \"yaxis\": {\"backgroundcolor\": \"#E5ECF6\", \"gridcolor\": \"white\", \"gridwidth\": 2, \"linecolor\": \"white\", \"showbackground\": true, \"ticks\": \"\", \"zerolinecolor\": \"white\"}, \"zaxis\": {\"backgroundcolor\": \"#E5ECF6\", \"gridcolor\": \"white\", \"gridwidth\": 2, \"linecolor\": \"white\", \"showbackground\": true, \"ticks\": \"\", \"zerolinecolor\": \"white\"}}, \"shapedefaults\": {\"line\": {\"color\": \"#2a3f5f\"}}, \"ternary\": {\"aaxis\": {\"gridcolor\": \"white\", \"linecolor\": \"white\", \"ticks\": \"\"}, \"baxis\": {\"gridcolor\": \"white\", \"linecolor\": \"white\", \"ticks\": \"\"}, \"bgcolor\": \"#E5ECF6\", \"caxis\": {\"gridcolor\": \"white\", \"linecolor\": \"white\", \"ticks\": \"\"}}, \"title\": {\"x\": 0.05}, \"xaxis\": {\"automargin\": true, \"gridcolor\": \"white\", \"linecolor\": \"white\", \"ticks\": \"\", \"title\": {\"standoff\": 15}, \"zerolinecolor\": \"white\", \"zerolinewidth\": 2}, \"yaxis\": {\"automargin\": true, \"gridcolor\": \"white\", \"linecolor\": \"white\", \"ticks\": \"\", \"title\": {\"standoff\": 15}, \"zerolinecolor\": \"white\", \"zerolinewidth\": 2}}}, \"title\": {\"text\": \"Asset Restriction\"}, \"xaxis\": {\"anchor\": \"y\", \"categoryarray\": [\"Staff record shot\", \"VAE (full restriction)\", \"VAE\", \"Internal Dept only\", \"None\", \"Low quality image\", \"Loan in\", \"Other\", \"VAE (some uses)\", \"VAE (embargo)\", \"Reference only \"], \"categoryorder\": \"array\", \"domain\": [0.0, 1.0], \"title\": {\"text\": \"Asset Restriction\"}}, \"yaxis\": {\"anchor\": \"x\", \"domain\": [0.0, 1.0], \"title\": {\"text\": \"count\"}}},                        {\"responsive\": true}                    ).then(function(){\n",
       "                            \n",
       "var gd = document.getElementById('1ff987ca-9fd3-4555-9bbc-434bf2cb2d30');\n",
       "var x = new MutationObserver(function (mutations, observer) {{\n",
       "        var display = window.getComputedStyle(gd).display;\n",
       "        if (!display || display === 'none') {{\n",
       "            console.log([gd, 'removed!']);\n",
       "            Plotly.purge(gd);\n",
       "            observer.disconnect();\n",
       "        }}\n",
       "}});\n",
       "\n",
       "// Listen for the removal of the full notebook cells\n",
       "var notebookContainer = gd.closest('#notebook-container');\n",
       "if (notebookContainer) {{\n",
       "    x.observe(notebookContainer, {childList: true});\n",
       "}}\n",
       "\n",
       "// Listen for the clearing of the current output cell\n",
       "var outputEl = gd.closest('.output');\n",
       "if (outputEl) {{\n",
       "    x.observe(outputEl, {childList: true});\n",
       "}}\n",
       "\n",
       "                        })                };                });            </script>        </div>"
      ]
     },
     "metadata": {},
     "output_type": "display_data"
    }
   ],
   "source": [
    "figs[3].show()"
   ]
  },
  {
   "cell_type": "code",
   "execution_count": 98,
   "id": "6e52e4e4",
   "metadata": {
    "tags": [
     "hide-input"
    ]
   },
   "outputs": [
    {
     "data": {
      "application/vnd.plotly.v1+json": {
       "config": {
        "plotlyServerURL": "https://plot.ly"
       },
       "data": [
        {
         "alignmentgroup": "True",
         "hovertemplate": "Status=%{x}<br>count=%{text}<extra></extra>",
         "legendgroup": "V&A Collection",
         "marker": {
          "color": "#636efa"
         },
         "name": "V&A Collection",
         "offsetgroup": "V&A Collection",
         "orientation": "v",
         "showlegend": true,
         "text": [
          230792
         ],
         "textposition": "auto",
         "type": "bar",
         "x": [
          "V&A Collection"
         ],
         "xaxis": "x",
         "y": [
          230792
         ],
         "yaxis": "y"
        },
        {
         "alignmentgroup": "True",
         "hovertemplate": "Status=%{x}<br>count=%{text}<extra></extra>",
         "legendgroup": "Digital Asset",
         "marker": {
          "color": "#EF553B"
         },
         "name": "Digital Asset",
         "offsetgroup": "Digital Asset",
         "orientation": "v",
         "showlegend": true,
         "text": [
          17827
         ],
         "textposition": "auto",
         "type": "bar",
         "x": [
          "Digital Asset"
         ],
         "xaxis": "x",
         "y": [
          17827
         ],
         "yaxis": "y"
        },
        {
         "alignmentgroup": "True",
         "hovertemplate": "Status=%{x}<br>count=%{text}<extra></extra>",
         "legendgroup": "National Art Library Collection",
         "marker": {
          "color": "#00cc96"
         },
         "name": "National Art Library Collection",
         "offsetgroup": "National Art Library Collection",
         "orientation": "v",
         "showlegend": true,
         "text": [
          13003
         ],
         "textposition": "auto",
         "type": "bar",
         "x": [
          "National Art Library Collection"
         ],
         "xaxis": "x",
         "y": [
          13003
         ],
         "yaxis": "y"
        },
        {
         "alignmentgroup": "True",
         "hovertemplate": "Status=%{x}<br>count=%{text}<extra></extra>",
         "legendgroup": "V&A Archive",
         "marker": {
          "color": "#ab63fa"
         },
         "name": "V&A Archive",
         "offsetgroup": "V&A Archive",
         "orientation": "v",
         "showlegend": true,
         "text": [
          8458
         ],
         "textposition": "auto",
         "type": "bar",
         "x": [
          "V&A Archive"
         ],
         "xaxis": "x",
         "y": [
          8458
         ],
         "yaxis": "y"
        },
        {
         "alignmentgroup": "True",
         "hovertemplate": "Status=%{x}<br>count=%{text}<extra></extra>",
         "legendgroup": "Non Collection",
         "marker": {
          "color": "#FFA15A"
         },
         "name": "Non Collection",
         "offsetgroup": "Non Collection",
         "orientation": "v",
         "showlegend": true,
         "text": [
          969
         ],
         "textposition": "auto",
         "type": "bar",
         "x": [
          "Non Collection"
         ],
         "xaxis": "x",
         "y": [
          969
         ],
         "yaxis": "y"
        },
        {
         "alignmentgroup": "True",
         "hovertemplate": "Status=%{x}<br>count=%{text}<extra></extra>",
         "legendgroup": "Loan In",
         "marker": {
          "color": "#19d3f3"
         },
         "name": "Loan In",
         "offsetgroup": "Loan In",
         "orientation": "v",
         "showlegend": true,
         "text": [
          665
         ],
         "textposition": "auto",
         "type": "bar",
         "x": [
          "Loan In"
         ],
         "xaxis": "x",
         "y": [
          665
         ],
         "yaxis": "y"
        },
        {
         "alignmentgroup": "True",
         "hovertemplate": "Status=%{x}<br>count=%{text}<extra></extra>",
         "legendgroup": "None",
         "marker": {
          "color": "#FF6692"
         },
         "name": "None",
         "offsetgroup": "None",
         "orientation": "v",
         "showlegend": true,
         "text": [
          9
         ],
         "textposition": "auto",
         "type": "bar",
         "x": [
          "None"
         ],
         "xaxis": "x",
         "y": [
          9
         ],
         "yaxis": "y"
        },
        {
         "alignmentgroup": "True",
         "hovertemplate": "Status=%{x}<br>count=%{text}<extra></extra>",
         "legendgroup": "Image",
         "marker": {
          "color": "#B6E880"
         },
         "name": "Image",
         "offsetgroup": "Image",
         "orientation": "v",
         "showlegend": true,
         "text": [
          2
         ],
         "textposition": "auto",
         "type": "bar",
         "x": [
          "Image"
         ],
         "xaxis": "x",
         "y": [
          2
         ],
         "yaxis": "y"
        }
       ],
       "layout": {
        "barmode": "relative",
        "legend": {
         "title": {
          "text": "Status"
         },
         "tracegroupgap": 0
        },
        "template": {
         "data": {
          "bar": [
           {
            "error_x": {
             "color": "#2a3f5f"
            },
            "error_y": {
             "color": "#2a3f5f"
            },
            "marker": {
             "line": {
              "color": "#E5ECF6",
              "width": 0.5
             }
            },
            "type": "bar"
           }
          ],
          "barpolar": [
           {
            "marker": {
             "line": {
              "color": "#E5ECF6",
              "width": 0.5
             }
            },
            "type": "barpolar"
           }
          ],
          "carpet": [
           {
            "aaxis": {
             "endlinecolor": "#2a3f5f",
             "gridcolor": "white",
             "linecolor": "white",
             "minorgridcolor": "white",
             "startlinecolor": "#2a3f5f"
            },
            "baxis": {
             "endlinecolor": "#2a3f5f",
             "gridcolor": "white",
             "linecolor": "white",
             "minorgridcolor": "white",
             "startlinecolor": "#2a3f5f"
            },
            "type": "carpet"
           }
          ],
          "choropleth": [
           {
            "colorbar": {
             "outlinewidth": 0,
             "ticks": ""
            },
            "type": "choropleth"
           }
          ],
          "contour": [
           {
            "colorbar": {
             "outlinewidth": 0,
             "ticks": ""
            },
            "colorscale": [
             [
              0,
              "#0d0887"
             ],
             [
              0.1111111111111111,
              "#46039f"
             ],
             [
              0.2222222222222222,
              "#7201a8"
             ],
             [
              0.3333333333333333,
              "#9c179e"
             ],
             [
              0.4444444444444444,
              "#bd3786"
             ],
             [
              0.5555555555555556,
              "#d8576b"
             ],
             [
              0.6666666666666666,
              "#ed7953"
             ],
             [
              0.7777777777777778,
              "#fb9f3a"
             ],
             [
              0.8888888888888888,
              "#fdca26"
             ],
             [
              1,
              "#f0f921"
             ]
            ],
            "type": "contour"
           }
          ],
          "contourcarpet": [
           {
            "colorbar": {
             "outlinewidth": 0,
             "ticks": ""
            },
            "type": "contourcarpet"
           }
          ],
          "heatmap": [
           {
            "colorbar": {
             "outlinewidth": 0,
             "ticks": ""
            },
            "colorscale": [
             [
              0,
              "#0d0887"
             ],
             [
              0.1111111111111111,
              "#46039f"
             ],
             [
              0.2222222222222222,
              "#7201a8"
             ],
             [
              0.3333333333333333,
              "#9c179e"
             ],
             [
              0.4444444444444444,
              "#bd3786"
             ],
             [
              0.5555555555555556,
              "#d8576b"
             ],
             [
              0.6666666666666666,
              "#ed7953"
             ],
             [
              0.7777777777777778,
              "#fb9f3a"
             ],
             [
              0.8888888888888888,
              "#fdca26"
             ],
             [
              1,
              "#f0f921"
             ]
            ],
            "type": "heatmap"
           }
          ],
          "heatmapgl": [
           {
            "colorbar": {
             "outlinewidth": 0,
             "ticks": ""
            },
            "colorscale": [
             [
              0,
              "#0d0887"
             ],
             [
              0.1111111111111111,
              "#46039f"
             ],
             [
              0.2222222222222222,
              "#7201a8"
             ],
             [
              0.3333333333333333,
              "#9c179e"
             ],
             [
              0.4444444444444444,
              "#bd3786"
             ],
             [
              0.5555555555555556,
              "#d8576b"
             ],
             [
              0.6666666666666666,
              "#ed7953"
             ],
             [
              0.7777777777777778,
              "#fb9f3a"
             ],
             [
              0.8888888888888888,
              "#fdca26"
             ],
             [
              1,
              "#f0f921"
             ]
            ],
            "type": "heatmapgl"
           }
          ],
          "histogram": [
           {
            "marker": {
             "colorbar": {
              "outlinewidth": 0,
              "ticks": ""
             }
            },
            "type": "histogram"
           }
          ],
          "histogram2d": [
           {
            "colorbar": {
             "outlinewidth": 0,
             "ticks": ""
            },
            "colorscale": [
             [
              0,
              "#0d0887"
             ],
             [
              0.1111111111111111,
              "#46039f"
             ],
             [
              0.2222222222222222,
              "#7201a8"
             ],
             [
              0.3333333333333333,
              "#9c179e"
             ],
             [
              0.4444444444444444,
              "#bd3786"
             ],
             [
              0.5555555555555556,
              "#d8576b"
             ],
             [
              0.6666666666666666,
              "#ed7953"
             ],
             [
              0.7777777777777778,
              "#fb9f3a"
             ],
             [
              0.8888888888888888,
              "#fdca26"
             ],
             [
              1,
              "#f0f921"
             ]
            ],
            "type": "histogram2d"
           }
          ],
          "histogram2dcontour": [
           {
            "colorbar": {
             "outlinewidth": 0,
             "ticks": ""
            },
            "colorscale": [
             [
              0,
              "#0d0887"
             ],
             [
              0.1111111111111111,
              "#46039f"
             ],
             [
              0.2222222222222222,
              "#7201a8"
             ],
             [
              0.3333333333333333,
              "#9c179e"
             ],
             [
              0.4444444444444444,
              "#bd3786"
             ],
             [
              0.5555555555555556,
              "#d8576b"
             ],
             [
              0.6666666666666666,
              "#ed7953"
             ],
             [
              0.7777777777777778,
              "#fb9f3a"
             ],
             [
              0.8888888888888888,
              "#fdca26"
             ],
             [
              1,
              "#f0f921"
             ]
            ],
            "type": "histogram2dcontour"
           }
          ],
          "mesh3d": [
           {
            "colorbar": {
             "outlinewidth": 0,
             "ticks": ""
            },
            "type": "mesh3d"
           }
          ],
          "parcoords": [
           {
            "line": {
             "colorbar": {
              "outlinewidth": 0,
              "ticks": ""
             }
            },
            "type": "parcoords"
           }
          ],
          "pie": [
           {
            "automargin": true,
            "type": "pie"
           }
          ],
          "scatter": [
           {
            "marker": {
             "colorbar": {
              "outlinewidth": 0,
              "ticks": ""
             }
            },
            "type": "scatter"
           }
          ],
          "scatter3d": [
           {
            "line": {
             "colorbar": {
              "outlinewidth": 0,
              "ticks": ""
             }
            },
            "marker": {
             "colorbar": {
              "outlinewidth": 0,
              "ticks": ""
             }
            },
            "type": "scatter3d"
           }
          ],
          "scattercarpet": [
           {
            "marker": {
             "colorbar": {
              "outlinewidth": 0,
              "ticks": ""
             }
            },
            "type": "scattercarpet"
           }
          ],
          "scattergeo": [
           {
            "marker": {
             "colorbar": {
              "outlinewidth": 0,
              "ticks": ""
             }
            },
            "type": "scattergeo"
           }
          ],
          "scattergl": [
           {
            "marker": {
             "colorbar": {
              "outlinewidth": 0,
              "ticks": ""
             }
            },
            "type": "scattergl"
           }
          ],
          "scattermapbox": [
           {
            "marker": {
             "colorbar": {
              "outlinewidth": 0,
              "ticks": ""
             }
            },
            "type": "scattermapbox"
           }
          ],
          "scatterpolar": [
           {
            "marker": {
             "colorbar": {
              "outlinewidth": 0,
              "ticks": ""
             }
            },
            "type": "scatterpolar"
           }
          ],
          "scatterpolargl": [
           {
            "marker": {
             "colorbar": {
              "outlinewidth": 0,
              "ticks": ""
             }
            },
            "type": "scatterpolargl"
           }
          ],
          "scatterternary": [
           {
            "marker": {
             "colorbar": {
              "outlinewidth": 0,
              "ticks": ""
             }
            },
            "type": "scatterternary"
           }
          ],
          "surface": [
           {
            "colorbar": {
             "outlinewidth": 0,
             "ticks": ""
            },
            "colorscale": [
             [
              0,
              "#0d0887"
             ],
             [
              0.1111111111111111,
              "#46039f"
             ],
             [
              0.2222222222222222,
              "#7201a8"
             ],
             [
              0.3333333333333333,
              "#9c179e"
             ],
             [
              0.4444444444444444,
              "#bd3786"
             ],
             [
              0.5555555555555556,
              "#d8576b"
             ],
             [
              0.6666666666666666,
              "#ed7953"
             ],
             [
              0.7777777777777778,
              "#fb9f3a"
             ],
             [
              0.8888888888888888,
              "#fdca26"
             ],
             [
              1,
              "#f0f921"
             ]
            ],
            "type": "surface"
           }
          ],
          "table": [
           {
            "cells": {
             "fill": {
              "color": "#EBF0F8"
             },
             "line": {
              "color": "white"
             }
            },
            "header": {
             "fill": {
              "color": "#C8D4E3"
             },
             "line": {
              "color": "white"
             }
            },
            "type": "table"
           }
          ]
         },
         "layout": {
          "annotationdefaults": {
           "arrowcolor": "#2a3f5f",
           "arrowhead": 0,
           "arrowwidth": 1
          },
          "autotypenumbers": "strict",
          "coloraxis": {
           "colorbar": {
            "outlinewidth": 0,
            "ticks": ""
           }
          },
          "colorscale": {
           "diverging": [
            [
             0,
             "#8e0152"
            ],
            [
             0.1,
             "#c51b7d"
            ],
            [
             0.2,
             "#de77ae"
            ],
            [
             0.3,
             "#f1b6da"
            ],
            [
             0.4,
             "#fde0ef"
            ],
            [
             0.5,
             "#f7f7f7"
            ],
            [
             0.6,
             "#e6f5d0"
            ],
            [
             0.7,
             "#b8e186"
            ],
            [
             0.8,
             "#7fbc41"
            ],
            [
             0.9,
             "#4d9221"
            ],
            [
             1,
             "#276419"
            ]
           ],
           "sequential": [
            [
             0,
             "#0d0887"
            ],
            [
             0.1111111111111111,
             "#46039f"
            ],
            [
             0.2222222222222222,
             "#7201a8"
            ],
            [
             0.3333333333333333,
             "#9c179e"
            ],
            [
             0.4444444444444444,
             "#bd3786"
            ],
            [
             0.5555555555555556,
             "#d8576b"
            ],
            [
             0.6666666666666666,
             "#ed7953"
            ],
            [
             0.7777777777777778,
             "#fb9f3a"
            ],
            [
             0.8888888888888888,
             "#fdca26"
            ],
            [
             1,
             "#f0f921"
            ]
           ],
           "sequentialminus": [
            [
             0,
             "#0d0887"
            ],
            [
             0.1111111111111111,
             "#46039f"
            ],
            [
             0.2222222222222222,
             "#7201a8"
            ],
            [
             0.3333333333333333,
             "#9c179e"
            ],
            [
             0.4444444444444444,
             "#bd3786"
            ],
            [
             0.5555555555555556,
             "#d8576b"
            ],
            [
             0.6666666666666666,
             "#ed7953"
            ],
            [
             0.7777777777777778,
             "#fb9f3a"
            ],
            [
             0.8888888888888888,
             "#fdca26"
            ],
            [
             1,
             "#f0f921"
            ]
           ]
          },
          "colorway": [
           "#636efa",
           "#EF553B",
           "#00cc96",
           "#ab63fa",
           "#FFA15A",
           "#19d3f3",
           "#FF6692",
           "#B6E880",
           "#FF97FF",
           "#FECB52"
          ],
          "font": {
           "color": "#2a3f5f"
          },
          "geo": {
           "bgcolor": "white",
           "lakecolor": "white",
           "landcolor": "#E5ECF6",
           "showlakes": true,
           "showland": true,
           "subunitcolor": "white"
          },
          "hoverlabel": {
           "align": "left"
          },
          "hovermode": "closest",
          "mapbox": {
           "style": "light"
          },
          "paper_bgcolor": "white",
          "plot_bgcolor": "#E5ECF6",
          "polar": {
           "angularaxis": {
            "gridcolor": "white",
            "linecolor": "white",
            "ticks": ""
           },
           "bgcolor": "#E5ECF6",
           "radialaxis": {
            "gridcolor": "white",
            "linecolor": "white",
            "ticks": ""
           }
          },
          "scene": {
           "xaxis": {
            "backgroundcolor": "#E5ECF6",
            "gridcolor": "white",
            "gridwidth": 2,
            "linecolor": "white",
            "showbackground": true,
            "ticks": "",
            "zerolinecolor": "white"
           },
           "yaxis": {
            "backgroundcolor": "#E5ECF6",
            "gridcolor": "white",
            "gridwidth": 2,
            "linecolor": "white",
            "showbackground": true,
            "ticks": "",
            "zerolinecolor": "white"
           },
           "zaxis": {
            "backgroundcolor": "#E5ECF6",
            "gridcolor": "white",
            "gridwidth": 2,
            "linecolor": "white",
            "showbackground": true,
            "ticks": "",
            "zerolinecolor": "white"
           }
          },
          "shapedefaults": {
           "line": {
            "color": "#2a3f5f"
           }
          },
          "ternary": {
           "aaxis": {
            "gridcolor": "white",
            "linecolor": "white",
            "ticks": ""
           },
           "baxis": {
            "gridcolor": "white",
            "linecolor": "white",
            "ticks": ""
           },
           "bgcolor": "#E5ECF6",
           "caxis": {
            "gridcolor": "white",
            "linecolor": "white",
            "ticks": ""
           }
          },
          "title": {
           "x": 0.05
          },
          "xaxis": {
           "automargin": true,
           "gridcolor": "white",
           "linecolor": "white",
           "ticks": "",
           "title": {
            "standoff": 15
           },
           "zerolinecolor": "white",
           "zerolinewidth": 2
          },
          "yaxis": {
           "automargin": true,
           "gridcolor": "white",
           "linecolor": "white",
           "ticks": "",
           "title": {
            "standoff": 15
           },
           "zerolinecolor": "white",
           "zerolinewidth": 2
          }
         }
        },
        "title": {
         "text": "Status"
        },
        "xaxis": {
         "anchor": "y",
         "categoryarray": [
          "V&A Collection",
          "Digital Asset",
          "National Art Library Collection",
          "V&A Archive",
          "Non Collection",
          "Loan In",
          "None",
          "Image"
         ],
         "categoryorder": "array",
         "domain": [
          0,
          1
         ],
         "title": {
          "text": "Status"
         }
        },
        "yaxis": {
         "anchor": "x",
         "domain": [
          0,
          1
         ],
         "title": {
          "text": "count"
         }
        }
       }
      },
      "text/html": [
       "<div>                            <div id=\"36326ff0-83fd-4b45-86e7-6a01d9fa1da4\" class=\"plotly-graph-div\" style=\"height:525px; width:100%;\"></div>            <script type=\"text/javascript\">                require([\"plotly\"], function(Plotly) {                    window.PLOTLYENV=window.PLOTLYENV || {};                                    if (document.getElementById(\"36326ff0-83fd-4b45-86e7-6a01d9fa1da4\")) {                    Plotly.newPlot(                        \"36326ff0-83fd-4b45-86e7-6a01d9fa1da4\",                        [{\"alignmentgroup\": \"True\", \"hovertemplate\": \"Status=%{x}<br>count=%{text}<extra></extra>\", \"legendgroup\": \"V&A Collection\", \"marker\": {\"color\": \"#636efa\"}, \"name\": \"V&A Collection\", \"offsetgroup\": \"V&A Collection\", \"orientation\": \"v\", \"showlegend\": true, \"text\": [230792.0], \"textposition\": \"auto\", \"type\": \"bar\", \"x\": [\"V&A Collection\"], \"xaxis\": \"x\", \"y\": [230792], \"yaxis\": \"y\"}, {\"alignmentgroup\": \"True\", \"hovertemplate\": \"Status=%{x}<br>count=%{text}<extra></extra>\", \"legendgroup\": \"Digital Asset\", \"marker\": {\"color\": \"#EF553B\"}, \"name\": \"Digital Asset\", \"offsetgroup\": \"Digital Asset\", \"orientation\": \"v\", \"showlegend\": true, \"text\": [17827.0], \"textposition\": \"auto\", \"type\": \"bar\", \"x\": [\"Digital Asset\"], \"xaxis\": \"x\", \"y\": [17827], \"yaxis\": \"y\"}, {\"alignmentgroup\": \"True\", \"hovertemplate\": \"Status=%{x}<br>count=%{text}<extra></extra>\", \"legendgroup\": \"National Art Library Collection\", \"marker\": {\"color\": \"#00cc96\"}, \"name\": \"National Art Library Collection\", \"offsetgroup\": \"National Art Library Collection\", \"orientation\": \"v\", \"showlegend\": true, \"text\": [13003.0], \"textposition\": \"auto\", \"type\": \"bar\", \"x\": [\"National Art Library Collection\"], \"xaxis\": \"x\", \"y\": [13003], \"yaxis\": \"y\"}, {\"alignmentgroup\": \"True\", \"hovertemplate\": \"Status=%{x}<br>count=%{text}<extra></extra>\", \"legendgroup\": \"V&A Archive\", \"marker\": {\"color\": \"#ab63fa\"}, \"name\": \"V&A Archive\", \"offsetgroup\": \"V&A Archive\", \"orientation\": \"v\", \"showlegend\": true, \"text\": [8458.0], \"textposition\": \"auto\", \"type\": \"bar\", \"x\": [\"V&A Archive\"], \"xaxis\": \"x\", \"y\": [8458], \"yaxis\": \"y\"}, {\"alignmentgroup\": \"True\", \"hovertemplate\": \"Status=%{x}<br>count=%{text}<extra></extra>\", \"legendgroup\": \"Non Collection\", \"marker\": {\"color\": \"#FFA15A\"}, \"name\": \"Non Collection\", \"offsetgroup\": \"Non Collection\", \"orientation\": \"v\", \"showlegend\": true, \"text\": [969.0], \"textposition\": \"auto\", \"type\": \"bar\", \"x\": [\"Non Collection\"], \"xaxis\": \"x\", \"y\": [969], \"yaxis\": \"y\"}, {\"alignmentgroup\": \"True\", \"hovertemplate\": \"Status=%{x}<br>count=%{text}<extra></extra>\", \"legendgroup\": \"Loan In\", \"marker\": {\"color\": \"#19d3f3\"}, \"name\": \"Loan In\", \"offsetgroup\": \"Loan In\", \"orientation\": \"v\", \"showlegend\": true, \"text\": [665.0], \"textposition\": \"auto\", \"type\": \"bar\", \"x\": [\"Loan In\"], \"xaxis\": \"x\", \"y\": [665], \"yaxis\": \"y\"}, {\"alignmentgroup\": \"True\", \"hovertemplate\": \"Status=%{x}<br>count=%{text}<extra></extra>\", \"legendgroup\": \"None\", \"marker\": {\"color\": \"#FF6692\"}, \"name\": \"None\", \"offsetgroup\": \"None\", \"orientation\": \"v\", \"showlegend\": true, \"text\": [9.0], \"textposition\": \"auto\", \"type\": \"bar\", \"x\": [\"None\"], \"xaxis\": \"x\", \"y\": [9], \"yaxis\": \"y\"}, {\"alignmentgroup\": \"True\", \"hovertemplate\": \"Status=%{x}<br>count=%{text}<extra></extra>\", \"legendgroup\": \"Image\", \"marker\": {\"color\": \"#B6E880\"}, \"name\": \"Image\", \"offsetgroup\": \"Image\", \"orientation\": \"v\", \"showlegend\": true, \"text\": [2.0], \"textposition\": \"auto\", \"type\": \"bar\", \"x\": [\"Image\"], \"xaxis\": \"x\", \"y\": [2], \"yaxis\": \"y\"}],                        {\"barmode\": \"relative\", \"legend\": {\"title\": {\"text\": \"Status\"}, \"tracegroupgap\": 0}, \"template\": {\"data\": {\"bar\": [{\"error_x\": {\"color\": \"#2a3f5f\"}, \"error_y\": {\"color\": \"#2a3f5f\"}, \"marker\": {\"line\": {\"color\": \"#E5ECF6\", \"width\": 0.5}}, \"type\": \"bar\"}], \"barpolar\": [{\"marker\": {\"line\": {\"color\": \"#E5ECF6\", \"width\": 0.5}}, \"type\": \"barpolar\"}], \"carpet\": [{\"aaxis\": {\"endlinecolor\": \"#2a3f5f\", \"gridcolor\": \"white\", \"linecolor\": \"white\", \"minorgridcolor\": \"white\", \"startlinecolor\": \"#2a3f5f\"}, \"baxis\": {\"endlinecolor\": \"#2a3f5f\", \"gridcolor\": \"white\", \"linecolor\": \"white\", \"minorgridcolor\": \"white\", \"startlinecolor\": \"#2a3f5f\"}, \"type\": \"carpet\"}], \"choropleth\": [{\"colorbar\": {\"outlinewidth\": 0, \"ticks\": \"\"}, \"type\": \"choropleth\"}], \"contour\": [{\"colorbar\": {\"outlinewidth\": 0, \"ticks\": \"\"}, \"colorscale\": [[0.0, \"#0d0887\"], [0.1111111111111111, \"#46039f\"], [0.2222222222222222, \"#7201a8\"], [0.3333333333333333, \"#9c179e\"], [0.4444444444444444, \"#bd3786\"], [0.5555555555555556, \"#d8576b\"], [0.6666666666666666, \"#ed7953\"], [0.7777777777777778, \"#fb9f3a\"], [0.8888888888888888, \"#fdca26\"], [1.0, \"#f0f921\"]], \"type\": \"contour\"}], \"contourcarpet\": [{\"colorbar\": {\"outlinewidth\": 0, \"ticks\": \"\"}, \"type\": \"contourcarpet\"}], \"heatmap\": [{\"colorbar\": {\"outlinewidth\": 0, \"ticks\": \"\"}, \"colorscale\": [[0.0, \"#0d0887\"], [0.1111111111111111, \"#46039f\"], [0.2222222222222222, \"#7201a8\"], [0.3333333333333333, \"#9c179e\"], [0.4444444444444444, \"#bd3786\"], [0.5555555555555556, \"#d8576b\"], [0.6666666666666666, \"#ed7953\"], [0.7777777777777778, \"#fb9f3a\"], [0.8888888888888888, \"#fdca26\"], [1.0, \"#f0f921\"]], \"type\": \"heatmap\"}], \"heatmapgl\": [{\"colorbar\": {\"outlinewidth\": 0, \"ticks\": \"\"}, \"colorscale\": [[0.0, \"#0d0887\"], [0.1111111111111111, \"#46039f\"], [0.2222222222222222, \"#7201a8\"], [0.3333333333333333, \"#9c179e\"], [0.4444444444444444, \"#bd3786\"], [0.5555555555555556, \"#d8576b\"], [0.6666666666666666, \"#ed7953\"], [0.7777777777777778, \"#fb9f3a\"], [0.8888888888888888, \"#fdca26\"], [1.0, \"#f0f921\"]], \"type\": \"heatmapgl\"}], \"histogram\": [{\"marker\": {\"colorbar\": {\"outlinewidth\": 0, \"ticks\": \"\"}}, \"type\": \"histogram\"}], \"histogram2d\": [{\"colorbar\": {\"outlinewidth\": 0, \"ticks\": \"\"}, \"colorscale\": [[0.0, \"#0d0887\"], [0.1111111111111111, \"#46039f\"], [0.2222222222222222, \"#7201a8\"], [0.3333333333333333, \"#9c179e\"], [0.4444444444444444, \"#bd3786\"], [0.5555555555555556, \"#d8576b\"], [0.6666666666666666, \"#ed7953\"], [0.7777777777777778, \"#fb9f3a\"], [0.8888888888888888, \"#fdca26\"], [1.0, \"#f0f921\"]], \"type\": \"histogram2d\"}], \"histogram2dcontour\": [{\"colorbar\": {\"outlinewidth\": 0, \"ticks\": \"\"}, \"colorscale\": [[0.0, \"#0d0887\"], [0.1111111111111111, \"#46039f\"], [0.2222222222222222, \"#7201a8\"], [0.3333333333333333, \"#9c179e\"], [0.4444444444444444, \"#bd3786\"], [0.5555555555555556, \"#d8576b\"], [0.6666666666666666, \"#ed7953\"], [0.7777777777777778, \"#fb9f3a\"], [0.8888888888888888, \"#fdca26\"], [1.0, \"#f0f921\"]], \"type\": \"histogram2dcontour\"}], \"mesh3d\": [{\"colorbar\": {\"outlinewidth\": 0, \"ticks\": \"\"}, \"type\": \"mesh3d\"}], \"parcoords\": [{\"line\": {\"colorbar\": {\"outlinewidth\": 0, \"ticks\": \"\"}}, \"type\": \"parcoords\"}], \"pie\": [{\"automargin\": true, \"type\": \"pie\"}], \"scatter\": [{\"marker\": {\"colorbar\": {\"outlinewidth\": 0, \"ticks\": \"\"}}, \"type\": \"scatter\"}], \"scatter3d\": [{\"line\": {\"colorbar\": {\"outlinewidth\": 0, \"ticks\": \"\"}}, \"marker\": {\"colorbar\": {\"outlinewidth\": 0, \"ticks\": \"\"}}, \"type\": \"scatter3d\"}], \"scattercarpet\": [{\"marker\": {\"colorbar\": {\"outlinewidth\": 0, \"ticks\": \"\"}}, \"type\": \"scattercarpet\"}], \"scattergeo\": [{\"marker\": {\"colorbar\": {\"outlinewidth\": 0, \"ticks\": \"\"}}, \"type\": \"scattergeo\"}], \"scattergl\": [{\"marker\": {\"colorbar\": {\"outlinewidth\": 0, \"ticks\": \"\"}}, \"type\": \"scattergl\"}], \"scattermapbox\": [{\"marker\": {\"colorbar\": {\"outlinewidth\": 0, \"ticks\": \"\"}}, \"type\": \"scattermapbox\"}], \"scatterpolar\": [{\"marker\": {\"colorbar\": {\"outlinewidth\": 0, \"ticks\": \"\"}}, \"type\": \"scatterpolar\"}], \"scatterpolargl\": [{\"marker\": {\"colorbar\": {\"outlinewidth\": 0, \"ticks\": \"\"}}, \"type\": \"scatterpolargl\"}], \"scatterternary\": [{\"marker\": {\"colorbar\": {\"outlinewidth\": 0, \"ticks\": \"\"}}, \"type\": \"scatterternary\"}], \"surface\": [{\"colorbar\": {\"outlinewidth\": 0, \"ticks\": \"\"}, \"colorscale\": [[0.0, \"#0d0887\"], [0.1111111111111111, \"#46039f\"], [0.2222222222222222, \"#7201a8\"], [0.3333333333333333, \"#9c179e\"], [0.4444444444444444, \"#bd3786\"], [0.5555555555555556, \"#d8576b\"], [0.6666666666666666, \"#ed7953\"], [0.7777777777777778, \"#fb9f3a\"], [0.8888888888888888, \"#fdca26\"], [1.0, \"#f0f921\"]], \"type\": \"surface\"}], \"table\": [{\"cells\": {\"fill\": {\"color\": \"#EBF0F8\"}, \"line\": {\"color\": \"white\"}}, \"header\": {\"fill\": {\"color\": \"#C8D4E3\"}, \"line\": {\"color\": \"white\"}}, \"type\": \"table\"}]}, \"layout\": {\"annotationdefaults\": {\"arrowcolor\": \"#2a3f5f\", \"arrowhead\": 0, \"arrowwidth\": 1}, \"autotypenumbers\": \"strict\", \"coloraxis\": {\"colorbar\": {\"outlinewidth\": 0, \"ticks\": \"\"}}, \"colorscale\": {\"diverging\": [[0, \"#8e0152\"], [0.1, \"#c51b7d\"], [0.2, \"#de77ae\"], [0.3, \"#f1b6da\"], [0.4, \"#fde0ef\"], [0.5, \"#f7f7f7\"], [0.6, \"#e6f5d0\"], [0.7, \"#b8e186\"], [0.8, \"#7fbc41\"], [0.9, \"#4d9221\"], [1, \"#276419\"]], \"sequential\": [[0.0, \"#0d0887\"], [0.1111111111111111, \"#46039f\"], [0.2222222222222222, \"#7201a8\"], [0.3333333333333333, \"#9c179e\"], [0.4444444444444444, \"#bd3786\"], [0.5555555555555556, \"#d8576b\"], [0.6666666666666666, \"#ed7953\"], [0.7777777777777778, \"#fb9f3a\"], [0.8888888888888888, \"#fdca26\"], [1.0, \"#f0f921\"]], \"sequentialminus\": [[0.0, \"#0d0887\"], [0.1111111111111111, \"#46039f\"], [0.2222222222222222, \"#7201a8\"], [0.3333333333333333, \"#9c179e\"], [0.4444444444444444, \"#bd3786\"], [0.5555555555555556, \"#d8576b\"], [0.6666666666666666, \"#ed7953\"], [0.7777777777777778, \"#fb9f3a\"], [0.8888888888888888, \"#fdca26\"], [1.0, \"#f0f921\"]]}, \"colorway\": [\"#636efa\", \"#EF553B\", \"#00cc96\", \"#ab63fa\", \"#FFA15A\", \"#19d3f3\", \"#FF6692\", \"#B6E880\", \"#FF97FF\", \"#FECB52\"], \"font\": {\"color\": \"#2a3f5f\"}, \"geo\": {\"bgcolor\": \"white\", \"lakecolor\": \"white\", \"landcolor\": \"#E5ECF6\", \"showlakes\": true, \"showland\": true, \"subunitcolor\": \"white\"}, \"hoverlabel\": {\"align\": \"left\"}, \"hovermode\": \"closest\", \"mapbox\": {\"style\": \"light\"}, \"paper_bgcolor\": \"white\", \"plot_bgcolor\": \"#E5ECF6\", \"polar\": {\"angularaxis\": {\"gridcolor\": \"white\", \"linecolor\": \"white\", \"ticks\": \"\"}, \"bgcolor\": \"#E5ECF6\", \"radialaxis\": {\"gridcolor\": \"white\", \"linecolor\": \"white\", \"ticks\": \"\"}}, \"scene\": {\"xaxis\": {\"backgroundcolor\": \"#E5ECF6\", \"gridcolor\": \"white\", \"gridwidth\": 2, \"linecolor\": \"white\", \"showbackground\": true, \"ticks\": \"\", \"zerolinecolor\": \"white\"}, \"yaxis\": {\"backgroundcolor\": \"#E5ECF6\", \"gridcolor\": \"white\", \"gridwidth\": 2, \"linecolor\": \"white\", \"showbackground\": true, \"ticks\": \"\", \"zerolinecolor\": \"white\"}, \"zaxis\": {\"backgroundcolor\": \"#E5ECF6\", \"gridcolor\": \"white\", \"gridwidth\": 2, \"linecolor\": \"white\", \"showbackground\": true, \"ticks\": \"\", \"zerolinecolor\": \"white\"}}, \"shapedefaults\": {\"line\": {\"color\": \"#2a3f5f\"}}, \"ternary\": {\"aaxis\": {\"gridcolor\": \"white\", \"linecolor\": \"white\", \"ticks\": \"\"}, \"baxis\": {\"gridcolor\": \"white\", \"linecolor\": \"white\", \"ticks\": \"\"}, \"bgcolor\": \"#E5ECF6\", \"caxis\": {\"gridcolor\": \"white\", \"linecolor\": \"white\", \"ticks\": \"\"}}, \"title\": {\"x\": 0.05}, \"xaxis\": {\"automargin\": true, \"gridcolor\": \"white\", \"linecolor\": \"white\", \"ticks\": \"\", \"title\": {\"standoff\": 15}, \"zerolinecolor\": \"white\", \"zerolinewidth\": 2}, \"yaxis\": {\"automargin\": true, \"gridcolor\": \"white\", \"linecolor\": \"white\", \"ticks\": \"\", \"title\": {\"standoff\": 15}, \"zerolinecolor\": \"white\", \"zerolinewidth\": 2}}}, \"title\": {\"text\": \"Status\"}, \"xaxis\": {\"anchor\": \"y\", \"categoryarray\": [\"V&A Collection\", \"Digital Asset\", \"National Art Library Collection\", \"V&A Archive\", \"Non Collection\", \"Loan In\", \"None\", \"Image\"], \"categoryorder\": \"array\", \"domain\": [0.0, 1.0], \"title\": {\"text\": \"Status\"}}, \"yaxis\": {\"anchor\": \"x\", \"domain\": [0.0, 1.0], \"title\": {\"text\": \"count\"}}},                        {\"responsive\": true}                    ).then(function(){\n",
       "                            \n",
       "var gd = document.getElementById('36326ff0-83fd-4b45-86e7-6a01d9fa1da4');\n",
       "var x = new MutationObserver(function (mutations, observer) {{\n",
       "        var display = window.getComputedStyle(gd).display;\n",
       "        if (!display || display === 'none') {{\n",
       "            console.log([gd, 'removed!']);\n",
       "            Plotly.purge(gd);\n",
       "            observer.disconnect();\n",
       "        }}\n",
       "}});\n",
       "\n",
       "// Listen for the removal of the full notebook cells\n",
       "var notebookContainer = gd.closest('#notebook-container');\n",
       "if (notebookContainer) {{\n",
       "    x.observe(notebookContainer, {childList: true});\n",
       "}}\n",
       "\n",
       "// Listen for the clearing of the current output cell\n",
       "var outputEl = gd.closest('.output');\n",
       "if (outputEl) {{\n",
       "    x.observe(outputEl, {childList: true});\n",
       "}}\n",
       "\n",
       "                        })                };                });            </script>        </div>"
      ]
     },
     "metadata": {},
     "output_type": "display_data"
    }
   ],
   "source": [
    "figs[4].show()"
   ]
  }
 ],
 "metadata": {
  "celltoolbar": "Tags",
  "kernelspec": {
   "display_name": "Python 3 (ipykernel)",
   "language": "python",
   "name": "python3"
  },
  "language_info": {
   "codemirror_mode": {
    "name": "ipython",
    "version": 3
   },
   "file_extension": ".py",
   "mimetype": "text/x-python",
   "name": "python",
   "nbconvert_exporter": "python",
   "pygments_lexer": "ipython3",
   "version": "3.9.7"
  }
 },
 "nbformat": 4,
 "nbformat_minor": 5
}
